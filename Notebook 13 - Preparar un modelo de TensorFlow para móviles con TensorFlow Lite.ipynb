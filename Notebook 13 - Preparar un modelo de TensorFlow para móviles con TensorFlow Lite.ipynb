{
 "cells": [
  {
   "cell_type": "markdown",
   "metadata": {
    "id": "i7guNG2NSYm9"
   },
   "source": [
    "## Paso 1: Importar las dependencias"
   ]
  },
  {
   "cell_type": "code",
   "execution_count": 1,
   "metadata": {
    "colab": {
     "base_uri": "https://localhost:8080/",
     "height": 37
    },
    "id": "p3kH8SQSSA6c",
    "outputId": "fa3d5fa8-ce50-4879-cb82-5ca54373d653"
   },
   "outputs": [
    {
     "data": {
      "text/plain": [
       "'2.13.0'"
      ]
     },
     "execution_count": 1,
     "metadata": {},
     "output_type": "execute_result"
    }
   ],
   "source": [
    "import tensorflow as tf\n",
    "import numpy as np\n",
    "\n",
    "from tensorflow.keras.datasets import fashion_mnist\n",
    "\n",
    "tf.__version__"
   ]
  },
  {
   "cell_type": "markdown",
   "metadata": {
    "id": "qUemNsucSpTc"
   },
   "source": [
    "## Paso 2: Pre procesado de datos"
   ]
  },
  {
   "cell_type": "markdown",
   "metadata": {
    "id": "NTxQSWirSs2l"
   },
   "source": [
    "### Cargar el dataset de FashionMNIST"
   ]
  },
  {
   "cell_type": "code",
   "execution_count": 2,
   "metadata": {
    "colab": {
     "base_uri": "https://localhost:8080/",
     "height": 153
    },
    "id": "3s83WwJ2SnDr",
    "outputId": "08d58dc6-f6d5-4afe-e892-e281a6250c78"
   },
   "outputs": [],
   "source": [
    "(X_train, y_train), (X_test, y_test) = fashion_mnist.load_data()"
   ]
  },
  {
   "cell_type": "markdown",
   "metadata": {
    "id": "4OvP_vFiSwmc"
   },
   "source": [
    "### Normalizar las imágenes"
   ]
  },
  {
   "cell_type": "code",
   "execution_count": 3,
   "metadata": {
    "id": "rODvuie6Sz06"
   },
   "outputs": [],
   "source": [
    "X_train = X_train / 255.\n",
    "X_test = X_test / 255."
   ]
  },
  {
   "cell_type": "markdown",
   "metadata": {
    "id": "hky7XzH3S1sQ"
   },
   "source": [
    "### Redimensionar las imágenes"
   ]
  },
  {
   "cell_type": "code",
   "execution_count": 4,
   "metadata": {
    "colab": {
     "base_uri": "https://localhost:8080/",
     "height": 34
    },
    "id": "aBxZsTPBS4XJ",
    "outputId": "e604290a-b670-4c87-a703-ff8e1b5ad523"
   },
   "outputs": [
    {
     "data": {
      "text/plain": [
       "(60000, 28, 28)"
      ]
     },
     "execution_count": 4,
     "metadata": {},
     "output_type": "execute_result"
    }
   ],
   "source": [
    "X_train.shape"
   ]
  },
  {
   "cell_type": "code",
   "execution_count": 5,
   "metadata": {
    "id": "5rPdViS9T1Xb"
   },
   "outputs": [],
   "source": [
    "X_train = X_train.reshape(-1, 28*28)\n",
    "X_test = X_test.reshape(-1, 28*28)"
   ]
  },
  {
   "cell_type": "code",
   "execution_count": 6,
   "metadata": {
    "colab": {
     "base_uri": "https://localhost:8080/",
     "height": 34
    },
    "id": "Fbmf82l2UH3a",
    "outputId": "a0f2d2a4-c255-473b-fe76-77c1b20a3b00"
   },
   "outputs": [
    {
     "data": {
      "text/plain": [
       "(60000, 784)"
      ]
     },
     "execution_count": 6,
     "metadata": {},
     "output_type": "execute_result"
    }
   ],
   "source": [
    "X_train.shape"
   ]
  },
  {
   "cell_type": "markdown",
   "metadata": {
    "id": "o7g7SeZgUWCo"
   },
   "source": [
    "## Paso 3: Construir el modelo"
   ]
  },
  {
   "cell_type": "markdown",
   "metadata": {
    "id": "HfqQPaYVUY2S"
   },
   "source": [
    "### Defining the model"
   ]
  },
  {
   "cell_type": "code",
   "execution_count": 7,
   "metadata": {
    "id": "db7lvvFXUKe6"
   },
   "outputs": [],
   "source": [
    "model = tf.keras.models.Sequential()"
   ]
  },
  {
   "cell_type": "markdown",
   "metadata": {
    "id": "RrwtIwtCUa0g"
   },
   "source": [
    "### Definir el modelo"
   ]
  },
  {
   "cell_type": "code",
   "execution_count": 8,
   "metadata": {
    "id": "pnSHfe5XUcp1"
   },
   "outputs": [],
   "source": [
    "model.add(tf.keras.layers.Dense(units=128, activation='relu', input_shape=(784,)))\n",
    "model.add(tf.keras.layers.Dropout(rate=0.2))\n",
    "model.add(tf.keras.layers.Dense(units=10, activation='softmax'))"
   ]
  },
  {
   "cell_type": "markdown",
   "metadata": {
    "id": "Ed_YGh-5UdL3"
   },
   "source": [
    "### Compilar el modelo"
   ]
  },
  {
   "cell_type": "code",
   "execution_count": 9,
   "metadata": {
    "id": "JZVOTYQXUgC5"
   },
   "outputs": [],
   "source": [
    "model.compile(optimizer='adam', loss='sparse_categorical_crossentropy', metrics=['sparse_categorical_accuracy'])"
   ]
  },
  {
   "cell_type": "markdown",
   "metadata": {
    "id": "ZnV-v8ooWXPw"
   },
   "source": [
    "### Entrenar el modelo"
   ]
  },
  {
   "cell_type": "code",
   "execution_count": 11,
   "metadata": {
    "colab": {
     "base_uri": "https://localhost:8080/",
     "height": 204
    },
    "id": "oZnrU1MHVB4b",
    "outputId": "04969b5e-98b3-491e-9b0e-0ba7c1116854"
   },
   "outputs": [
    {
     "name": "stdout",
     "output_type": "stream",
     "text": [
      "Epoch 1/15\n",
      "1875/1875 [==============================] - 5s 3ms/step - loss: 0.3164 - sparse_categorical_accuracy: 0.8840\n",
      "Epoch 2/15\n",
      "1875/1875 [==============================] - 6s 3ms/step - loss: 0.3085 - sparse_categorical_accuracy: 0.8846\n",
      "Epoch 3/15\n",
      "1875/1875 [==============================] - 5s 3ms/step - loss: 0.2973 - sparse_categorical_accuracy: 0.8894\n",
      "Epoch 4/15\n",
      "1875/1875 [==============================] - 6s 3ms/step - loss: 0.2880 - sparse_categorical_accuracy: 0.8919\n",
      "Epoch 5/15\n",
      "1875/1875 [==============================] - 6s 3ms/step - loss: 0.2823 - sparse_categorical_accuracy: 0.8937\n",
      "Epoch 6/15\n",
      "1875/1875 [==============================] - 6s 3ms/step - loss: 0.2784 - sparse_categorical_accuracy: 0.8953\n",
      "Epoch 7/15\n",
      "1875/1875 [==============================] - 5s 3ms/step - loss: 0.2714 - sparse_categorical_accuracy: 0.8995\n",
      "Epoch 8/15\n",
      "1875/1875 [==============================] - 5s 3ms/step - loss: 0.2656 - sparse_categorical_accuracy: 0.9008\n",
      "Epoch 9/15\n",
      "1875/1875 [==============================] - 5s 3ms/step - loss: 0.2583 - sparse_categorical_accuracy: 0.9016\n",
      "Epoch 10/15\n",
      "1875/1875 [==============================] - 6s 3ms/step - loss: 0.2543 - sparse_categorical_accuracy: 0.9049\n",
      "Epoch 11/15\n",
      "1875/1875 [==============================] - 5s 3ms/step - loss: 0.2505 - sparse_categorical_accuracy: 0.9047\n",
      "Epoch 12/15\n",
      "1875/1875 [==============================] - 5s 3ms/step - loss: 0.2448 - sparse_categorical_accuracy: 0.9071\n",
      "Epoch 13/15\n",
      "1875/1875 [==============================] - 5s 3ms/step - loss: 0.2431 - sparse_categorical_accuracy: 0.9086\n",
      "Epoch 14/15\n",
      "1875/1875 [==============================] - 6s 3ms/step - loss: 0.2368 - sparse_categorical_accuracy: 0.9109\n",
      "Epoch 15/15\n",
      "1875/1875 [==============================] - 6s 3ms/step - loss: 0.2351 - sparse_categorical_accuracy: 0.9107\n"
     ]
    },
    {
     "data": {
      "text/plain": [
       "<keras.src.callbacks.History at 0x23590510a60>"
      ]
     },
     "execution_count": 11,
     "metadata": {},
     "output_type": "execute_result"
    }
   ],
   "source": [
    "model.fit(X_train, y_train, epochs=20)"
   ]
  },
  {
   "cell_type": "markdown",
   "metadata": {
    "id": "P2GalF1WWZDk"
   },
   "source": [
    "### Evaluar el modelo"
   ]
  },
  {
   "cell_type": "code",
   "execution_count": 12,
   "metadata": {
    "colab": {
     "base_uri": "https://localhost:8080/",
     "height": 51
    },
    "id": "zUO2saLWWa3q",
    "outputId": "0984de82-74ca-481b-a78a-9d8759300d4e"
   },
   "outputs": [
    {
     "name": "stdout",
     "output_type": "stream",
     "text": [
      "313/313 [==============================] - 1s 2ms/step - loss: 0.3369 - sparse_categorical_accuracy: 0.8864\n",
      "Precisión del conjunto de test: 0.8863999843597412\n"
     ]
    }
   ],
   "source": [
    "test_loss, test_accuracy = model.evaluate(X_test, y_test)\n",
    "print(\"Precisión del conjunto de test: {}\".format(test_accuracy))"
   ]
  },
  {
   "cell_type": "markdown",
   "metadata": {
    "id": "AV_Vnn1IXbUN"
   },
   "source": [
    "## Paso 4: Convertir el modelo a la versión de TensorFlow Lite"
   ]
  },
  {
   "cell_type": "markdown",
   "metadata": {
    "id": "bw6WoYDeXhA4"
   },
   "source": [
    "### Guardar el modelo"
   ]
  },
  {
   "cell_type": "code",
   "execution_count": 16,
   "metadata": {
    "id": "Lu3wsEWAXMFC"
   },
   "outputs": [],
   "source": [
    "model.save(\"modelo_Movil.h5\")"
   ]
  },
  {
   "cell_type": "markdown",
   "metadata": {
    "id": "Bvz3KYQWYKe2"
   },
   "source": [
    "### Crear el TFLite Converter"
   ]
  },
  {
   "cell_type": "code",
   "execution_count": 18,
   "metadata": {
    "id": "7mgW1OGcYp5b"
   },
   "outputs": [],
   "source": [
    "keras_model = tf.keras.models.load_model(\"modelo_Movil.h5\")\n",
    "converter = tf.lite.TFLiteConverter.from_keras_model(keras_model)"
   ]
  },
  {
   "cell_type": "markdown",
   "metadata": {
    "id": "R2kkEO_bZbcI"
   },
   "source": [
    "### Convertir el modelo"
   ]
  },
  {
   "cell_type": "code",
   "execution_count": 20,
   "metadata": {
    "colab": {
     "base_uri": "https://localhost:8080/",
     "height": 156
    },
    "id": "-TpOJV5mZTRC",
    "outputId": "fce0f74c-2d9e-48ea-8195-83bc7b574fba"
   },
   "outputs": [
    {
     "name": "stdout",
     "output_type": "stream",
     "text": [
      "INFO:tensorflow:Assets written to: C:\\Users\\josue\\AppData\\Local\\Temp\\tmpprlms_en\\assets\n"
     ]
    },
    {
     "name": "stderr",
     "output_type": "stream",
     "text": [
      "INFO:tensorflow:Assets written to: C:\\Users\\josue\\AppData\\Local\\Temp\\tmpprlms_en\\assets\n"
     ]
    }
   ],
   "source": [
    "tflite_model = converter.convert()"
   ]
  },
  {
   "cell_type": "markdown",
   "metadata": {
    "id": "dXHT978hZzX3"
   },
   "source": [
    "### Guardar la versión de TFLite version del modelo"
   ]
  },
  {
   "cell_type": "code",
   "execution_count": 21,
   "metadata": {
    "id": "9jqZ2zpmZnez"
   },
   "outputs": [],
   "source": [
    "with open(\"tf_model.tflite\", \"wb\") as f:\n",
    "  f.write(tflite_model)"
   ]
  },
  {
   "cell_type": "markdown",
   "metadata": {},
   "source": [
    "Las Redes Neuronales pueden ser enormes y computacionalmente muy costosas, por lo que muchas de estas arquitecturas es imposible que puedan ejecutarse en dispositivos móviles. Para solventar este problema ha nacido la librería TensorFlow Lite - que se utiliza para optimizar el modelo de varios modos para que puedan ejecutarse y formar parte de cualquier app en un dispositivo móvil.\n",
    "\n",
    "En esta sección, hemos completado la parte que cualquier ingeniero de Deep Learning haría - crear un modelo, entrenarlo y optimizarlo para dispositivos móviles. \n",
    "\n",
    "Para tener un panorama completo, aquí hay un par de links adicionales para cubrir también la parte del desarrollo móvil. D\n",
    "\n",
    "1. Cargar un modelo entrenado en tu dispositivo Android:\n",
    "\n",
    "https://medium.com/@rdeep/tensorflow-lite-tutorial-easy-implementation-in-android-145443ec3775\n",
    "\n",
    "2. Tutorial avanzado de la compilación en teléfonos móviles:\n",
    "\n",
    "https://heartbeat.fritz.ai/neural-networks-on-mobile-devices-with-tensorflow-lite-a-tutorial-85b41f53230c\n",
    "\n",
    "3. Modelos pre entrenados en TensorFlow Lite y sus aplicaciones:\n",
    "\n",
    "https://www.tensorflow.org/lite/examples/\n",
    "\n",
    "4. Guía oficial de TensorFlow Lite:\n",
    "\n",
    "https://www.tensorflow.org/lite/guide"
   ]
  }
 ],
 "metadata": {
  "accelerator": "GPU",
  "colab": {
   "collapsed_sections": [],
   "name": "Collab 13 - Preparar un modelo de TensorFlow para móviles con TensorFlow Lite.ipynb",
   "provenance": []
  },
  "kernelspec": {
   "display_name": "Python 3 (ipykernel)",
   "language": "python",
   "name": "python3"
  },
  "language_info": {
   "codemirror_mode": {
    "name": "ipython",
    "version": 3
   },
   "file_extension": ".py",
   "mimetype": "text/x-python",
   "name": "python",
   "nbconvert_exporter": "python",
   "pygments_lexer": "ipython3",
   "version": "3.9.16"
  }
 },
 "nbformat": 4,
 "nbformat_minor": 1
}
