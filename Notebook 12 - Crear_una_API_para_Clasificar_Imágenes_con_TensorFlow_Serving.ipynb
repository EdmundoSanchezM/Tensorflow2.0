{
  "nbformat": 4,
  "nbformat_minor": 0,
  "metadata": {
    "accelerator": "GPU",
    "colab": {
      "provenance": []
    },
    "kernelspec": {
      "display_name": "Python 3",
      "language": "python",
      "name": "python3"
    },
    "language_info": {
      "codemirror_mode": {
        "name": "ipython",
        "version": 3
      },
      "file_extension": ".py",
      "mimetype": "text/x-python",
      "name": "python",
      "nbconvert_exporter": "python",
      "pygments_lexer": "ipython3",
      "version": "3.8.5"
    }
  },
  "cells": [
    {
      "cell_type": "markdown",
      "metadata": {
        "id": "kWbUYy4Huos_"
      },
      "source": [
        "Debe de ser corrido en un entorno Linux"
      ]
    },
    {
      "cell_type": "markdown",
      "metadata": {
        "id": "yCrzPgLp7W1h"
      },
      "source": [
        "## Paso 1: Instalar las dependencias y configurar el proyecto en GPU\n"
      ]
    },
    {
      "cell_type": "code",
      "metadata": {
        "id": "w0KGbZuk7T7F",
        "outputId": "0317905f-c790-497b-d188-c43bfb031f9c",
        "colab": {
          "base_uri": "https://localhost:8080/"
        }
      },
      "source": [
        "!echo \"deb http://storage.googleapis.com/tensorflow-serving-apt stable tensorflow-model-server tensorflow-model-server-universal\" | tee /etc/apt/sources.list.d/tensorflow-serving.list && \\\n",
        "curl https://storage.googleapis.com/tensorflow-serving-apt/tensorflow-serving.release.pub.gpg | apt-key add -\n",
        "!apt update"
      ],
      "execution_count": 1,
      "outputs": [
        {
          "output_type": "stream",
          "name": "stdout",
          "text": [
            "deb http://storage.googleapis.com/tensorflow-serving-apt stable tensorflow-model-server tensorflow-model-server-universal\n",
            "  % Total    % Received % Xferd  Average Speed   Time    Time     Time  Current\n",
            "                                 Dload  Upload   Total   Spent    Left  Speed\n",
            "  0     0    0     0    0     0      0      0 --:--:-- --:--:-- --:--:--     0Warning: apt-key is deprecated. Manage keyring files in trusted.gpg.d instead (see apt-key(8)).\n",
            "100  2943  100  2943    0     0   7442      0 --:--:-- --:--:-- --:--:--  7431\n",
            "OK\n",
            "Hit:1 http://storage.googleapis.com/tensorflow-serving-apt stable InRelease\n",
            "Hit:2 https://cloud.r-project.org/bin/linux/ubuntu jammy-cran40/ InRelease\n",
            "Hit:3 https://developer.download.nvidia.com/compute/cuda/repos/ubuntu2204/x86_64  InRelease\n",
            "Hit:4 http://archive.ubuntu.com/ubuntu jammy InRelease\n",
            "Get:5 http://security.ubuntu.com/ubuntu jammy-security InRelease [110 kB]\n",
            "Get:6 http://archive.ubuntu.com/ubuntu jammy-updates InRelease [119 kB]\n",
            "Hit:7 https://ppa.launchpadcontent.net/c2d4u.team/c2d4u4.0+/ubuntu jammy InRelease\n",
            "Get:8 http://archive.ubuntu.com/ubuntu jammy-backports InRelease [109 kB]\n",
            "Hit:9 https://ppa.launchpadcontent.net/deadsnakes/ppa/ubuntu jammy InRelease\n",
            "Hit:10 https://ppa.launchpadcontent.net/graphics-drivers/ppa/ubuntu jammy InRelease\n",
            "Hit:11 https://ppa.launchpadcontent.net/ubuntugis/ppa/ubuntu jammy InRelease\n",
            "Fetched 338 kB in 3s (114 kB/s)\n",
            "Reading package lists... Done\n",
            "Building dependency tree... Done\n",
            "Reading state information... Done\n",
            "20 packages can be upgraded. Run 'apt list --upgradable' to see them.\n",
            "\u001b[1;33mW: \u001b[0mhttp://storage.googleapis.com/tensorflow-serving-apt/dists/stable/InRelease: Key is stored in legacy trusted.gpg keyring (/etc/apt/trusted.gpg), see the DEPRECATION section in apt-key(8) for details.\u001b[0m\n"
          ]
        }
      ]
    },
    {
      "cell_type": "code",
      "metadata": {
        "id": "-AoEpKnD94Lj",
        "outputId": "958ad8de-a3d5-41a9-94f3-48b2e807aea0",
        "colab": {
          "base_uri": "https://localhost:8080/"
        }
      },
      "source": [
        "!apt-get install tensorflow-model-server"
      ],
      "execution_count": 2,
      "outputs": [
        {
          "output_type": "stream",
          "name": "stdout",
          "text": [
            "Reading package lists... Done\n",
            "Building dependency tree... Done\n",
            "Reading state information... Done\n",
            "tensorflow-model-server is already the newest version (2.13.0).\n",
            "0 upgraded, 0 newly installed, 0 to remove and 20 not upgraded.\n"
          ]
        }
      ]
    },
    {
      "cell_type": "code",
      "metadata": {
        "id": "a1cAehxr-M9p"
      },
      "source": [
        "#!pip install tensorflow-gpu==1.13.1"
      ],
      "execution_count": 3,
      "outputs": []
    },
    {
      "cell_type": "code",
      "metadata": {
        "id": "zfxOPCl7-Wp7",
        "outputId": "39c2f2fc-cd54-4b1d-f745-9adb6d876224",
        "colab": {
          "base_uri": "https://localhost:8080/"
        }
      },
      "source": [
        "!pip install requests"
      ],
      "execution_count": 4,
      "outputs": [
        {
          "output_type": "stream",
          "name": "stdout",
          "text": [
            "Requirement already satisfied: requests in /usr/local/lib/python3.10/dist-packages (2.27.1)\n",
            "Requirement already satisfied: urllib3<1.27,>=1.21.1 in /usr/local/lib/python3.10/dist-packages (from requests) (1.26.16)\n",
            "Requirement already satisfied: certifi>=2017.4.17 in /usr/local/lib/python3.10/dist-packages (from requests) (2023.7.22)\n",
            "Requirement already satisfied: charset-normalizer~=2.0.0 in /usr/local/lib/python3.10/dist-packages (from requests) (2.0.12)\n",
            "Requirement already satisfied: idna<4,>=2.5 in /usr/local/lib/python3.10/dist-packages (from requests) (3.4)\n"
          ]
        }
      ]
    },
    {
      "cell_type": "markdown",
      "metadata": {
        "id": "qsgbM_R2-ud_"
      },
      "source": [
        "## Paso 2: Importar las dependencias del proyecto"
      ]
    },
    {
      "cell_type": "code",
      "metadata": {
        "id": "Y3taHerg-nkS",
        "outputId": "632898d4-df1a-4dd9-8a0c-8966b4aea899",
        "colab": {
          "base_uri": "https://localhost:8080/",
          "height": 35
        }
      },
      "source": [
        "import os\n",
        "import json\n",
        "import random\n",
        "import requests\n",
        "import subprocess\n",
        "import numpy as np\n",
        "import tensorflow as tf\n",
        "import matplotlib.pyplot as plt\n",
        "\n",
        "from tensorflow.keras.datasets import cifar10\n",
        "\n",
        "%matplotlib inline\n",
        "tf.__version__"
      ],
      "execution_count": 5,
      "outputs": [
        {
          "output_type": "execute_result",
          "data": {
            "text/plain": [
              "'2.12.0'"
            ],
            "application/vnd.google.colaboratory.intrinsic+json": {
              "type": "string"
            }
          },
          "metadata": {},
          "execution_count": 5
        }
      ]
    },
    {
      "cell_type": "markdown",
      "metadata": {
        "id": "90mWV1g6_TSt"
      },
      "source": [
        "## Paso 3: Pre procesado de los datos"
      ]
    },
    {
      "cell_type": "markdown",
      "metadata": {
        "id": "dJsURBeA_XEe"
      },
      "source": [
        "### Cargar el dataset"
      ]
    },
    {
      "cell_type": "code",
      "metadata": {
        "id": "FVgkziGT_RQZ"
      },
      "source": [
        "(X_train, y_train), (X_test, y_test) = cifar10.load_data()"
      ],
      "execution_count": 6,
      "outputs": []
    },
    {
      "cell_type": "code",
      "metadata": {
        "id": "hqOyARxY_kC2"
      },
      "source": [
        "class_names = ['avión', 'coche', 'pájaro', 'gato', 'ciervo', 'perro', 'rana', 'caballo', 'barco', 'camión']"
      ],
      "execution_count": 7,
      "outputs": []
    },
    {
      "cell_type": "markdown",
      "metadata": {
        "id": "B_adA5GI_ZGK"
      },
      "source": [
        "### Normalización de imágenes"
      ]
    },
    {
      "cell_type": "code",
      "metadata": {
        "id": "VK4HUwLC_akD"
      },
      "source": [
        "X_train = X_train / 255.0\n",
        "X_test = X_test / 255.0"
      ],
      "execution_count": 8,
      "outputs": []
    },
    {
      "cell_type": "code",
      "metadata": {
        "id": "Q2A1OrRg_bD8",
        "outputId": "78940537-93f6-4ebb-eb07-0eb606f6ac94",
        "colab": {
          "base_uri": "https://localhost:8080/"
        }
      },
      "source": [
        "X_train.shape"
      ],
      "execution_count": 9,
      "outputs": [
        {
          "output_type": "execute_result",
          "data": {
            "text/plain": [
              "(50000, 32, 32, 3)"
            ]
          },
          "metadata": {},
          "execution_count": 9
        }
      ]
    },
    {
      "cell_type": "markdown",
      "metadata": {
        "id": "HO6nL_9sBLPo"
      },
      "source": [
        "## Paso 4: Definir el modelo\n",
        "\n",
        "NOTA: Vamos a usar el mismo modelo que creamos en la Sección de Redes Neuronales Convolucionales"
      ]
    },
    {
      "cell_type": "code",
      "metadata": {
        "id": "FHyAvU8OA_aq"
      },
      "source": [
        "model = tf.keras.models.Sequential()\n",
        "model.add(tf.keras.layers.Conv2D(filters=32, kernel_size=3, padding=\"same\", activation=\"relu\", input_shape=[32, 32, 3]))\n",
        "model.add(tf.keras.layers.Conv2D(filters=32, kernel_size=3, padding=\"same\", activation=\"relu\"))\n",
        "model.add(tf.keras.layers.MaxPool2D(pool_size=2, strides=2, padding='valid'))\n",
        "model.add(tf.keras.layers.Conv2D(filters=64, kernel_size=3, padding=\"same\", activation=\"relu\"))\n",
        "model.add(tf.keras.layers.Conv2D(filters=64, kernel_size=3, padding=\"same\", activation=\"relu\"))\n",
        "model.add(tf.keras.layers.MaxPool2D(pool_size=2, strides=2, padding='valid'))\n",
        "model.add(tf.keras.layers.Conv2D(filters=128, kernel_size=3, padding=\"same\", activation=\"relu\"))\n",
        "model.add(tf.keras.layers.Conv2D(filters=128, kernel_size=3, padding=\"same\", activation=\"relu\"))\n",
        "model.add(tf.keras.layers.MaxPool2D(pool_size=2, strides=2, padding='valid'))\n",
        "model.add(tf.keras.layers.Flatten())\n",
        "model.add(tf.keras.layers.Dense(units=256, activation='relu'))\n",
        "model.add(tf.keras.layers.Dropout(0.2))\n",
        "model.add(tf.keras.layers.Dense(units=128, activation='relu'))\n",
        "model.add(tf.keras.layers.Dense(units=128, activation='relu'))\n",
        "model.add(tf.keras.layers.Dense(units=10, activation='softmax'))"
      ],
      "execution_count": 37,
      "outputs": []
    },
    {
      "cell_type": "markdown",
      "metadata": {
        "id": "J-7vFhykBgMj"
      },
      "source": [
        "### Compilar el modelo"
      ]
    },
    {
      "cell_type": "code",
      "metadata": {
        "id": "5nqrVFn3BkeS"
      },
      "source": [
        "model.compile(optimizer='Adam',\n",
        "              loss='sparse_categorical_crossentropy',\n",
        "              metrics=['sparse_categorical_accuracy'])"
      ],
      "execution_count": 38,
      "outputs": []
    },
    {
      "cell_type": "markdown",
      "metadata": {
        "id": "JJ1X_hgBBmx9"
      },
      "source": [
        "###  Entrenar el modelo"
      ]
    },
    {
      "cell_type": "code",
      "metadata": {
        "id": "I7FSeHUkBpUq",
        "outputId": "467023c2-8abb-4784-8f2a-c51a5bbdda28",
        "colab": {
          "base_uri": "https://localhost:8080/"
        }
      },
      "source": [
        "model.fit(X_train,\n",
        "          y_train,\n",
        "          batch_size=128,\n",
        "          epochs=100)"
      ],
      "execution_count": 39,
      "outputs": [
        {
          "output_type": "stream",
          "name": "stdout",
          "text": [
            "Epoch 1/100\n",
            "391/391 [==============================] - 8s 12ms/step - loss: 1.6971 - sparse_categorical_accuracy: 0.3614\n",
            "Epoch 2/100\n",
            "391/391 [==============================] - 5s 12ms/step - loss: 1.2199 - sparse_categorical_accuracy: 0.5549\n",
            "Epoch 3/100\n",
            "391/391 [==============================] - 5s 12ms/step - loss: 0.9686 - sparse_categorical_accuracy: 0.6550\n",
            "Epoch 4/100\n",
            "391/391 [==============================] - 5s 12ms/step - loss: 0.8107 - sparse_categorical_accuracy: 0.7140\n",
            "Epoch 5/100\n",
            "391/391 [==============================] - 5s 12ms/step - loss: 0.6933 - sparse_categorical_accuracy: 0.7581\n",
            "Epoch 6/100\n",
            "391/391 [==============================] - 5s 12ms/step - loss: 0.5951 - sparse_categorical_accuracy: 0.7930\n",
            "Epoch 7/100\n",
            "391/391 [==============================] - 5s 12ms/step - loss: 0.5064 - sparse_categorical_accuracy: 0.8215\n",
            "Epoch 8/100\n",
            "391/391 [==============================] - 5s 12ms/step - loss: 0.4398 - sparse_categorical_accuracy: 0.8438\n",
            "Epoch 9/100\n",
            "391/391 [==============================] - 5s 12ms/step - loss: 0.3810 - sparse_categorical_accuracy: 0.8667\n",
            "Epoch 10/100\n",
            "391/391 [==============================] - 5s 12ms/step - loss: 0.3288 - sparse_categorical_accuracy: 0.8841\n",
            "Epoch 11/100\n",
            "391/391 [==============================] - 5s 12ms/step - loss: 0.2812 - sparse_categorical_accuracy: 0.9005\n",
            "Epoch 12/100\n",
            "391/391 [==============================] - 5s 13ms/step - loss: 0.2488 - sparse_categorical_accuracy: 0.9100\n",
            "Epoch 13/100\n",
            "391/391 [==============================] - 5s 12ms/step - loss: 0.2193 - sparse_categorical_accuracy: 0.9216\n",
            "Epoch 14/100\n",
            "391/391 [==============================] - 5s 12ms/step - loss: 0.2061 - sparse_categorical_accuracy: 0.9263\n",
            "Epoch 15/100\n",
            "391/391 [==============================] - 5s 12ms/step - loss: 0.1868 - sparse_categorical_accuracy: 0.9343\n",
            "Epoch 16/100\n",
            "391/391 [==============================] - 5s 12ms/step - loss: 0.1613 - sparse_categorical_accuracy: 0.9435\n",
            "Epoch 17/100\n",
            "391/391 [==============================] - 5s 13ms/step - loss: 0.1451 - sparse_categorical_accuracy: 0.9503\n",
            "Epoch 18/100\n",
            "391/391 [==============================] - 5s 12ms/step - loss: 0.1363 - sparse_categorical_accuracy: 0.9528\n",
            "Epoch 19/100\n",
            "391/391 [==============================] - 5s 12ms/step - loss: 0.1342 - sparse_categorical_accuracy: 0.9534\n",
            "Epoch 20/100\n",
            "391/391 [==============================] - 5s 12ms/step - loss: 0.1244 - sparse_categorical_accuracy: 0.9577\n",
            "Epoch 21/100\n",
            "391/391 [==============================] - 5s 12ms/step - loss: 0.1199 - sparse_categorical_accuracy: 0.9590\n",
            "Epoch 22/100\n",
            "391/391 [==============================] - 5s 12ms/step - loss: 0.1148 - sparse_categorical_accuracy: 0.9607\n",
            "Epoch 23/100\n",
            "391/391 [==============================] - 5s 12ms/step - loss: 0.1042 - sparse_categorical_accuracy: 0.9650\n",
            "Epoch 24/100\n",
            "391/391 [==============================] - 5s 12ms/step - loss: 0.1024 - sparse_categorical_accuracy: 0.9652\n",
            "Epoch 25/100\n",
            "391/391 [==============================] - 5s 12ms/step - loss: 0.1012 - sparse_categorical_accuracy: 0.9656\n",
            "Epoch 26/100\n",
            "391/391 [==============================] - 5s 12ms/step - loss: 0.0983 - sparse_categorical_accuracy: 0.9670\n",
            "Epoch 27/100\n",
            "391/391 [==============================] - 5s 12ms/step - loss: 0.0935 - sparse_categorical_accuracy: 0.9687\n",
            "Epoch 28/100\n",
            "391/391 [==============================] - 5s 12ms/step - loss: 0.0852 - sparse_categorical_accuracy: 0.9721\n",
            "Epoch 29/100\n",
            "391/391 [==============================] - 5s 12ms/step - loss: 0.0921 - sparse_categorical_accuracy: 0.9684\n",
            "Epoch 30/100\n",
            "391/391 [==============================] - 5s 13ms/step - loss: 0.0907 - sparse_categorical_accuracy: 0.9696\n",
            "Epoch 31/100\n",
            "391/391 [==============================] - 5s 12ms/step - loss: 0.0807 - sparse_categorical_accuracy: 0.9735\n",
            "Epoch 32/100\n",
            "391/391 [==============================] - 5s 12ms/step - loss: 0.0863 - sparse_categorical_accuracy: 0.9710\n",
            "Epoch 33/100\n",
            "391/391 [==============================] - 5s 13ms/step - loss: 0.0792 - sparse_categorical_accuracy: 0.9725\n",
            "Epoch 34/100\n",
            "391/391 [==============================] - 5s 12ms/step - loss: 0.0831 - sparse_categorical_accuracy: 0.9721\n",
            "Epoch 35/100\n",
            "391/391 [==============================] - 5s 12ms/step - loss: 0.0787 - sparse_categorical_accuracy: 0.9741\n",
            "Epoch 36/100\n",
            "391/391 [==============================] - 5s 12ms/step - loss: 0.0678 - sparse_categorical_accuracy: 0.9774\n",
            "Epoch 37/100\n",
            "391/391 [==============================] - 5s 12ms/step - loss: 0.0777 - sparse_categorical_accuracy: 0.9743\n",
            "Epoch 38/100\n",
            "391/391 [==============================] - 5s 13ms/step - loss: 0.0672 - sparse_categorical_accuracy: 0.9778\n",
            "Epoch 39/100\n",
            "391/391 [==============================] - 5s 12ms/step - loss: 0.0773 - sparse_categorical_accuracy: 0.9737\n",
            "Epoch 40/100\n",
            "391/391 [==============================] - 5s 12ms/step - loss: 0.0662 - sparse_categorical_accuracy: 0.9777\n",
            "Epoch 41/100\n",
            "391/391 [==============================] - 5s 12ms/step - loss: 0.0672 - sparse_categorical_accuracy: 0.9779\n",
            "Epoch 42/100\n",
            "391/391 [==============================] - 5s 12ms/step - loss: 0.0689 - sparse_categorical_accuracy: 0.9774\n",
            "Epoch 43/100\n",
            "391/391 [==============================] - 5s 13ms/step - loss: 0.0669 - sparse_categorical_accuracy: 0.9779\n",
            "Epoch 44/100\n",
            "391/391 [==============================] - 5s 12ms/step - loss: 0.0648 - sparse_categorical_accuracy: 0.9785\n",
            "Epoch 45/100\n",
            "391/391 [==============================] - 5s 12ms/step - loss: 0.0610 - sparse_categorical_accuracy: 0.9797\n",
            "Epoch 46/100\n",
            "391/391 [==============================] - 5s 12ms/step - loss: 0.0603 - sparse_categorical_accuracy: 0.9803\n",
            "Epoch 47/100\n",
            "391/391 [==============================] - 5s 12ms/step - loss: 0.0620 - sparse_categorical_accuracy: 0.9798\n",
            "Epoch 48/100\n",
            "391/391 [==============================] - 5s 13ms/step - loss: 0.0602 - sparse_categorical_accuracy: 0.9806\n",
            "Epoch 49/100\n",
            "391/391 [==============================] - 5s 12ms/step - loss: 0.0573 - sparse_categorical_accuracy: 0.9812\n",
            "Epoch 50/100\n",
            "391/391 [==============================] - 5s 12ms/step - loss: 0.0649 - sparse_categorical_accuracy: 0.9793\n",
            "Epoch 51/100\n",
            "391/391 [==============================] - 5s 12ms/step - loss: 0.0601 - sparse_categorical_accuracy: 0.9803\n",
            "Epoch 52/100\n",
            "391/391 [==============================] - 5s 12ms/step - loss: 0.0635 - sparse_categorical_accuracy: 0.9796\n",
            "Epoch 53/100\n",
            "391/391 [==============================] - 5s 12ms/step - loss: 0.0547 - sparse_categorical_accuracy: 0.9820\n",
            "Epoch 54/100\n",
            "391/391 [==============================] - 5s 12ms/step - loss: 0.0535 - sparse_categorical_accuracy: 0.9823\n",
            "Epoch 55/100\n",
            "391/391 [==============================] - 5s 12ms/step - loss: 0.0561 - sparse_categorical_accuracy: 0.9826\n",
            "Epoch 56/100\n",
            "391/391 [==============================] - 5s 12ms/step - loss: 0.0570 - sparse_categorical_accuracy: 0.9819\n",
            "Epoch 57/100\n",
            "391/391 [==============================] - 5s 12ms/step - loss: 0.0552 - sparse_categorical_accuracy: 0.9824\n",
            "Epoch 58/100\n",
            "391/391 [==============================] - 5s 13ms/step - loss: 0.0530 - sparse_categorical_accuracy: 0.9832\n",
            "Epoch 59/100\n",
            "391/391 [==============================] - 5s 12ms/step - loss: 0.0560 - sparse_categorical_accuracy: 0.9819\n",
            "Epoch 60/100\n",
            "391/391 [==============================] - 5s 12ms/step - loss: 0.0565 - sparse_categorical_accuracy: 0.9819\n",
            "Epoch 61/100\n",
            "391/391 [==============================] - 5s 13ms/step - loss: 0.0461 - sparse_categorical_accuracy: 0.9857\n",
            "Epoch 62/100\n",
            "391/391 [==============================] - 5s 12ms/step - loss: 0.0568 - sparse_categorical_accuracy: 0.9817\n",
            "Epoch 63/100\n",
            "391/391 [==============================] - 5s 12ms/step - loss: 0.0542 - sparse_categorical_accuracy: 0.9829\n",
            "Epoch 64/100\n",
            "391/391 [==============================] - 5s 12ms/step - loss: 0.0504 - sparse_categorical_accuracy: 0.9839\n",
            "Epoch 65/100\n",
            "391/391 [==============================] - 5s 12ms/step - loss: 0.0548 - sparse_categorical_accuracy: 0.9824\n",
            "Epoch 66/100\n",
            "391/391 [==============================] - 5s 12ms/step - loss: 0.0502 - sparse_categorical_accuracy: 0.9840\n",
            "Epoch 67/100\n",
            "391/391 [==============================] - 5s 12ms/step - loss: 0.0508 - sparse_categorical_accuracy: 0.9845\n",
            "Epoch 68/100\n",
            "391/391 [==============================] - 5s 12ms/step - loss: 0.0460 - sparse_categorical_accuracy: 0.9851\n",
            "Epoch 69/100\n",
            "391/391 [==============================] - 5s 12ms/step - loss: 0.0480 - sparse_categorical_accuracy: 0.9842\n",
            "Epoch 70/100\n",
            "391/391 [==============================] - 5s 12ms/step - loss: 0.0497 - sparse_categorical_accuracy: 0.9845\n",
            "Epoch 71/100\n",
            "391/391 [==============================] - 5s 12ms/step - loss: 0.0468 - sparse_categorical_accuracy: 0.9845\n",
            "Epoch 72/100\n",
            "391/391 [==============================] - 5s 12ms/step - loss: 0.0486 - sparse_categorical_accuracy: 0.9850\n",
            "Epoch 73/100\n",
            "391/391 [==============================] - 5s 12ms/step - loss: 0.0454 - sparse_categorical_accuracy: 0.9856\n",
            "Epoch 74/100\n",
            "391/391 [==============================] - 5s 13ms/step - loss: 0.0522 - sparse_categorical_accuracy: 0.9841\n",
            "Epoch 75/100\n",
            "391/391 [==============================] - 5s 12ms/step - loss: 0.0442 - sparse_categorical_accuracy: 0.9866\n",
            "Epoch 76/100\n",
            "391/391 [==============================] - 5s 12ms/step - loss: 0.0516 - sparse_categorical_accuracy: 0.9836\n",
            "Epoch 77/100\n",
            "391/391 [==============================] - 5s 12ms/step - loss: 0.0478 - sparse_categorical_accuracy: 0.9855\n",
            "Epoch 78/100\n",
            "391/391 [==============================] - 5s 12ms/step - loss: 0.0488 - sparse_categorical_accuracy: 0.9857\n",
            "Epoch 79/100\n",
            "391/391 [==============================] - 5s 12ms/step - loss: 0.0420 - sparse_categorical_accuracy: 0.9874\n",
            "Epoch 80/100\n",
            "391/391 [==============================] - 5s 12ms/step - loss: 0.0398 - sparse_categorical_accuracy: 0.9879\n",
            "Epoch 81/100\n",
            "391/391 [==============================] - 5s 12ms/step - loss: 0.0455 - sparse_categorical_accuracy: 0.9856\n",
            "Epoch 82/100\n",
            "391/391 [==============================] - 5s 12ms/step - loss: 0.0478 - sparse_categorical_accuracy: 0.9855\n",
            "Epoch 83/100\n",
            "391/391 [==============================] - 5s 12ms/step - loss: 0.0405 - sparse_categorical_accuracy: 0.9877\n",
            "Epoch 84/100\n",
            "391/391 [==============================] - 5s 12ms/step - loss: 0.0470 - sparse_categorical_accuracy: 0.9863\n",
            "Epoch 85/100\n",
            "391/391 [==============================] - 5s 12ms/step - loss: 0.0398 - sparse_categorical_accuracy: 0.9875\n",
            "Epoch 86/100\n",
            "391/391 [==============================] - 5s 12ms/step - loss: 0.0460 - sparse_categorical_accuracy: 0.9860\n",
            "Epoch 87/100\n",
            "391/391 [==============================] - 5s 12ms/step - loss: 0.0428 - sparse_categorical_accuracy: 0.9864\n",
            "Epoch 88/100\n",
            "391/391 [==============================] - 5s 12ms/step - loss: 0.0466 - sparse_categorical_accuracy: 0.9859\n",
            "Epoch 89/100\n",
            "391/391 [==============================] - 5s 12ms/step - loss: 0.0359 - sparse_categorical_accuracy: 0.9892\n",
            "Epoch 90/100\n",
            "391/391 [==============================] - 5s 14ms/step - loss: 0.0367 - sparse_categorical_accuracy: 0.9888\n",
            "Epoch 91/100\n",
            "391/391 [==============================] - 5s 12ms/step - loss: 0.0426 - sparse_categorical_accuracy: 0.9871\n",
            "Epoch 92/100\n",
            "391/391 [==============================] - 5s 12ms/step - loss: 0.0451 - sparse_categorical_accuracy: 0.9864\n",
            "Epoch 93/100\n",
            "391/391 [==============================] - 5s 12ms/step - loss: 0.0390 - sparse_categorical_accuracy: 0.9891\n",
            "Epoch 94/100\n",
            "391/391 [==============================] - 5s 12ms/step - loss: 0.0412 - sparse_categorical_accuracy: 0.9872\n",
            "Epoch 95/100\n",
            "391/391 [==============================] - 5s 12ms/step - loss: 0.0522 - sparse_categorical_accuracy: 0.9852\n",
            "Epoch 96/100\n",
            "391/391 [==============================] - 5s 12ms/step - loss: 0.0396 - sparse_categorical_accuracy: 0.9880\n",
            "Epoch 97/100\n",
            "391/391 [==============================] - 5s 12ms/step - loss: 0.0405 - sparse_categorical_accuracy: 0.9872\n",
            "Epoch 98/100\n",
            "391/391 [==============================] - 5s 12ms/step - loss: 0.0424 - sparse_categorical_accuracy: 0.9875\n",
            "Epoch 99/100\n",
            "391/391 [==============================] - 5s 12ms/step - loss: 0.0429 - sparse_categorical_accuracy: 0.9871\n",
            "Epoch 100/100\n",
            "391/391 [==============================] - 5s 12ms/step - loss: 0.0369 - sparse_categorical_accuracy: 0.9887\n"
          ]
        },
        {
          "output_type": "execute_result",
          "data": {
            "text/plain": [
              "<keras.callbacks.History at 0x7cfdb318be20>"
            ]
          },
          "metadata": {},
          "execution_count": 39
        }
      ]
    },
    {
      "cell_type": "markdown",
      "metadata": {
        "id": "g6k_gnv5BqdT"
      },
      "source": [
        "### Evaluar el modelo"
      ]
    },
    {
      "cell_type": "code",
      "metadata": {
        "id": "l0nHalVeBtAy",
        "outputId": "527b136f-a303-4779-e2fc-40d685ec9d21",
        "colab": {
          "base_uri": "https://localhost:8080/"
        }
      },
      "source": [
        "test_loss, test_accuracy = model.evaluate(X_test, y_test)"
      ],
      "execution_count": 40,
      "outputs": [
        {
          "output_type": "stream",
          "name": "stdout",
          "text": [
            "313/313 [==============================] - 1s 4ms/step - loss: 1.5277 - sparse_categorical_accuracy: 0.7902\n"
          ]
        }
      ]
    },
    {
      "cell_type": "code",
      "metadata": {
        "id": "u9q7jsTuBuxT",
        "outputId": "dda7877c-0863-4de6-b3f0-21342e36d53c",
        "colab": {
          "base_uri": "https://localhost:8080/"
        }
      },
      "source": [
        "print(\"La precisión del modelo es de {} %\".format(test_accuracy*100.0))"
      ],
      "execution_count": 41,
      "outputs": [
        {
          "output_type": "stream",
          "name": "stdout",
          "text": [
            "La precisión del modelo es de 79.01999950408936 %\n"
          ]
        }
      ]
    },
    {
      "cell_type": "markdown",
      "metadata": {
        "id": "945L3-2rDjFe"
      },
      "source": [
        "## Paso 5: Guardar el modelo para subir a producción"
      ]
    },
    {
      "cell_type": "markdown",
      "metadata": {
        "id": "5a5uCiniDmgY"
      },
      "source": [
        "### Crear un directorio para el modelo"
      ]
    },
    {
      "cell_type": "code",
      "metadata": {
        "id": "YonroqRrC3sM"
      },
      "source": [
        "MODEL_DIR = \"model/\"\n",
        "version = 1"
      ],
      "execution_count": 42,
      "outputs": []
    },
    {
      "cell_type": "code",
      "metadata": {
        "id": "07NyMUGYEMNF",
        "outputId": "b7f999f5-4c94-4a22-887e-22c058869b3d",
        "colab": {
          "base_uri": "https://localhost:8080/",
          "height": 35
        }
      },
      "source": [
        "export_path = os.path.join(MODEL_DIR, str(version))\n",
        "export_path"
      ],
      "execution_count": 43,
      "outputs": [
        {
          "output_type": "execute_result",
          "data": {
            "text/plain": [
              "'model/1'"
            ],
            "application/vnd.google.colaboratory.intrinsic+json": {
              "type": "string"
            }
          },
          "metadata": {},
          "execution_count": 43
        }
      ]
    },
    {
      "cell_type": "code",
      "metadata": {
        "id": "jln7YavbEczA"
      },
      "source": [
        "if os.path.isdir(export_path):\n",
        "    !rm -r {export_path}"
      ],
      "execution_count": 44,
      "outputs": []
    },
    {
      "cell_type": "markdown",
      "metadata": {
        "id": "0RA2HuIUDrDQ"
      },
      "source": [
        "### Guardar el modelo para TensorFlow Serving"
      ]
    },
    {
      "cell_type": "code",
      "metadata": {
        "id": "19DG8IkIDv4S",
        "outputId": "ceaaa612-2e17-4cfa-a192-513e88b6837b",
        "colab": {
          "base_uri": "https://localhost:8080/"
        }
      },
      "source": [
        "#tf.saved_model.simple_save(tf.keras.backend.get_session(), export_dir=export_path, inputs={\"input_image\":model.input}, outputs={t.name:t for t in model.outputs})\n",
        "#tf.saved_model.save(model, export_path )\n",
        "print('export_path = {}\\n'.format(export_path))\n",
        "\n",
        "tf.keras.models.save_model(\n",
        "    model,\n",
        "    export_path,\n",
        "    overwrite=True,\n",
        "    include_optimizer=True,\n",
        "    save_format=None,\n",
        "    signatures=None,\n",
        "    options=None\n",
        ")\n",
        "\n",
        "print('\\nSaved model:')\n",
        "!ls -l {export_path}"
      ],
      "execution_count": 45,
      "outputs": [
        {
          "output_type": "stream",
          "name": "stdout",
          "text": [
            "export_path = model/1\n",
            "\n"
          ]
        },
        {
          "output_type": "stream",
          "name": "stderr",
          "text": [
            "WARNING:absl:Found untraced functions such as _jit_compiled_convolution_op, _jit_compiled_convolution_op, _jit_compiled_convolution_op, _jit_compiled_convolution_op, _jit_compiled_convolution_op while saving (showing 5 of 6). These functions will not be directly callable after loading.\n"
          ]
        },
        {
          "output_type": "stream",
          "name": "stdout",
          "text": [
            "\n",
            "Saved model:\n",
            "total 376\n",
            "drwxr-xr-x 2 root root   4096 Aug  8 01:08 assets\n",
            "-rw-r--r-- 1 root root     55 Aug  8 01:08 fingerprint.pb\n",
            "-rw-r--r-- 1 root root  33280 Aug  8 01:08 keras_metadata.pb\n",
            "-rw-r--r-- 1 root root 335792 Aug  8 01:08 saved_model.pb\n",
            "drwxr-xr-x 2 root root   4096 Aug  8 01:08 variables\n"
          ]
        }
      ]
    },
    {
      "cell_type": "markdown",
      "metadata": {
        "id": "1o8BlXcBFvIm"
      },
      "source": [
        "## Paso 6: Configurar el entorno de producción"
      ]
    },
    {
      "cell_type": "markdown",
      "metadata": {
        "id": "rSFWzxOrF0ft"
      },
      "source": [
        "### Exportar el MODEL_DIR a las variables de entorno"
      ]
    },
    {
      "cell_type": "code",
      "metadata": {
        "id": "BS6wsQthLX_i"
      },
      "source": [
        "os.environ['MODEL_DIR'] = os.path.abspath(MODEL_DIR)"
      ],
      "execution_count": 46,
      "outputs": []
    },
    {
      "cell_type": "markdown",
      "metadata": {
        "id": "8TXejqj5F5oj"
      },
      "source": [
        "### Ejecutar la API REST de TensorFlow Serving"
      ]
    },
    {
      "cell_type": "code",
      "metadata": {
        "id": "oWjUhJA4KGWy"
      },
      "source": [
        "%%bash --bg\n",
        "nohup tensorflow_model_server \\\n",
        "  --rest_api_port=8000 \\\n",
        "  --model_name=cifar10 \\\n",
        "  --model_base_path=\"${MODEL_DIR}\" >server.log 2>&1"
      ],
      "execution_count": 47,
      "outputs": []
    },
    {
      "cell_type": "code",
      "metadata": {
        "id": "iPa7fGZ5NHL5",
        "outputId": "495cd0e1-d77c-428c-89ba-bfd5e8b88776",
        "colab": {
          "base_uri": "https://localhost:8080/"
        }
      },
      "source": [
        "!tail server.log"
      ],
      "execution_count": 48,
      "outputs": [
        {
          "output_type": "stream",
          "name": "stdout",
          "text": [
            "[warn] getaddrinfo: address family for nodename not supported\n",
            "[evhttp_server.cc : 245] NET_LOG: Entering the event loop ...\n"
          ]
        }
      ]
    },
    {
      "cell_type": "markdown",
      "metadata": {
        "id": "ICEqKpKUOC2F"
      },
      "source": [
        "## Paso 7: Crear nuestra primera petición por POST"
      ]
    },
    {
      "cell_type": "code",
      "metadata": {
        "id": "AvjZyyPIN3Zq",
        "outputId": "3d5e176f-77fd-40c6-9b14-180e57bc14b0",
        "colab": {
          "base_uri": "https://localhost:8080/"
        }
      },
      "source": [
        "random_image = np.random.randint(0, len(X_test))\n",
        "random_image"
      ],
      "execution_count": 49,
      "outputs": [
        {
          "output_type": "execute_result",
          "data": {
            "text/plain": [
              "3998"
            ]
          },
          "metadata": {},
          "execution_count": 49
        }
      ]
    },
    {
      "cell_type": "markdown",
      "metadata": {
        "id": "tqOfIBMNOK8p"
      },
      "source": [
        "### Crear el objeto de datos en JSON"
      ]
    },
    {
      "cell_type": "code",
      "metadata": {
        "id": "nB57JR6wONOI"
      },
      "source": [
        "data = json.dumps({\"signature_name\":\"serving_default\", \"instances\":[X_test[random_image].tolist()]})#Servidor por defecto,Imagenes en string"
      ],
      "execution_count": 50,
      "outputs": []
    },
    {
      "cell_type": "code",
      "metadata": {
        "id": "ez6JF3yIPdYZ",
        "outputId": "4e651648-5a0a-496c-a87f-74ec2d779c8d",
        "colab": {
          "base_uri": "https://localhost:8080/",
          "height": 122
        }
      },
      "source": [
        "data"
      ],
      "execution_count": 51,
      "outputs": [
        {
          "output_type": "execute_result",
          "data": {
            "text/plain": [
              "'{\"signature_name\": \"serving_default\", \"instances\": [[[[0.4745098039215686, 0.43529411764705883, 0.4235294117647059], [0.4470588235294118, 0.4117647058823529, 0.38823529411764707], [0.4470588235294118, 0.40784313725490196, 0.403921568627451], [0.5019607843137255, 0.4549019607843137, 0.47058823529411764], [0.5607843137254902, 0.5137254901960784, 0.5294117647058824], [0.5686274509803921, 0.5215686274509804, 0.5254901960784314], [0.5372549019607843, 0.49411764705882355, 0.49019607843137253], [0.5254901960784314, 0.47843137254901963, 0.4627450980392157], [0.5215686274509804, 0.4666666666666667, 0.42745098039215684], [0.49019607843137253, 0.4392156862745098, 0.4117647058823529], [0.5019607843137255, 0.4549019607843137, 0.45098039215686275], [0.5372549019607843, 0.4980392156862745, 0.5058823529411764], [0.4823529411764706, 0.45098039215686275, 0.45098039215686275], [0.36470588235294116, 0.3333333333333333, 0.3333333333333333], [0.2901960784313726, 0.27058823529411763, 0.2784313725490196], [0.26666666666666666, 0.2549019607843137, 0.27058823529411763], [0.26666666666666666, 0.2627450980392157, 0.29411764705882354], [0.27058823529411763, 0.26666666666666666, 0.3254901960784314], [0.2627450980392157, 0.25882352941176473, 0.3176470588235294], [0.25882352941176473, 0.25098039215686274, 0.3137254901960784], [0.2549019607843137, 0.2549019607843137, 0.30980392156862746], [0.24705882352941178, 0.2549019607843137, 0.30196078431372547], [0.24705882352941178, 0.25882352941176473, 0.3058823529411765], [0.26666666666666666, 0.27058823529411763, 0.32941176470588235], [0.2784313725490196, 0.28627450980392155, 0.35294117647058826], [0.26666666666666666, 0.27450980392156865, 0.33725490196078434], [0.25098039215686274, 0.2627450980392157, 0.3137254901960784], [0.24705882352941178, 0.25098039215686274, 0.30196078431372547], [0.2549019607843137, 0.24705882352941178, 0.29411764705882354], [0.26666666666666666, 0.2549019607843137, 0.29411764705882354], [0.2784313725490196, 0.27450980392156865, 0.30196078431372547], [0.29411764705882354, 0.29411764705882354, 0.32941176470588235]], [[0.4470588235294118, 0.4117647058823529, 0.4], [0.4392156862745098, 0.403921568627451, 0.3803921568627451], [0.49411764705882355, 0.4549019607843137, 0.45098039215686275], [0.5843137254901961, 0.5372549019607843, 0.5568627450980392], [0.6274509803921569, 0.5803921568627451, 0.6039215686274509], [0.611764705882353, 0.5647058823529412, 0.5803921568627451], [0.5647058823529412, 0.5176470588235295, 0.5215686274509804], [0.5411764705882353, 0.49411764705882355, 0.48627450980392156], [0.5254901960784314, 0.4745098039215686, 0.4549019607843137], [0.4823529411764706, 0.4392156862745098, 0.4235294117647059], [0.43529411764705883, 0.396078431372549, 0.39215686274509803], [0.4235294117647059, 0.39215686274509803, 0.396078431372549], [0.4117647058823529, 0.3803921568627451, 0.3803921568627451], [0.34901960784313724, 0.3176470588235294, 0.3176470588235294], [0.2784313725490196, 0.25882352941176473, 0.2627450980392157], [0.2549019607843137, 0.24705882352941178, 0.25882352941176473], [0.26666666666666666, 0.25882352941176473, 0.2901960784313726], [0.27450980392156865, 0.27058823529411763, 0.3215686274509804], [0.26666666666666666, 0.26666666666666666, 0.3176470588235294], [0.2627450980392157, 0.25882352941176473, 0.3137254901960784], [0.26666666666666666, 0.2627450980392157, 0.3176470588235294], [0.26666666666666666, 0.27450980392156865, 0.3215686274509804], [0.2901960784313726, 0.2980392156862745, 0.35294117647058826], [0.3254901960784314, 0.32941176470588235, 0.396078431372549], [0.34901960784313724, 0.35294117647058826, 0.42745098039215684], [0.3333333333333333, 0.3411764705882353, 0.41568627450980394], [0.30196078431372547, 0.30980392156862746, 0.37254901960784315], [0.2627450980392157, 0.26666666666666666, 0.3176470588235294], [0.23921568627450981, 0.23529411764705882, 0.27058823529411763], [0.2235294117647059, 0.21568627450980393, 0.24313725490196078], [0.23921568627450981, 0.23137254901960785, 0.2549019607843137], [0.26666666666666666, 0.26666666666666666, 0.29411764705882354]], [[0.44313725490196076, 0.40784313725490196, 0.39215686274509803], [0.47058823529411764, 0.43529411764705883, 0.40784313725490196], [0.5490196078431373, 0.5098039215686274, 0.5058823529411764], [0.6313725490196078, 0.5882352941176471, 0.611764705882353], [0.6588235294117647, 0.6078431372549019, 0.6392156862745098], [0.6078431372549019, 0.5568627450980392, 0.5803921568627451], [0.5411764705882353, 0.49411764705882355, 0.5058823529411764], [0.5176470588235295, 0.4666666666666667, 0.47058823529411764], [0.4980392156862745, 0.45098039215686275, 0.4470588235294118], [0.4470588235294118, 0.40784313725490196, 0.403921568627451], [0.3568627450980392, 0.3215686274509804, 0.3215686274509804], [0.30980392156862746, 0.28627450980392155, 0.28627450980392155], [0.32941176470588235, 0.30196078431372547, 0.29411764705882354], [0.3137254901960784, 0.2823529411764706, 0.2823529411764706], [0.25882352941176473, 0.23921568627450981, 0.24705882352941178], [0.23529411764705882, 0.22745098039215686, 0.23921568627450981], [0.2549019607843137, 0.24705882352941178, 0.2784313725490196], [0.26666666666666666, 0.26666666666666666, 0.3137254901960784], [0.27058823529411763, 0.27058823529411763, 0.3137254901960784], [0.2549019607843137, 0.2549019607843137, 0.30196078431372547], [0.2549019607843137, 0.2549019607843137, 0.30196078431372547], [0.2784313725490196, 0.28627450980392155, 0.3411764705882353], [0.3333333333333333, 0.3411764705882353, 0.403921568627451], [0.3764705882352941, 0.3803921568627451, 0.4549019607843137], [0.403921568627451, 0.40784313725490196, 0.48627450980392156], [0.396078431372549, 0.403921568627451, 0.48627450980392156], [0.3568627450980392, 0.36470588235294116, 0.43529411764705883], [0.30980392156862746, 0.3137254901960784, 0.36470588235294116], [0.25882352941176473, 0.2549019607843137, 0.28627450980392155], [0.2235294117647059, 0.21568627450980393, 0.23529411764705882], [0.2235294117647059, 0.21568627450980393, 0.23137254901960785], [0.24313725490196078, 0.24313725490196078, 0.2627450980392157]], [[0.4549019607843137, 0.41568627450980394, 0.403921568627451], [0.5098039215686274, 0.4745098039215686, 0.45098039215686275], [0.5882352941176471, 0.5490196078431373, 0.5450980392156862], [0.6431372549019608, 0.596078431372549, 0.6235294117647059], [0.6313725490196078, 0.5803921568627451, 0.6196078431372549], [0.5529411764705883, 0.5019607843137255, 0.5333333333333333], [0.49019607843137253, 0.44313725490196076, 0.4627450980392157], [0.47058823529411764, 0.4235294117647059, 0.43529411764705883], [0.4549019607843137, 0.40784313725490196, 0.4196078431372549], [0.3803921568627451, 0.34509803921568627, 0.35294117647058826], [0.26666666666666666, 0.24313725490196078, 0.24313725490196078], [0.23529411764705882, 0.2196078431372549, 0.21568627450980393], [0.28627450980392155, 0.26666666666666666, 0.2549019607843137], [0.30196078431372547, 0.27058823529411763, 0.27058823529411763], [0.25098039215686274, 0.23137254901960785, 0.23921568627450981], [0.21568627450980393, 0.20784313725490197, 0.2196078431372549], [0.25098039215686274, 0.24705882352941178, 0.27058823529411763], [0.2784313725490196, 0.2784313725490196, 0.3176470588235294], [0.2627450980392157, 0.2627450980392157, 0.30196078431372547], [0.24313725490196078, 0.24313725490196078, 0.2823529411764706], [0.23921568627450981, 0.24313725490196078, 0.2823529411764706], [0.2823529411764706, 0.28627450980392155, 0.34509803921568627], [0.35294117647058826, 0.3568627450980392, 0.43137254901960786], [0.40784313725490196, 0.4117647058823529, 0.49411764705882355], [0.43529411764705883, 0.4392156862745098, 0.5254901960784314], [0.43529411764705883, 0.44313725490196076, 0.5372549019607843], [0.396078431372549, 0.403921568627451, 0.4823529411764706], [0.32941176470588235, 0.3333333333333333, 0.3843137254901961], [0.2823529411764706, 0.2823529411764706, 0.3058823529411765], [0.25882352941176473, 0.2549019607843137, 0.2627450980392157], [0.23137254901960785, 0.22745098039215686, 0.23529411764705882], [0.23137254901960785, 0.23529411764705882, 0.24705882352941178]], [[0.5019607843137255, 0.4627450980392157, 0.45098039215686275], [0.5647058823529412, 0.5294117647058824, 0.5098039215686274], [0.6078431372549019, 0.5686274509803921, 0.5647058823529412], [0.6196078431372549, 0.5686274509803921, 0.596078431372549], [0.5725490196078431, 0.5215686274509804, 0.5607843137254902], [0.5019607843137255, 0.45098039215686275, 0.48627450980392156], [0.4588235294117647, 0.4117647058823529, 0.4392156862745098], [0.4392156862745098, 0.396078431372549, 0.41568627450980394], [0.41568627450980394, 0.3764705882352941, 0.39215686274509803], [0.3176470588235294, 0.2901960784313726, 0.2980392156862745], [0.2, 0.1803921568627451, 0.1803921568627451], [0.20392156862745098, 0.19215686274509805, 0.1843137254901961], [0.2784313725490196, 0.25098039215686274, 0.24705882352941178], [0.3058823529411765, 0.27058823529411763, 0.27450980392156865], [0.2549019607843137, 0.23921568627450981, 0.24705882352941178], [0.21176470588235294, 0.20784313725490197, 0.2235294117647059], [0.21176470588235294, 0.21176470588235294, 0.23921568627450981], [0.23921568627450981, 0.23529411764705882, 0.27450980392156865], [0.27058823529411763, 0.27058823529411763, 0.30196078431372547], [0.22745098039215686, 0.2235294117647059, 0.25882352941176473], [0.23137254901960785, 0.23137254901960785, 0.27058823529411763], [0.2823529411764706, 0.28627450980392155, 0.34509803921568627], [0.35294117647058826, 0.35294117647058826, 0.4235294117647059], [0.4, 0.403921568627451, 0.4823529411764706], [0.43137254901960786, 0.43137254901960786, 0.5254901960784314], [0.43529411764705883, 0.43529411764705883, 0.5294117647058824], [0.4, 0.403921568627451, 0.4823529411764706], [0.34509803921568627, 0.34509803921568627, 0.403921568627451], [0.3411764705882353, 0.3411764705882353, 0.37254901960784315], [0.3333333333333333, 0.32941176470588235, 0.34901960784313724], [0.2823529411764706, 0.2823529411764706, 0.2901960784313726], [0.24705882352941178, 0.25098039215686274, 0.2627450980392157]], [[0.5803921568627451, 0.5372549019607843, 0.5215686274509804], [0.6039215686274509, 0.5568627450980392, 0.5568627450980392], [0.596078431372549, 0.5529411764705883, 0.5568627450980392], [0.5843137254901961, 0.5294117647058824, 0.5529411764705883], [0.5411764705882353, 0.48627450980392156, 0.5254901960784314], [0.48627450980392156, 0.44313725490196076, 0.4745098039215686], [0.4549019607843137, 0.41568627450980394, 0.4470588235294118], [0.4196078431372549, 0.39215686274509803, 0.41568627450980394], [0.3843137254901961, 0.3568627450980392, 0.3686274509803922], [0.28627450980392155, 0.2627450980392157, 0.27058823529411763], [0.1803921568627451, 0.1568627450980392, 0.16470588235294117], [0.2, 0.17647058823529413, 0.1843137254901961], [0.2823529411764706, 0.24313725490196078, 0.25882352941176473], [0.3137254901960784, 0.27450980392156865, 0.29411764705882354], [0.2627450980392157, 0.24313725490196078, 0.2627450980392157], [0.14901960784313725, 0.15294117647058825, 0.17254901960784313], [0.13725490196078433, 0.1450980392156863, 0.1803921568627451], [0.3058823529411765, 0.2980392156862745, 0.34509803921568627], [0.6, 0.596078431372549, 0.6196078431372549], [0.34509803921568627, 0.3411764705882353, 0.37254901960784315], [0.24705882352941178, 0.24313725490196078, 0.2901960784313726], [0.3215686274509804, 0.3215686274509804, 0.3764705882352941], [0.3803921568627451, 0.3764705882352941, 0.4392156862745098], [0.403921568627451, 0.396078431372549, 0.47843137254901963], [0.4196078431372549, 0.4117647058823529, 0.5058823529411764], [0.4470588235294118, 0.44313725490196076, 0.5294117647058824], [0.42745098039215684, 0.4196078431372549, 0.4980392156862745], [0.4117647058823529, 0.403921568627451, 0.47843137254901963], [0.43529411764705883, 0.43137254901960786, 0.5019607843137255], [0.4, 0.396078431372549, 0.4588235294117647], [0.3137254901960784, 0.3215686274509804, 0.35294117647058826], [0.2549019607843137, 0.2627450980392157, 0.2901960784313726]], [[0.6588235294117647, 0.611764705882353, 0.6], [0.6313725490196078, 0.5843137254901961, 0.5843137254901961], [0.5882352941176471, 0.5450980392156862, 0.5490196078431373], [0.5607843137254902, 0.5058823529411764, 0.5254901960784314], [0.5254901960784314, 0.4666666666666667, 0.4980392156862745], [0.47843137254901963, 0.43137254901960786, 0.4588235294117647], [0.45098039215686275, 0.41568627450980394, 0.43529411764705883], [0.403921568627451, 0.3803921568627451, 0.396078431372549], [0.35294117647058826, 0.32941176470588235, 0.33725490196078434], [0.27058823529411763, 0.24705882352941178, 0.2549019607843137], [0.1803921568627451, 0.1568627450980392, 0.16470588235294117], [0.19607843137254902, 0.16862745098039217, 0.1803921568627451], [0.27450980392156865, 0.23921568627450981, 0.2549019607843137], [0.30980392156862746, 0.27450980392156865, 0.2980392156862745], [0.2, 0.18823529411764706, 0.21176470588235294], [0.09411764705882353, 0.09803921568627451, 0.12549019607843137], [0.43529411764705883, 0.44313725490196076, 0.4823529411764706], [0.5607843137254902, 0.5568627450980392, 0.6039215686274509], [0.6941176470588235, 0.6901960784313725, 0.7176470588235294], [0.4470588235294118, 0.44313725490196076, 0.4745098039215686], [0.2549019607843137, 0.24705882352941178, 0.30196078431372547], [0.34901960784313724, 0.34509803921568627, 0.4117647058823529], [0.39215686274509803, 0.3843137254901961, 0.4627450980392157], [0.40784313725490196, 0.4, 0.48627450980392156], [0.41568627450980394, 0.40784313725490196, 0.4980392156862745], [0.4588235294117647, 0.45098039215686275, 0.5411764705882353], [0.4627450980392157, 0.4549019607843137, 0.5411764705882353], [0.47843137254901963, 0.47058823529411764, 0.5568627450980392], [0.5019607843137255, 0.49411764705882355, 0.5803921568627451], [0.4588235294117647, 0.4549019607843137, 0.5294117647058824], [0.3176470588235294, 0.32941176470588235, 0.3686274509803922], [0.25882352941176473, 0.27058823529411763, 0.3058823529411765]], [[0.6901960784313725, 0.6470588235294118, 0.6313725490196078], [0.6392156862745098, 0.592156862745098, 0.592156862745098], [0.592156862745098, 0.5450980392156862, 0.5529411764705883], [0.5607843137254902, 0.5058823529411764, 0.5215686274509804], [0.5058823529411764, 0.4549019607843137, 0.4745098039215686], [0.4549019607843137, 0.40784313725490196, 0.42745098039215684], [0.4235294117647059, 0.38823529411764707, 0.403921568627451], [0.37254901960784315, 0.34901960784313724, 0.3568627450980392], [0.3215686274509804, 0.2980392156862745, 0.3058823529411765], [0.25882352941176473, 0.23529411764705882, 0.24313725490196078], [0.1843137254901961, 0.1607843137254902, 0.16862745098039217], [0.19215686274509805, 0.16862745098039217, 0.17647058823529413], [0.2627450980392157, 0.23921568627450981, 0.2549019607843137], [0.25098039215686274, 0.23137254901960785, 0.25882352941176473], [0.10980392156862745, 0.10196078431372549, 0.13333333333333333], [0.24313725490196078, 0.24705882352941178, 0.2823529411764706], [0.7215686274509804, 0.7215686274509804, 0.7686274509803922], [0.611764705882353, 0.6039215686274509, 0.6509803921568628], [0.36470588235294116, 0.3607843137254902, 0.3843137254901961], [0.23921568627450981, 0.23137254901960785, 0.2627450980392157], [0.30980392156862746, 0.30196078431372547, 0.3568627450980392], [0.3607843137254902, 0.3568627450980392, 0.43137254901960786], [0.38823529411764707, 0.3803921568627451, 0.4588235294117647], [0.38823529411764707, 0.3843137254901961, 0.4627450980392157], [0.3843137254901961, 0.3803921568627451, 0.4588235294117647], [0.41568627450980394, 0.40784313725490196, 0.49019607843137253], [0.4392156862745098, 0.43137254901960786, 0.5137254901960784], [0.48627450980392156, 0.4823529411764706, 0.5607843137254902], [0.49019607843137253, 0.4823529411764706, 0.5647058823529412], [0.43137254901960786, 0.42745098039215684, 0.5019607843137255], [0.29411764705882354, 0.30196078431372547, 0.34901960784313724], [0.2627450980392157, 0.27058823529411763, 0.3176470588235294]], [[0.6745098039215687, 0.6313725490196078, 0.6196078431372549], [0.615686274509804, 0.5725490196078431, 0.5686274509803921], [0.5725490196078431, 0.5254901960784314, 0.5333333333333333], [0.5372549019607843, 0.4823529411764706, 0.49411764705882355], [0.4745098039215686, 0.4235294117647059, 0.43529411764705883], [0.41568627450980394, 0.3764705882352941, 0.3843137254901961], [0.3764705882352941, 0.34509803921568627, 0.34901960784313724], [0.3254901960784314, 0.30196078431372547, 0.30196078431372547], [0.28627450980392155, 0.2627450980392157, 0.27058823529411763], [0.24705882352941178, 0.2235294117647059, 0.23137254901960785], [0.20784313725490197, 0.1843137254901961, 0.19215686274509805], [0.22745098039215686, 0.20392156862745098, 0.21176470588235294], [0.25882352941176473, 0.25098039215686274, 0.26666666666666666], [0.1803921568627451, 0.1803921568627451, 0.20392156862745098], [0.09411764705882353, 0.09019607843137255, 0.12941176470588237], [0.16470588235294117, 0.16470588235294117, 0.21176470588235294], [0.4470588235294118, 0.44313725490196076, 0.4980392156862745], [0.2980392156862745, 0.2901960784313726, 0.33725490196078434], [0.07450980392156863, 0.07058823529411765, 0.09803921568627451], [0.24705882352941178, 0.24313725490196078, 0.27058823529411763], [0.34509803921568627, 0.33725490196078434, 0.39215686274509803], [0.33725490196078434, 0.32941176470588235, 0.396078431372549], [0.3568627450980392, 0.35294117647058826, 0.41568627450980394], [0.37254901960784315, 0.37254901960784315, 0.4235294117647059], [0.34901960784313724, 0.34901960784313724, 0.396078431372549], [0.34901960784313724, 0.34901960784313724, 0.4], [0.38823529411764707, 0.3843137254901961, 0.4392156862745098], [0.43137254901960786, 0.42745098039215684, 0.4823529411764706], [0.4470588235294118, 0.44313725490196076, 0.4980392156862745], [0.3607843137254902, 0.3607843137254902, 0.41568627450980394], [0.25098039215686274, 0.25882352941176473, 0.30980392156862746], [0.2627450980392157, 0.27058823529411763, 0.3215686274509804]], [[0.6392156862745098, 0.596078431372549, 0.5803921568627451], [0.5686274509803921, 0.5215686274509804, 0.5215686274509804], [0.5137254901960784, 0.4666666666666667, 0.4745098039215686], [0.4666666666666667, 0.4117647058823529, 0.4196078431372549], [0.41568627450980394, 0.36470588235294116, 0.3686274509803922], [0.37254901960784315, 0.3333333333333333, 0.32941176470588235], [0.3254901960784314, 0.29411764705882354, 0.28627450980392155], [0.27450980392156865, 0.25098039215686274, 0.24705882352941178], [0.2549019607843137, 0.23137254901960785, 0.23921568627450981], [0.25098039215686274, 0.22745098039215686, 0.23529411764705882], [0.27450980392156865, 0.25098039215686274, 0.25882352941176473], [0.30196078431372547, 0.2784313725490196, 0.2901960784313726], [0.22745098039215686, 0.22745098039215686, 0.24313725490196078], [0.11372549019607843, 0.12941176470588237, 0.1568627450980392], [0.09019607843137255, 0.09803921568627451, 0.13725490196078433], [0.07450980392156863, 0.07450980392156863, 0.12549019607843137], [0.10196078431372549, 0.09411764705882353, 0.15294117647058825], [0.11764705882352941, 0.10980392156862745, 0.1568627450980392], [0.07058823529411765, 0.06666666666666667, 0.09019607843137255], [0.2235294117647059, 0.2196078431372549, 0.25098039215686274], [0.3411764705882353, 0.3333333333333333, 0.3843137254901961], [0.30196078431372547, 0.2980392156862745, 0.34901960784313724], [0.3137254901960784, 0.3137254901960784, 0.34901960784313724], [0.34901960784313724, 0.35294117647058826, 0.3764705882352941], [0.33725490196078434, 0.34509803921568627, 0.35294117647058826], [0.30980392156862746, 0.3137254901960784, 0.32941176470588235], [0.3568627450980392, 0.3607843137254902, 0.3843137254901961], [0.396078431372549, 0.396078431372549, 0.4196078431372549], [0.39215686274509803, 0.39215686274509803, 0.41568627450980394], [0.3176470588235294, 0.3215686274509804, 0.35294117647058826], [0.2549019607843137, 0.2627450980392157, 0.3176470588235294], [0.2627450980392157, 0.27058823529411763, 0.3254901960784314]], [[0.5843137254901961, 0.5411764705882353, 0.5294117647058824], [0.5098039215686274, 0.4627450980392157, 0.4549019607843137], [0.43529411764705883, 0.39215686274509803, 0.3843137254901961], [0.3843137254901961, 0.33725490196078434, 0.3215686274509804], [0.3607843137254902, 0.3137254901960784, 0.2980392156862745], [0.34509803921568627, 0.30196078431372547, 0.28627450980392155], [0.3058823529411765, 0.27058823529411763, 0.25882352941176473], [0.2784313725490196, 0.24313725490196078, 0.23529411764705882], [0.2784313725490196, 0.24313725490196078, 0.23921568627450981], [0.30196078431372547, 0.2627450980392157, 0.25098039215686274], [0.34509803921568627, 0.30980392156862746, 0.3058823529411765], [0.30980392156862746, 0.2980392156862745, 0.30980392156862746], [0.16470588235294117, 0.16862745098039217, 0.2], [0.10588235294117647, 0.11372549019607843, 0.15294117647058825], [0.08627450980392157, 0.09019607843137255, 0.13725490196078433], [0.09019607843137255, 0.09019607843137255, 0.13725490196078433], [0.11764705882352941, 0.11764705882352941, 0.16470588235294117], [0.14901960784313725, 0.1450980392156863, 0.18823529411764706], [0.08627450980392157, 0.08627450980392157, 0.11764705882352941], [0.16470588235294117, 0.1607843137254902, 0.2], [0.33725490196078434, 0.3333333333333333, 0.3843137254901961], [0.3058823529411765, 0.30196078431372547, 0.35294117647058826], [0.3137254901960784, 0.30980392156862746, 0.3411764705882353], [0.35294117647058826, 0.34901960784313724, 0.3568627450980392], [0.37254901960784315, 0.3686274509803922, 0.34901960784313724], [0.3686274509803922, 0.3607843137254902, 0.3411764705882353], [0.396078431372549, 0.38823529411764707, 0.3803921568627451], [0.43529411764705883, 0.42745098039215684, 0.42745098039215684], [0.40784313725490196, 0.4, 0.40784313725490196], [0.35294117647058826, 0.3411764705882353, 0.36470588235294116], [0.3215686274509804, 0.3176470588235294, 0.3568627450980392], [0.28627450980392155, 0.28627450980392155, 0.32941176470588235]], [[0.5137254901960784, 0.4666666666666667, 0.4627450980392157], [0.4588235294117647, 0.41568627450980394, 0.4], [0.3764705882352941, 0.3333333333333333, 0.30980392156862746], [0.3333333333333333, 0.29411764705882354, 0.25882352941176473], [0.34509803921568627, 0.3058823529411765, 0.26666666666666666], [0.3568627450980392, 0.3137254901960784, 0.28627450980392155], [0.3411764705882353, 0.29411764705882354, 0.2784313725490196], [0.3215686274509804, 0.2784313725490196, 0.27058823529411763], [0.3215686274509804, 0.2784313725490196, 0.26666666666666666], [0.3411764705882353, 0.28627450980392155, 0.26666666666666666], [0.3568627450980392, 0.3176470588235294, 0.3058823529411765], [0.24313725490196078, 0.23921568627450981, 0.25882352941176473], [0.13725490196078433, 0.1450980392156863, 0.18823529411764706], [0.15294117647058825, 0.15294117647058825, 0.2], [0.10196078431372549, 0.10196078431372549, 0.14901960784313725], [0.09411764705882353, 0.09411764705882353, 0.1411764705882353], [0.11764705882352941, 0.11764705882352941, 0.16470588235294117], [0.12549019607843137, 0.12156862745098039, 0.17254901960784313], [0.22745098039215686, 0.22745098039215686, 0.2784313725490196], [0.2784313725490196, 0.2784313725490196, 0.32941176470588235], [0.32941176470588235, 0.32941176470588235, 0.3843137254901961], [0.3137254901960784, 0.30980392156862746, 0.36470588235294116], [0.3058823529411765, 0.2980392156862745, 0.33725490196078434], [0.3411764705882353, 0.32941176470588235, 0.33725490196078434], [0.38823529411764707, 0.37254901960784315, 0.34901960784313724], [0.40784313725490196, 0.3843137254901961, 0.35294117647058826], [0.43529411764705883, 0.40784313725490196, 0.3803921568627451], [0.47058823529411764, 0.4392156862745098, 0.42745098039215684], [0.4627450980392157, 0.43137254901960786, 0.43137254901960786], [0.41568627450980394, 0.38823529411764707, 0.396078431372549], [0.3686274509803922, 0.3568627450980392, 0.37254901960784315], [0.3215686274509804, 0.3137254901960784, 0.33725490196078434]], [[0.44313725490196076, 0.4, 0.39215686274509803], [0.4235294117647059, 0.3803921568627451, 0.3686274509803922], [0.34901960784313724, 0.3058823529411765, 0.2823529411764706], [0.3215686274509804, 0.2823529411764706, 0.24313725490196078], [0.36470588235294116, 0.3254901960784314, 0.28627450980392155], [0.38823529411764707, 0.34509803921568627, 0.3176470588235294], [0.3686274509803922, 0.3254901960784314, 0.30980392156862746], [0.3411764705882353, 0.2980392156862745, 0.2901960784313726], [0.3333333333333333, 0.2901960784313726, 0.2823529411764706], [0.3176470588235294, 0.27450980392156865, 0.26666666666666666], [0.3058823529411765, 0.2784313725490196, 0.2823529411764706], [0.20784313725490197, 0.20784313725490197, 0.23137254901960785], [0.10980392156862745, 0.10980392156862745, 0.1568627450980392], [0.18823529411764706, 0.1843137254901961, 0.23529411764705882], [0.13333333333333333, 0.12941176470588237, 0.1803921568627451], [0.1568627450980392, 0.1568627450980392, 0.20392156862745098], [0.2784313725490196, 0.27450980392156865, 0.3333333333333333], [0.45098039215686275, 0.44313725490196076, 0.5176470588235295], [0.5215686274509804, 0.5176470588235295, 0.5882352941176471], [0.34901960784313724, 0.34509803921568627, 0.4117647058823529], [0.3176470588235294, 0.3137254901960784, 0.37254901960784315], [0.3058823529411765, 0.30196078431372547, 0.35294117647058826], [0.27450980392156865, 0.26666666666666666, 0.30196078431372547], [0.28627450980392155, 0.27450980392156865, 0.2823529411764706], [0.34509803921568627, 0.3254901960784314, 0.3137254901960784], [0.3764705882352941, 0.34509803921568627, 0.3176470588235294], [0.39215686274509803, 0.34901960784313724, 0.3137254901960784], [0.43529411764705883, 0.39215686274509803, 0.36470588235294116], [0.4549019607843137, 0.40784313725490196, 0.38823529411764707], [0.43137254901960786, 0.38823529411764707, 0.3764705882352941], [0.3803921568627451, 0.3607843137254902, 0.36470588235294116], [0.34509803921568627, 0.3333333333333333, 0.34509803921568627]], [[0.403921568627451, 0.3607843137254902, 0.35294117647058826], [0.396078431372549, 0.35294117647058826, 0.33725490196078434], [0.34901960784313724, 0.3058823529411765, 0.2823529411764706], [0.33725490196078434, 0.2980392156862745, 0.2627450980392157], [0.3764705882352941, 0.33725490196078434, 0.30196078431372547], [0.39215686274509803, 0.34901960784313724, 0.3254901960784314], [0.3568627450980392, 0.3137254901960784, 0.2980392156862745], [0.3215686274509804, 0.27450980392156865, 0.26666666666666666], [0.2980392156862745, 0.25098039215686274, 0.24705882352941178], [0.25882352941176473, 0.22745098039215686, 0.23921568627450981], [0.2823529411764706, 0.27058823529411763, 0.29411764705882354], [0.16862745098039217, 0.16862745098039217, 0.20392156862745098], [0.13333333333333333, 0.13333333333333333, 0.18823529411764706], [0.27450980392156865, 0.27058823529411763, 0.32941176470588235], [0.23137254901960785, 0.22745098039215686, 0.2901960784313726], [0.34901960784313724, 0.34509803921568627, 0.403921568627451], [0.5882352941176471, 0.5843137254901961, 0.6549019607843137], [0.596078431372549, 0.5882352941176471, 0.6784313725490196], [0.3411764705882353, 0.3333333333333333, 0.41568627450980394], [0.25882352941176473, 0.25098039215686274, 0.3215686274509804], [0.2901960784313726, 0.28627450980392155, 0.34509803921568627], [0.27058823529411763, 0.26666666666666666, 0.3058823529411765], [0.23137254901960785, 0.22745098039215686, 0.25098039215686274], [0.2235294117647059, 0.20784313725490197, 0.2196078431372549], [0.28627450980392155, 0.26666666666666666, 0.2627450980392157], [0.3254901960784314, 0.2901960784313726, 0.27058823529411763], [0.3137254901960784, 0.2627450980392157, 0.23529411764705882], [0.3568627450980392, 0.3058823529411765, 0.2784313725490196], [0.41568627450980394, 0.36470588235294116, 0.3333333333333333], [0.4117647058823529, 0.3686274509803922, 0.33725490196078434], [0.3764705882352941, 0.35294117647058826, 0.3411764705882353], [0.3607843137254902, 0.34901960784313724, 0.34509803921568627]], [[0.3843137254901961, 0.3411764705882353, 0.3333333333333333], [0.37254901960784315, 0.32941176470588235, 0.3137254901960784], [0.36470588235294116, 0.3215686274509804, 0.29411764705882354], [0.3764705882352941, 0.33725490196078434, 0.2980392156862745], [0.38823529411764707, 0.34901960784313724, 0.3137254901960784], [0.37254901960784315, 0.32941176470588235, 0.30196078431372547], [0.3137254901960784, 0.27058823529411763, 0.2549019607843137], [0.27450980392156865, 0.22745098039215686, 0.2196078431372549], [0.24313725490196078, 0.19607843137254902, 0.2], [0.23137254901960785, 0.21176470588235294, 0.24313725490196078], [0.2627450980392157, 0.26666666666666666, 0.30980392156862746], [0.1411764705882353, 0.13725490196078433, 0.1843137254901961], [0.21176470588235294, 0.20784313725490197, 0.26666666666666666], [0.2823529411764706, 0.2784313725490196, 0.34901960784313724], [0.25882352941176473, 0.2549019607843137, 0.3254901960784314], [0.5137254901960784, 0.5098039215686274, 0.5764705882352941], [0.6588235294117647, 0.6549019607843137, 0.7333333333333333], [0.47058823529411764, 0.4627450980392157, 0.5490196078431373], [0.3058823529411765, 0.30196078431372547, 0.37254901960784315], [0.30196078431372547, 0.2980392156862745, 0.34901960784313724], [0.24705882352941178, 0.25098039215686274, 0.2823529411764706], [0.23137254901960785, 0.23137254901960785, 0.2549019607843137], [0.1843137254901961, 0.1803921568627451, 0.2], [0.1843137254901961, 0.16862745098039217, 0.1843137254901961], [0.25098039215686274, 0.23137254901960785, 0.23529411764705882], [0.2980392156862745, 0.2627450980392157, 0.25882352941176473], [0.2784313725490196, 0.23529411764705882, 0.2235294117647059], [0.2901960784313726, 0.25098039215686274, 0.23137254901960785], [0.35294117647058826, 0.3137254901960784, 0.28627450980392155], [0.38823529411764707, 0.34901960784313724, 0.3176470588235294], [0.37254901960784315, 0.34509803921568627, 0.3215686274509804], [0.3607843137254902, 0.3411764705882353, 0.3254901960784314]], [[0.37254901960784315, 0.3333333333333333, 0.3254901960784314], [0.35294117647058826, 0.30980392156862746, 0.2980392156862745], [0.3686274509803922, 0.3254901960784314, 0.3058823529411765], [0.396078431372549, 0.3568627450980392, 0.3215686274509804], [0.3803921568627451, 0.3411764705882353, 0.3058823529411765], [0.32941176470588235, 0.2901960784313726, 0.2627450980392157], [0.27058823529411763, 0.23137254901960785, 0.21568627450980393], [0.24313725490196078, 0.2, 0.19215686274509805], [0.20784313725490197, 0.16470588235294117, 0.17647058823529413], [0.25882352941176473, 0.25098039215686274, 0.29411764705882354], [0.16470588235294117, 0.17254901960784313, 0.23529411764705882], [0.09803921568627451, 0.09803921568627451, 0.14901960784313725], [0.20784313725490197, 0.2, 0.2627450980392157], [0.4235294117647059, 0.4196078431372549, 0.49411764705882355], [0.44313725490196076, 0.4392156862745098, 0.5058823529411764], [0.36470588235294116, 0.3607843137254902, 0.42745098039215684], [0.30980392156862746, 0.3058823529411765, 0.3803921568627451], [0.2823529411764706, 0.27450980392156865, 0.35294117647058826], [0.48627450980392156, 0.4823529411764706, 0.5411764705882353], [0.34509803921568627, 0.34901960784313724, 0.3803921568627451], [0.2235294117647059, 0.22745098039215686, 0.24313725490196078], [0.19607843137254902, 0.19607843137254902, 0.21176470588235294], [0.1607843137254902, 0.1568627450980392, 0.17647058823529413], [0.18823529411764706, 0.17254901960784313, 0.18823529411764706], [0.2549019607843137, 0.23529411764705882, 0.24705882352941178], [0.2980392156862745, 0.27058823529411763, 0.2823529411764706], [0.27450980392156865, 0.24705882352941178, 0.2549019607843137], [0.2627450980392157, 0.23529411764705882, 0.23137254901960785], [0.3058823529411765, 0.2823529411764706, 0.2627450980392157], [0.3607843137254902, 0.33725490196078434, 0.3058823529411765], [0.37254901960784315, 0.3411764705882353, 0.3137254901960784], [0.34901960784313724, 0.3254901960784314, 0.30196078431372547]], [[0.36470588235294116, 0.33725490196078434, 0.34901960784313724], [0.34509803921568627, 0.3176470588235294, 0.3254901960784314], [0.34509803921568627, 0.3176470588235294, 0.3254901960784314], [0.3607843137254902, 0.3333333333333333, 0.3254901960784314], [0.3254901960784314, 0.2901960784313726, 0.2823529411764706], [0.26666666666666666, 0.23137254901960785, 0.2235294117647059], [0.2196078431372549, 0.18823529411764706, 0.1803921568627451], [0.20784313725490197, 0.17647058823529413, 0.17647058823529413], [0.21176470588235294, 0.19607843137254902, 0.2235294117647059], [0.27450980392156865, 0.26666666666666666, 0.3137254901960784], [0.13725490196078433, 0.13725490196078433, 0.19215686274509805], [0.20392156862745098, 0.19607843137254902, 0.25882352941176473], [0.49019607843137253, 0.47843137254901963, 0.5607843137254902], [0.6666666666666666, 0.6588235294117647, 0.7372549019607844], [0.4823529411764706, 0.4745098039215686, 0.5294117647058824], [0.22745098039215686, 0.2196078431372549, 0.27450980392156865], [0.1843137254901961, 0.17647058823529413, 0.24313725490196078], [0.3568627450980392, 0.34901960784313724, 0.4235294117647059], [0.5490196078431373, 0.5450980392156862, 0.6039215686274509], [0.3411764705882353, 0.3411764705882353, 0.3843137254901961], [0.2784313725490196, 0.2784313725490196, 0.3137254901960784], [0.21568627450980393, 0.21568627450980393, 0.24313725490196078], [0.21176470588235294, 0.20784313725490197, 0.23529411764705882], [0.24313725490196078, 0.23529411764705882, 0.2627450980392157], [0.27450980392156865, 0.26666666666666666, 0.29411764705882354], [0.2901960784313726, 0.2784313725490196, 0.2980392156862745], [0.28627450980392155, 0.27450980392156865, 0.2823529411764706], [0.2784313725490196, 0.26666666666666666, 0.27058823529411763], [0.30196078431372547, 0.2901960784313726, 0.2901960784313726], [0.34509803921568627, 0.33725490196078434, 0.3254901960784314], [0.35294117647058826, 0.3411764705882353, 0.3176470588235294], [0.3254901960784314, 0.3137254901960784, 0.29411764705882354]], [[0.33725490196078434, 0.3215686274509804, 0.34901960784313724], [0.3333333333333333, 0.3176470588235294, 0.3411764705882353], [0.3254901960784314, 0.30980392156862746, 0.3333333333333333], [0.3137254901960784, 0.2980392156862745, 0.3176470588235294], [0.25098039215686274, 0.23921568627450981, 0.25098039215686274], [0.19607843137254902, 0.1803921568627451, 0.19607843137254902], [0.1803921568627451, 0.16470588235294117, 0.17647058823529413], [0.1843137254901961, 0.17254901960784313, 0.18823529411764706], [0.25098039215686274, 0.24313725490196078, 0.2823529411764706], [0.21176470588235294, 0.20392156862745098, 0.25098039215686274], [0.17254901960784313, 0.16470588235294117, 0.2196078431372549], [0.44313725490196076, 0.43137254901960786, 0.49411764705882355], [0.5490196078431373, 0.5372549019607843, 0.6039215686274509], [0.43137254901960786, 0.4235294117647059, 0.47843137254901963], [0.43529411764705883, 0.42745098039215684, 0.4666666666666667], [0.43137254901960786, 0.4235294117647059, 0.4745098039215686], [0.3803921568627451, 0.37254901960784315, 0.4392156862745098], [0.43529411764705883, 0.43137254901960786, 0.5019607843137255], [0.42745098039215684, 0.4235294117647059, 0.48627450980392156], [0.3607843137254902, 0.3607843137254902, 0.4117647058823529], [0.3254901960784314, 0.3254901960784314, 0.3686274509803922], [0.2549019607843137, 0.25098039215686274, 0.28627450980392155], [0.27058823529411763, 0.26666666666666666, 0.2980392156862745], [0.30980392156862746, 0.30980392156862746, 0.3411764705882353], [0.30980392156862746, 0.3058823529411765, 0.33725490196078434], [0.2901960784313726, 0.28627450980392155, 0.30196078431372547], [0.30196078431372547, 0.29411764705882354, 0.2980392156862745], [0.30980392156862746, 0.30196078431372547, 0.3058823529411765], [0.3137254901960784, 0.3058823529411765, 0.30980392156862746], [0.3333333333333333, 0.3254901960784314, 0.32941176470588235], [0.34901960784313724, 0.3411764705882353, 0.3411764705882353], [0.32941176470588235, 0.3215686274509804, 0.3215686274509804]], [[0.28627450980392155, 0.2784313725490196, 0.30980392156862746], [0.2901960784313726, 0.28627450980392155, 0.3176470588235294], [0.29411764705882354, 0.28627450980392155, 0.3215686274509804], [0.27058823529411763, 0.27058823529411763, 0.30196078431372547], [0.20392156862745098, 0.21176470588235294, 0.24705882352941178], [0.16470588235294117, 0.16862745098039217, 0.20392156862745098], [0.1607843137254902, 0.16470588235294117, 0.2], [0.17647058823529413, 0.1803921568627451, 0.21176470588235294], [0.25882352941176473, 0.2549019607843137, 0.2901960784313726], [0.1607843137254902, 0.15294117647058825, 0.2], [0.25882352941176473, 0.25098039215686274, 0.3058823529411765], [0.40784313725490196, 0.396078431372549, 0.4588235294117647], [0.3607843137254902, 0.35294117647058826, 0.396078431372549], [0.42745098039215684, 0.4235294117647059, 0.44313725490196076], [0.4745098039215686, 0.4745098039215686, 0.49411764705882355], [0.4392156862745098, 0.43137254901960786, 0.47843137254901963], [0.4627450980392157, 0.4549019607843137, 0.5254901960784314], [0.41568627450980394, 0.4117647058823529, 0.4823529411764706], [0.3568627450980392, 0.35294117647058826, 0.41568627450980394], [0.37254901960784315, 0.37254901960784315, 0.4196078431372549], [0.3215686274509804, 0.3215686274509804, 0.36470588235294116], [0.27058823529411763, 0.26666666666666666, 0.30196078431372547], [0.2980392156862745, 0.29411764705882354, 0.3254901960784314], [0.34901960784313724, 0.34509803921568627, 0.3764705882352941], [0.3568627450980392, 0.35294117647058826, 0.3843137254901961], [0.3215686274509804, 0.3137254901960784, 0.3333333333333333], [0.30980392156862746, 0.30196078431372547, 0.3058823529411765], [0.30980392156862746, 0.30196078431372547, 0.3058823529411765], [0.3176470588235294, 0.30980392156862746, 0.3137254901960784], [0.3333333333333333, 0.3254901960784314, 0.3333333333333333], [0.3568627450980392, 0.34509803921568627, 0.3686274509803922], [0.3411764705882353, 0.32941176470588235, 0.35294117647058826]], [[0.23137254901960785, 0.2235294117647059, 0.27450980392156865], [0.23921568627450981, 0.23137254901960785, 0.2823529411764706], [0.25882352941176473, 0.2549019607843137, 0.30196078431372547], [0.24313725490196078, 0.24705882352941178, 0.29411764705882354], [0.2, 0.21176470588235294, 0.25882352941176473], [0.17254901960784313, 0.1843137254901961, 0.23137254901960785], [0.16862745098039217, 0.1803921568627451, 0.22745098039215686], [0.17647058823529413, 0.18823529411764706, 0.23137254901960785], [0.2, 0.19215686274509805, 0.23529411764705882], [0.13725490196078433, 0.12941176470588237, 0.17647058823529413], [0.24313725490196078, 0.23529411764705882, 0.2901960784313726], [0.3607843137254902, 0.34901960784313724, 0.4117647058823529], [0.35294117647058826, 0.34509803921568627, 0.38823529411764707], [0.33725490196078434, 0.3333333333333333, 0.35294117647058826], [0.2784313725490196, 0.27450980392156865, 0.29411764705882354], [0.2901960784313726, 0.2823529411764706, 0.3333333333333333], [0.3764705882352941, 0.3686274509803922, 0.44313725490196076], [0.36470588235294116, 0.3607843137254902, 0.43137254901960786], [0.3411764705882353, 0.33725490196078434, 0.4], [0.32941176470588235, 0.32941176470588235, 0.3803921568627451], [0.30196078431372547, 0.30196078431372547, 0.34901960784313724], [0.28627450980392155, 0.2823529411764706, 0.3176470588235294], [0.30980392156862746, 0.3058823529411765, 0.33725490196078434], [0.3568627450980392, 0.35294117647058826, 0.3843137254901961], [0.3843137254901961, 0.3803921568627451, 0.4117647058823529], [0.35294117647058826, 0.34901960784313724, 0.36470588235294116], [0.3137254901960784, 0.3058823529411765, 0.30980392156862746], [0.3137254901960784, 0.3058823529411765, 0.30980392156862746], [0.33725490196078434, 0.32941176470588235, 0.3333333333333333], [0.34901960784313724, 0.3411764705882353, 0.34901960784313724], [0.34901960784313724, 0.33725490196078434, 0.3686274509803922], [0.3215686274509804, 0.30980392156862746, 0.3411764705882353]], [[0.22745098039215686, 0.23137254901960785, 0.2901960784313726], [0.2235294117647059, 0.22745098039215686, 0.2823529411764706], [0.22745098039215686, 0.23137254901960785, 0.2901960784313726], [0.22745098039215686, 0.22745098039215686, 0.28627450980392155], [0.21568627450980393, 0.2235294117647059, 0.27058823529411763], [0.20392156862745098, 0.20784313725490197, 0.25882352941176473], [0.20392156862745098, 0.20784313725490197, 0.25882352941176473], [0.21176470588235294, 0.21176470588235294, 0.2549019607843137], [0.1450980392156863, 0.1411764705882353, 0.1803921568627451], [0.2, 0.19215686274509805, 0.23921568627450981], [0.3607843137254902, 0.34901960784313724, 0.403921568627451], [0.34509803921568627, 0.3333333333333333, 0.396078431372549], [0.34901960784313724, 0.33725490196078434, 0.403921568627451], [0.28627450980392155, 0.2784313725490196, 0.3333333333333333], [0.23137254901960785, 0.2235294117647059, 0.2627450980392157], [0.23921568627450981, 0.23137254901960785, 0.2823529411764706], [0.30196078431372547, 0.29411764705882354, 0.3607843137254902], [0.30980392156862746, 0.30980392156862746, 0.3764705882352941], [0.3058823529411765, 0.30196078431372547, 0.36470588235294116], [0.2980392156862745, 0.2980392156862745, 0.34901960784313724], [0.30980392156862746, 0.3058823529411765, 0.35294117647058826], [0.3333333333333333, 0.32941176470588235, 0.36470588235294116], [0.34901960784313724, 0.34509803921568627, 0.3764705882352941], [0.3607843137254902, 0.3568627450980392, 0.38823529411764707], [0.3843137254901961, 0.3803921568627451, 0.4117647058823529], [0.3607843137254902, 0.35294117647058826, 0.37254901960784315], [0.3254901960784314, 0.3176470588235294, 0.3215686274509804], [0.3254901960784314, 0.3176470588235294, 0.3176470588235294], [0.34509803921568627, 0.33725490196078434, 0.3411764705882353], [0.34509803921568627, 0.33725490196078434, 0.34509803921568627], [0.3215686274509804, 0.3137254901960784, 0.3333333333333333], [0.2901960784313726, 0.2823529411764706, 0.3058823529411765]], [[0.25098039215686274, 0.2549019607843137, 0.3254901960784314], [0.23921568627450981, 0.23921568627450981, 0.30980392156862746], [0.26666666666666666, 0.2627450980392157, 0.3254901960784314], [0.30980392156862746, 0.3058823529411765, 0.34509803921568627], [0.3764705882352941, 0.36470588235294116, 0.38823529411764707], [0.41568627450980394, 0.39215686274509803, 0.4235294117647059], [0.3411764705882353, 0.3333333333333333, 0.3764705882352941], [0.1803921568627451, 0.1843137254901961, 0.23529411764705882], [0.17647058823529413, 0.17254901960784313, 0.21176470588235294], [0.35294117647058826, 0.34509803921568627, 0.38823529411764707], [0.3568627450980392, 0.35294117647058826, 0.403921568627451], [0.3254901960784314, 0.3215686274509804, 0.38823529411764707], [0.396078431372549, 0.3843137254901961, 0.47058823529411764], [0.3607843137254902, 0.34509803921568627, 0.4235294117647059], [0.27058823529411763, 0.2627450980392157, 0.3137254901960784], [0.2627450980392157, 0.25098039215686274, 0.30196078431372547], [0.2901960784313726, 0.2823529411764706, 0.34509803921568627], [0.30196078431372547, 0.29411764705882354, 0.3686274509803922], [0.2901960784313726, 0.2823529411764706, 0.34901960784313724], [0.29411764705882354, 0.29411764705882354, 0.3411764705882353], [0.33725490196078434, 0.3411764705882353, 0.3843137254901961], [0.3843137254901961, 0.3803921568627451, 0.4235294117647059], [0.3803921568627451, 0.3764705882352941, 0.41568627450980394], [0.3607843137254902, 0.3568627450980392, 0.38823529411764707], [0.3568627450980392, 0.35294117647058826, 0.3803921568627451], [0.3411764705882353, 0.33725490196078434, 0.35294117647058826], [0.3254901960784314, 0.3176470588235294, 0.3254901960784314], [0.3176470588235294, 0.30980392156862746, 0.3176470588235294], [0.3137254901960784, 0.3058823529411765, 0.3137254901960784], [0.30196078431372547, 0.29411764705882354, 0.30196078431372547], [0.2823529411764706, 0.27450980392156865, 0.2901960784313726], [0.27450980392156865, 0.26666666666666666, 0.2823529411764706]], [[0.3333333333333333, 0.3254901960784314, 0.3843137254901961], [0.4392156862745098, 0.41568627450980394, 0.4823529411764706], [0.5686274509803921, 0.5411764705882353, 0.5725490196078431], [0.6392156862745098, 0.615686274509804, 0.6078431372549019], [0.7333333333333333, 0.6941176470588235, 0.6745098039215687], [0.7411764705882353, 0.6901960784313725, 0.6980392156862745], [0.3803921568627451, 0.36470588235294116, 0.40784313725490196], [0.14901960784313725, 0.17254901960784313, 0.23529411764705882], [0.39215686274509803, 0.3803921568627451, 0.40784313725490196], [0.4392156862745098, 0.43137254901960786, 0.4470588235294118], [0.3764705882352941, 0.3764705882352941, 0.403921568627451], [0.3568627450980392, 0.3568627450980392, 0.41568627450980394], [0.33725490196078434, 0.3254901960784314, 0.39215686274509803], [0.34509803921568627, 0.32941176470588235, 0.3843137254901961], [0.27058823529411763, 0.2549019607843137, 0.3058823529411765], [0.2823529411764706, 0.27058823529411763, 0.3176470588235294], [0.2627450980392157, 0.24705882352941178, 0.3058823529411765], [0.3137254901960784, 0.29411764705882354, 0.37254901960784315], [0.30980392156862746, 0.2980392156862745, 0.36470588235294116], [0.3058823529411765, 0.3058823529411765, 0.35294117647058826], [0.34509803921568627, 0.35294117647058826, 0.39215686274509803], [0.3843137254901961, 0.3803921568627451, 0.43529411764705883], [0.3764705882352941, 0.3686274509803922, 0.4196078431372549], [0.34509803921568627, 0.3411764705882353, 0.3764705882352941], [0.32941176470588235, 0.3254901960784314, 0.34901960784313724], [0.3137254901960784, 0.30980392156862746, 0.32941176470588235], [0.30980392156862746, 0.3058823529411765, 0.3254901960784314], [0.2901960784313726, 0.28627450980392155, 0.30196078431372547], [0.27450980392156865, 0.27058823529411763, 0.2901960784313726], [0.27450980392156865, 0.27058823529411763, 0.2901960784313726], [0.27058823529411763, 0.26666666666666666, 0.2901960784313726], [0.27058823529411763, 0.26666666666666666, 0.2901960784313726]], [[0.6470588235294118, 0.615686274509804, 0.6274509803921569], [0.7764705882352941, 0.7333333333333333, 0.7490196078431373], [0.8509803921568627, 0.807843137254902, 0.8], [0.8784313725490196, 0.8235294117647058, 0.792156862745098], [0.8862745098039215, 0.8431372549019608, 0.8274509803921568], [0.611764705882353, 0.596078431372549, 0.6313725490196078], [0.2, 0.19215686274509805, 0.24313725490196078], [0.3607843137254902, 0.34901960784313724, 0.37254901960784315], [0.6352941176470588, 0.6039215686274509, 0.5882352941176471], [0.596078431372549, 0.5686274509803921, 0.5411764705882353], [0.5058823529411764, 0.48627450980392156, 0.47843137254901963], [0.38823529411764707, 0.37254901960784315, 0.4], [0.37254901960784315, 0.3568627450980392, 0.39215686274509803], [0.45098039215686275, 0.4392156862745098, 0.4666666666666667], [0.4117647058823529, 0.4, 0.43137254901960786], [0.396078431372549, 0.3843137254901961, 0.41568627450980394], [0.34901960784313724, 0.3333333333333333, 0.3686274509803922], [0.3607843137254902, 0.3411764705882353, 0.39215686274509803], [0.3176470588235294, 0.3058823529411765, 0.3568627450980392], [0.3176470588235294, 0.3137254901960784, 0.3686274509803922], [0.32941176470588235, 0.32941176470588235, 0.3843137254901961], [0.3333333333333333, 0.32941176470588235, 0.3843137254901961], [0.3254901960784314, 0.3176470588235294, 0.3686274509803922], [0.3176470588235294, 0.30980392156862746, 0.34901960784313724], [0.2901960784313726, 0.28627450980392155, 0.3137254901960784], [0.2823529411764706, 0.2784313725490196, 0.30196078431372547], [0.2901960784313726, 0.28627450980392155, 0.30980392156862746], [0.2784313725490196, 0.27450980392156865, 0.2980392156862745], [0.27450980392156865, 0.27058823529411763, 0.29411764705882354], [0.2823529411764706, 0.2784313725490196, 0.30196078431372547], [0.29411764705882354, 0.2901960784313726, 0.3215686274509804], [0.2901960784313726, 0.28627450980392155, 0.3176470588235294]], [[0.8784313725490196, 0.8235294117647058, 0.7843137254901961], [0.8745098039215686, 0.8196078431372549, 0.7803921568627451], [0.8705882352941177, 0.8117647058823529, 0.7686274509803922], [0.8627450980392157, 0.8, 0.7607843137254902], [0.7176470588235294, 0.6862745098039216, 0.6941176470588235], [0.2901960784313726, 0.3058823529411765, 0.3686274509803922], [0.2549019607843137, 0.25098039215686274, 0.29411764705882354], [0.5647058823529412, 0.5137254901960784, 0.49411764705882355], [0.6862745098039216, 0.6274509803921569, 0.5803921568627451], [0.6313725490196078, 0.5803921568627451, 0.5294117647058824], [0.5843137254901961, 0.5411764705882353, 0.5019607843137255], [0.596078431372549, 0.5568627450980392, 0.5529411764705883], [0.6274509803921569, 0.6039215686274509, 0.615686274509804], [0.6431372549019608, 0.6235294117647059, 0.6352941176470588], [0.5647058823529412, 0.5450980392156862, 0.5568627450980392], [0.4588235294117647, 0.4392156862745098, 0.4549019607843137], [0.5294117647058824, 0.5098039215686274, 0.5254901960784314], [0.6, 0.5764705882352941, 0.596078431372549], [0.4235294117647059, 0.40784313725490196, 0.4392156862745098], [0.32941176470588235, 0.3176470588235294, 0.3686274509803922], [0.3176470588235294, 0.30980392156862746, 0.36470588235294116], [0.2823529411764706, 0.2784313725490196, 0.3254901960784314], [0.2784313725490196, 0.27058823529411763, 0.3137254901960784], [0.28627450980392155, 0.2784313725490196, 0.3215686274509804], [0.27058823529411763, 0.26666666666666666, 0.3058823529411765], [0.26666666666666666, 0.2627450980392157, 0.29411764705882354], [0.2901960784313726, 0.28627450980392155, 0.3137254901960784], [0.3058823529411765, 0.30196078431372547, 0.3254901960784314], [0.30196078431372547, 0.2980392156862745, 0.3254901960784314], [0.29411764705882354, 0.2901960784313726, 0.3176470588235294], [0.30980392156862746, 0.30196078431372547, 0.3411764705882353], [0.3058823529411765, 0.2980392156862745, 0.3411764705882353]], [[0.9019607843137255, 0.8313725490196079, 0.7725490196078432], [0.8431372549019608, 0.7843137254901961, 0.7254901960784313], [0.7568627450980392, 0.6980392156862745, 0.6549019607843137], [0.7529411764705882, 0.7098039215686275, 0.6941176470588235], [0.43137254901960786, 0.41568627450980394, 0.45098039215686275], [0.19607843137254902, 0.20392156862745098, 0.25882352941176473], [0.4235294117647059, 0.403921568627451, 0.4235294117647059], [0.615686274509804, 0.5568627450980392, 0.5215686274509804], [0.6274509803921569, 0.5568627450980392, 0.5098039215686274], [0.611764705882353, 0.5529411764705883, 0.49411764705882355], [0.6784313725490196, 0.6235294117647059, 0.5843137254901961], [0.7529411764705882, 0.7098039215686275, 0.7019607843137254], [0.6901960784313725, 0.6549019607843137, 0.6666666666666666], [0.6274509803921569, 0.6, 0.611764705882353], [0.5490196078431373, 0.5176470588235295, 0.5294117647058824], [0.47058823529411764, 0.4392156862745098, 0.45098039215686275], [0.5254901960784314, 0.49411764705882355, 0.5058823529411764], [0.7058823529411765, 0.6784313725490196, 0.6901960784313725], [0.7215686274509804, 0.6980392156862745, 0.7176470588235294], [0.4196078431372549, 0.40784313725490196, 0.43529411764705883], [0.2980392156862745, 0.29411764705882354, 0.3254901960784314], [0.27450980392156865, 0.27058823529411763, 0.2980392156862745], [0.27058823529411763, 0.2627450980392157, 0.30196078431372547], [0.2980392156862745, 0.2901960784313726, 0.3333333333333333], [0.2901960784313726, 0.2823529411764706, 0.3333333333333333], [0.27450980392156865, 0.26666666666666666, 0.3137254901960784], [0.2901960784313726, 0.28627450980392155, 0.3254901960784314], [0.3137254901960784, 0.3058823529411765, 0.34509803921568627], [0.3137254901960784, 0.3058823529411765, 0.34509803921568627], [0.2901960784313726, 0.2823529411764706, 0.3254901960784314], [0.29411764705882354, 0.28627450980392155, 0.3333333333333333], [0.2823529411764706, 0.27450980392156865, 0.3215686274509804]], [[0.8901960784313725, 0.8196078431372549, 0.7725490196078432], [0.796078431372549, 0.7411764705882353, 0.6901960784313725], [0.7019607843137254, 0.6509803921568628, 0.6274509803921569], [0.5725490196078431, 0.5607843137254902, 0.592156862745098], [0.2, 0.20392156862745098, 0.2549019607843137], [0.32941176470588235, 0.29411764705882354, 0.3176470588235294], [0.5764705882352941, 0.5254901960784314, 0.5176470588235295], [0.5882352941176471, 0.5450980392156862, 0.5176470588235295], [0.596078431372549, 0.5333333333333333, 0.5058823529411764], [0.6627450980392157, 0.6039215686274509, 0.5686274509803921], [0.7372549019607844, 0.6901960784313725, 0.6705882352941176], [0.7372549019607844, 0.6901960784313725, 0.7058823529411765], [0.6980392156862745, 0.6549019607843137, 0.6862745098039216], [0.6313725490196078, 0.592156862745098, 0.6196078431372549], [0.5764705882352941, 0.5411764705882353, 0.5686274509803921], [0.5450980392156862, 0.5098039215686274, 0.5372549019607843], [0.596078431372549, 0.5568627450980392, 0.5843137254901961], [0.6509803921568628, 0.611764705882353, 0.6392156862745098], [0.7568627450980392, 0.7294117647058823, 0.7450980392156863], [0.611764705882353, 0.596078431372549, 0.6], [0.34901960784313724, 0.3411764705882353, 0.3411764705882353], [0.27450980392156865, 0.27058823529411763, 0.28627450980392155], [0.3058823529411765, 0.30196078431372547, 0.3333333333333333], [0.3137254901960784, 0.3058823529411765, 0.34901960784313724], [0.2980392156862745, 0.2901960784313726, 0.34901960784313724], [0.28627450980392155, 0.2784313725490196, 0.3333333333333333], [0.2823529411764706, 0.27450980392156865, 0.3215686274509804], [0.2901960784313726, 0.2823529411764706, 0.32941176470588235], [0.28627450980392155, 0.2784313725490196, 0.3215686274509804], [0.27450980392156865, 0.26666666666666666, 0.3176470588235294], [0.2627450980392157, 0.2549019607843137, 0.30980392156862746], [0.24313725490196078, 0.23529411764705882, 0.2901960784313726]], [[0.8588235294117647, 0.8, 0.7725490196078432], [0.7411764705882353, 0.6941176470588235, 0.6588235294117647], [0.6823529411764706, 0.6392156862745098, 0.6235294117647059], [0.45098039215686275, 0.43137254901960786, 0.45098039215686275], [0.2980392156862745, 0.28627450980392155, 0.3137254901960784], [0.5450980392156862, 0.5058823529411764, 0.5058823529411764], [0.6313725490196078, 0.5764705882352941, 0.5647058823529412], [0.615686274509804, 0.5647058823529412, 0.5450980392156862], [0.6627450980392157, 0.611764705882353, 0.5882352941176471], [0.7215686274509804, 0.6705882352941176, 0.6627450980392157], [0.7333333333333333, 0.6823529411764706, 0.6980392156862745], [0.7372549019607844, 0.6862745098039216, 0.7176470588235294], [0.6941176470588235, 0.6509803921568628, 0.6823529411764706], [0.6392156862745098, 0.6039215686274509, 0.6392156862745098], [0.6235294117647059, 0.5882352941176471, 0.615686274509804], [0.6313725490196078, 0.5882352941176471, 0.596078431372549], [0.5843137254901961, 0.5411764705882353, 0.5529411764705883], [0.6235294117647059, 0.592156862745098, 0.6313725490196078], [0.6745098039215687, 0.6470588235294118, 0.6705882352941176], [0.6549019607843137, 0.6313725490196078, 0.6274509803921569], [0.5333333333333333, 0.5137254901960784, 0.4980392156862745], [0.43137254901960786, 0.403921568627451, 0.40784313725490196], [0.48627450980392156, 0.4549019607843137, 0.4745098039215686], [0.4235294117647059, 0.4, 0.44313725490196076], [0.3176470588235294, 0.2980392156862745, 0.3568627450980392], [0.29411764705882354, 0.2823529411764706, 0.33725490196078434], [0.2784313725490196, 0.27058823529411763, 0.3215686274509804], [0.26666666666666666, 0.25882352941176473, 0.30980392156862746], [0.2627450980392157, 0.25098039215686274, 0.3058823529411765], [0.27058823529411763, 0.26666666666666666, 0.3176470588235294], [0.26666666666666666, 0.2627450980392157, 0.3137254901960784], [0.25098039215686274, 0.24705882352941178, 0.2980392156862745]], [[0.7411764705882353, 0.6980392156862745, 0.6862745098039216], [0.6549019607843137, 0.611764705882353, 0.6], [0.6666666666666666, 0.6235294117647059, 0.611764705882353], [0.6392156862745098, 0.592156862745098, 0.5843137254901961], [0.6392156862745098, 0.6, 0.6], [0.6509803921568628, 0.6274509803921569, 0.6196078431372549], [0.6745098039215687, 0.6313725490196078, 0.615686274509804], [0.7607843137254902, 0.6901960784313725, 0.6666666666666666], [0.7725490196078432, 0.7254901960784313, 0.6901960784313725], [0.7176470588235294, 0.6705882352941176, 0.6705882352941176], [0.7294117647058823, 0.6784313725490196, 0.7098039215686275], [0.7411764705882353, 0.6901960784313725, 0.7215686274509804], [0.7058823529411765, 0.6588235294117647, 0.6784313725490196], [0.6588235294117647, 0.6235294117647059, 0.6470588235294118], [0.6235294117647059, 0.592156862745098, 0.6], [0.615686274509804, 0.5647058823529412, 0.5450980392156862], [0.5529411764705883, 0.4980392156862745, 0.4823529411764706], [0.5411764705882353, 0.5058823529411764, 0.5294117647058824], [0.5490196078431373, 0.5176470588235295, 0.5294117647058824], [0.5450980392156862, 0.5137254901960784, 0.5098039215686274], [0.6392156862745098, 0.6078431372549019, 0.6], [0.6392156862745098, 0.5843137254901961, 0.5843137254901961], [0.6313725490196078, 0.5803921568627451, 0.592156862745098], [0.5725490196078431, 0.5294117647058824, 0.5647058823529412], [0.41568627450980394, 0.3843137254901961, 0.43529411764705883], [0.3333333333333333, 0.3176470588235294, 0.3686274509803922], [0.2784313725490196, 0.27058823529411763, 0.3137254901960784], [0.25098039215686274, 0.24313725490196078, 0.28627450980392155], [0.25882352941176473, 0.25098039215686274, 0.29411764705882354], [0.2823529411764706, 0.27450980392156865, 0.3176470588235294], [0.28627450980392155, 0.28627450980392155, 0.3254901960784314], [0.27058823529411763, 0.27058823529411763, 0.3176470588235294]], [[0.6862745098039216, 0.6392156862745098, 0.6431372549019608], [0.6941176470588235, 0.6509803921568628, 0.6549019607843137], [0.7215686274509804, 0.6784313725490196, 0.6823529411764706], [0.7372549019607844, 0.6862745098039216, 0.7058823529411765], [0.7450980392156863, 0.6980392156862745, 0.7137254901960784], [0.7333333333333333, 0.6980392156862745, 0.6745098039215687], [0.7529411764705882, 0.7019607843137254, 0.6588235294117647], [0.8235294117647058, 0.7607843137254902, 0.7137254901960784], [0.7568627450980392, 0.7098039215686275, 0.6823529411764706], [0.7176470588235294, 0.6745098039215687, 0.6784313725490196], [0.7294117647058823, 0.6784313725490196, 0.7098039215686275], [0.7294117647058823, 0.6823529411764706, 0.7019607843137254], [0.7490196078431373, 0.6980392156862745, 0.7058823529411765], [0.7019607843137254, 0.6549019607843137, 0.6627450980392157], [0.5843137254901961, 0.5450980392156862, 0.5490196078431373], [0.5803921568627451, 0.5215686274509804, 0.5019607843137255], [0.6392156862745098, 0.5647058823529412, 0.5333333333333333], [0.6039215686274509, 0.5333333333333333, 0.5215686274509804], [0.592156862745098, 0.5372549019607843, 0.5294117647058824], [0.5333333333333333, 0.4980392156862745, 0.4980392156862745], [0.5803921568627451, 0.5529411764705883, 0.5568627450980392], [0.6784313725490196, 0.6352941176470588, 0.6352941176470588], [0.6431372549019608, 0.596078431372549, 0.6039215686274509], [0.5843137254901961, 0.5411764705882353, 0.5647058823529412], [0.49411764705882355, 0.4549019607843137, 0.49411764705882355], [0.35294117647058826, 0.33725490196078434, 0.3686274509803922], [0.23921568627450981, 0.23529411764705882, 0.2549019607843137], [0.21176470588235294, 0.20784313725490197, 0.22745098039215686], [0.2196078431372549, 0.21568627450980393, 0.23921568627450981], [0.23921568627450981, 0.23921568627450981, 0.25882352941176473], [0.2549019607843137, 0.2549019607843137, 0.28627450980392155], [0.27450980392156865, 0.27450980392156865, 0.3176470588235294]], [[0.7568627450980392, 0.7098039215686275, 0.7254901960784313], [0.7725490196078432, 0.7254901960784313, 0.7411764705882353], [0.7686274509803922, 0.7215686274509804, 0.7333333333333333], [0.7529411764705882, 0.7058823529411765, 0.7333333333333333], [0.7686274509803922, 0.7176470588235294, 0.7294117647058823], [0.792156862745098, 0.7411764705882353, 0.6980392156862745], [0.7647058823529411, 0.7058823529411765, 0.6352941176470588], [0.7843137254901961, 0.7254901960784313, 0.6666666666666666], [0.7411764705882353, 0.6941176470588235, 0.6745098039215687], [0.7529411764705882, 0.7058823529411765, 0.7176470588235294], [0.7372549019607844, 0.6862745098039216, 0.7137254901960784], [0.7450980392156863, 0.6980392156862745, 0.7098039215686275], [0.7333333333333333, 0.6823529411764706, 0.6784313725490196], [0.6078431372549019, 0.5647058823529412, 0.5607843137254902], [0.5490196078431373, 0.5098039215686274, 0.5137254901960784], [0.4980392156862745, 0.4392156862745098, 0.42745098039215684], [0.6, 0.5176470588235295, 0.48627450980392156], [0.6313725490196078, 0.5490196078431373, 0.5137254901960784], [0.611764705882353, 0.5490196078431373, 0.5333333333333333], [0.5882352941176471, 0.5490196078431373, 0.5529411764705883], [0.4392156862745098, 0.4117647058823529, 0.43137254901960786], [0.5764705882352941, 0.5411764705882353, 0.5450980392156862], [0.6588235294117647, 0.6196078431372549, 0.6235294117647059], [0.5607843137254902, 0.5176470588235295, 0.5333333333333333], [0.5254901960784314, 0.47843137254901963, 0.5019607843137255], [0.37254901960784315, 0.35294117647058826, 0.36470588235294116], [0.21568627450980393, 0.21568627450980393, 0.21568627450980393], [0.17647058823529413, 0.17647058823529413, 0.17647058823529413], [0.17254901960784313, 0.17254901960784313, 0.17647058823529413], [0.1843137254901961, 0.1843137254901961, 0.19215686274509805], [0.21568627450980393, 0.2196078431372549, 0.23921568627450981], [0.25882352941176473, 0.25882352941176473, 0.2901960784313726]], [[0.7843137254901961, 0.7372549019607844, 0.7372549019607844], [0.8117647058823529, 0.7686274509803922, 0.7686274509803922], [0.8431372549019608, 0.796078431372549, 0.796078431372549], [0.8235294117647058, 0.7803921568627451, 0.788235294117647], [0.807843137254902, 0.7568627450980392, 0.7411764705882353], [0.7803921568627451, 0.7137254901960784, 0.6470588235294118], [0.7490196078431373, 0.6784313725490196, 0.6039215686274509], [0.7568627450980392, 0.7019607843137254, 0.6549019607843137], [0.7411764705882353, 0.6941176470588235, 0.6823529411764706], [0.7568627450980392, 0.7058823529411765, 0.7254901960784313], [0.7607843137254902, 0.7098039215686275, 0.7333333333333333], [0.6862745098039216, 0.6392156862745098, 0.6392156862745098], [0.5058823529411764, 0.4666666666666667, 0.4588235294117647], [0.48627450980392156, 0.4627450980392157, 0.47058823529411764], [0.49019607843137253, 0.47058823529411764, 0.48627450980392156], [0.44313725490196076, 0.396078431372549, 0.4117647058823529], [0.44313725490196076, 0.3803921568627451, 0.3686274509803922], [0.5137254901960784, 0.4588235294117647, 0.43137254901960786], [0.5568627450980392, 0.5098039215686274, 0.5019607843137255], [0.5686274509803921, 0.5294117647058824, 0.5450980392156862], [0.5294117647058824, 0.4980392156862745, 0.5254901960784314], [0.5333333333333333, 0.5058823529411764, 0.5137254901960784], [0.5372549019607843, 0.5058823529411764, 0.5058823529411764], [0.5058823529411764, 0.4666666666666667, 0.47058823529411764], [0.5019607843137255, 0.4470588235294118, 0.4588235294117647], [0.4235294117647059, 0.396078431372549, 0.403921568627451], [0.27450980392156865, 0.27450980392156865, 0.2784313725490196], [0.19607843137254902, 0.19607843137254902, 0.2], [0.20392156862745098, 0.20392156862745098, 0.20784313725490197], [0.21176470588235294, 0.21176470588235294, 0.2196078431372549], [0.23137254901960785, 0.23529411764705882, 0.25098039215686274], [0.2549019607843137, 0.25882352941176473, 0.2823529411764706]]]]}'"
            ],
            "application/vnd.google.colaboratory.intrinsic+json": {
              "type": "string"
            }
          },
          "metadata": {},
          "execution_count": 51
        }
      ]
    },
    {
      "cell_type": "markdown",
      "metadata": {
        "id": "KZDKjyfbPoIa"
      },
      "source": [
        "### Enviar la primera petición POST al modelo"
      ]
    },
    {
      "cell_type": "code",
      "metadata": {
        "id": "7oFbtxiyPe4p"
      },
      "source": [
        "headers = {\"content-type\":\"application/json\"}"
      ],
      "execution_count": 52,
      "outputs": []
    },
    {
      "cell_type": "code",
      "metadata": {
        "id": "I5KHh02nQYIJ"
      },
      "source": [
        "json_response = requests.post(url=\"http://localhost:8000/v1/models/cifar10:predict\", data=data, headers=headers)"
      ],
      "execution_count": 53,
      "outputs": []
    },
    {
      "cell_type": "code",
      "metadata": {
        "id": "bMYkCQ4gQ2tR",
        "outputId": "d06bd577-cc09-455e-a501-cd0d476bbc1a",
        "colab": {
          "base_uri": "https://localhost:8080/"
        }
      },
      "source": [
        "json_response"
      ],
      "execution_count": 54,
      "outputs": [
        {
          "output_type": "execute_result",
          "data": {
            "text/plain": [
              "<Response [200]>"
            ]
          },
          "metadata": {},
          "execution_count": 54
        }
      ]
    },
    {
      "cell_type": "code",
      "metadata": {
        "id": "UtoG2441Q4_I"
      },
      "source": [
        "predictions = json.loads(json_response.text)['predictions']"
      ],
      "execution_count": 55,
      "outputs": []
    },
    {
      "cell_type": "code",
      "metadata": {
        "id": "hA-jN6xSRK2S",
        "outputId": "3fcde2c9-4afb-442f-8265-a77aa6e3649a",
        "colab": {
          "base_uri": "https://localhost:8080/"
        }
      },
      "source": [
        "predictions"
      ],
      "execution_count": 56,
      "outputs": [
        {
          "output_type": "execute_result",
          "data": {
            "text/plain": [
              "[[1.92827338e-06,\n",
              "  1.63173608e-09,\n",
              "  0.903275073,\n",
              "  3.31582123e-05,\n",
              "  0.000100700163,\n",
              "  0.0959045365,\n",
              "  0.00067151984,\n",
              "  1.25516135e-05,\n",
              "  6.89692783e-08,\n",
              "  4.22923421e-07]]"
            ]
          },
          "metadata": {},
          "execution_count": 56
        }
      ]
    },
    {
      "cell_type": "code",
      "metadata": {
        "id": "KlyFNxrxRL_A",
        "outputId": "136c5f08-1986-4281-d517-fd4baf3bc00a",
        "colab": {
          "base_uri": "https://localhost:8080/",
          "height": 447
        }
      },
      "source": [
        "plt.imshow(X_test[random_image])"
      ],
      "execution_count": 57,
      "outputs": [
        {
          "output_type": "execute_result",
          "data": {
            "text/plain": [
              "<matplotlib.image.AxesImage at 0x7cfd9cf93250>"
            ]
          },
          "metadata": {},
          "execution_count": 57
        },
        {
          "output_type": "display_data",
          "data": {
            "text/plain": [
              "<Figure size 640x480 with 1 Axes>"
            ],
            "image/png": "[encoded data removed]"
          },
          "metadata": {}
        }
      ]
    },
    {
      "cell_type": "code",
      "metadata": {
        "id": "E3WbrMl_RW1Y",
        "outputId": "000ea59a-f009-433f-bbe6-30c0cf2a7a6f",
        "colab": {
          "base_uri": "https://localhost:8080/",
          "height": 35
        }
      },
      "source": [
        "class_names[np.argmax(predictions[0])]"
      ],
      "execution_count": 58,
      "outputs": [
        {
          "output_type": "execute_result",
          "data": {
            "text/plain": [
              "'pájaro'"
            ],
            "application/vnd.google.colaboratory.intrinsic+json": {
              "type": "string"
            }
          },
          "metadata": {},
          "execution_count": 58
        }
      ]
    },
    {
      "cell_type": "markdown",
      "metadata": {
        "id": "OVN6T3tFR_IQ"
      },
      "source": [
        "## Paso 8: Enviar una petición POST a un modelo específico\n",
        "\n"
      ]
    },
    {
      "cell_type": "code",
      "metadata": {
        "id": "5TYXGo-XRkCo"
      },
      "source": [
        "specific_json_response = requests.post(url=\"http://localhost:8000/v1/models/cifar10/versions/1:predict\", data=data, headers=headers)"
      ],
      "execution_count": 59,
      "outputs": []
    },
    {
      "cell_type": "code",
      "metadata": {
        "id": "TF9nOKVeS9ER",
        "outputId": "32d617ef-743c-4f57-b06a-3be5ce68f305",
        "colab": {
          "base_uri": "https://localhost:8080/"
        }
      },
      "source": [
        "specific_json_response"
      ],
      "execution_count": 60,
      "outputs": [
        {
          "output_type": "execute_result",
          "data": {
            "text/plain": [
              "<Response [200]>"
            ]
          },
          "metadata": {},
          "execution_count": 60
        }
      ]
    },
    {
      "cell_type": "markdown",
      "metadata": {
        "id": "ai6B4chheqry"
      },
      "source": [
        "## Paso 9: Test\n"
      ]
    },
    {
      "cell_type": "code",
      "source": [
        "import imageio\n",
        "image = imageio.imread(\"ca.png\")"
      ],
      "metadata": {
        "colab": {
          "base_uri": "https://localhost:8080/"
        },
        "id": "A3Si62wngTqi",
        "outputId": "a3531e70-c65d-4d2f-f2ad-3ae08c3969bf"
      },
      "execution_count": 61,
      "outputs": [
        {
          "output_type": "stream",
          "name": "stderr",
          "text": [
            "<ipython-input-61-c12b937e67d9>:2: DeprecationWarning: Starting with ImageIO v3 the behavior of this function will switch to that of iio.v3.imread. To keep the current behavior (and make this warning disappear) use `import imageio.v2 as imageio` or call `imageio.v2.imread` directly.\n",
            "  image = imageio.imread(\"ca.png\")\n"
          ]
        }
      ]
    },
    {
      "cell_type": "code",
      "metadata": {
        "id": "3SqhGPXAe19l"
      },
      "source": [
        "data = json.dumps({\"signature_name\":\"serving_default\", \"instances\":[image.tolist()]})"
      ],
      "execution_count": 62,
      "outputs": []
    },
    {
      "cell_type": "code",
      "source": [
        "headers = {\"content-type\":\"application/json\"}"
      ],
      "metadata": {
        "id": "rqDiZx9xfAHa"
      },
      "execution_count": 63,
      "outputs": []
    },
    {
      "cell_type": "code",
      "source": [
        "json_response = requests.post(url=\"http://localhost:8000/v1/models/cifar10:predict\", data=data, headers=headers)"
      ],
      "metadata": {
        "id": "L2nI_doBfAN7"
      },
      "execution_count": 64,
      "outputs": []
    },
    {
      "cell_type": "code",
      "source": [
        "json_response"
      ],
      "metadata": {
        "colab": {
          "base_uri": "https://localhost:8080/"
        },
        "id": "ad9hOSoCgu9F",
        "outputId": "72e93edc-f537-4332-ed13-e5352f1e6418"
      },
      "execution_count": 65,
      "outputs": [
        {
          "output_type": "execute_result",
          "data": {
            "text/plain": [
              "<Response [200]>"
            ]
          },
          "metadata": {},
          "execution_count": 65
        }
      ]
    },
    {
      "cell_type": "code",
      "source": [
        "predictions = json.loads(json_response.text)['predictions']"
      ],
      "metadata": {
        "id": "Qy15zOi-fARr"
      },
      "execution_count": 66,
      "outputs": []
    },
    {
      "cell_type": "code",
      "source": [
        "plt.imshow(image)"
      ],
      "metadata": {
        "colab": {
          "base_uri": "https://localhost:8080/",
          "height": 447
        },
        "id": "8_liJuJAfEYD",
        "outputId": "0206d710-1cd3-4e47-8c9e-bc57613a0e0d"
      },
      "execution_count": 67,
      "outputs": [
        {
          "output_type": "execute_result",
          "data": {
            "text/plain": [
              "<matplotlib.image.AxesImage at 0x7cfd9cb9f880>"
            ]
          },
          "metadata": {},
          "execution_count": 67
        },
        {
          "output_type": "display_data",
          "data": {
            "text/plain": [
              "<Figure size 640x480 with 1 Axes>"
            ],
            "image/png": "[encoded data removed]"
          },
          "metadata": {}
        }
      ]
    },
    {
      "cell_type": "code",
      "source": [
        "class_names[np.argmax(predictions[0])]"
      ],
      "metadata": {
        "colab": {
          "base_uri": "https://localhost:8080/",
          "height": 35
        },
        "id": "nARli5vzfEfS",
        "outputId": "f80472f4-75d9-41c1-ab5f-05feac0a9d16"
      },
      "execution_count": 68,
      "outputs": [
        {
          "output_type": "execute_result",
          "data": {
            "text/plain": [
              "'caballo'"
            ],
            "application/vnd.google.colaboratory.intrinsic+json": {
              "type": "string"
            }
          },
          "metadata": {},
          "execution_count": 68
        }
      ]
    }
  ]
}