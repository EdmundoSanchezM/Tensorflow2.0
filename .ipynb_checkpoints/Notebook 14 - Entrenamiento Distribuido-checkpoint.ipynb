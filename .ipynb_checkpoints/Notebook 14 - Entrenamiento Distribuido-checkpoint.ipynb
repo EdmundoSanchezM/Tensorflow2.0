{
 "cells": [
  {
   "cell_type": "markdown",
   "metadata": {
    "colab_type": "text",
    "id": "lSKxj2vSED3K"
   },
   "source": [
    "## Paso 1: Importar las dependencias del proyecto"
   ]
  },
  {
   "cell_type": "code",
   "execution_count": 1,
   "metadata": {
    "colab": {},
    "colab_type": "code",
    "id": "SJgY-K01ELTU"
   },
   "outputs": [],
   "source": [
    "import time\n",
    "import numpy as np\n",
    "import tensorflow as tf"
   ]
  },
  {
   "cell_type": "code",
   "execution_count": 2,
   "metadata": {
    "colab": {
     "base_uri": "https://localhost:8080/",
     "height": 34
    },
    "colab_type": "code",
    "executionInfo": {
     "elapsed": 1040,
     "status": "ok",
     "timestamp": 1565191066373,
     "user": {
      "displayName": "Juan Gabriel Gomila Salas",
      "photoUrl": "https://lh4.googleusercontent.com/-RJ38mzk8Fog/AAAAAAAAAAI/AAAAAAAAA_g/VV8PcNMAUrk/s64/photo.jpg",
      "userId": "03106941341701838274"
     },
     "user_tz": -120
    },
    "id": "sRUOhsd8EMht",
    "outputId": "0deacce3-68b5-4c65-dd01-e7875ca7eb09"
   },
   "outputs": [
    {
     "data": {
      "text/plain": [
       "'2.13.0'"
      ]
     },
     "execution_count": 2,
     "metadata": {},
     "output_type": "execute_result"
    }
   ],
   "source": [
    "tf.__version__"
   ]
  },
  {
   "cell_type": "markdown",
   "metadata": {
    "colab_type": "text",
    "id": "26ptHcr0EI0a"
   },
   "source": [
    "## Paso 2: Pre procesado del dataset"
   ]
  },
  {
   "cell_type": "markdown",
   "metadata": {
    "colab_type": "text",
    "id": "hczKVjTGEjAH"
   },
   "source": [
    "### Cargar el dataset del MNIST"
   ]
  },
  {
   "cell_type": "code",
   "execution_count": 3,
   "metadata": {
    "colab": {
     "base_uri": "https://localhost:8080/",
     "height": 51
    },
    "colab_type": "code",
    "executionInfo": {
     "elapsed": 1745,
     "status": "ok",
     "timestamp": 1565191155374,
     "user": {
      "displayName": "Juan Gabriel Gomila Salas",
      "photoUrl": "https://lh4.googleusercontent.com/-RJ38mzk8Fog/AAAAAAAAAAI/AAAAAAAAA_g/VV8PcNMAUrk/s64/photo.jpg",
      "userId": "03106941341701838274"
     },
     "user_tz": -120
    },
    "id": "G1Ha87twDSHS",
    "outputId": "0af79b94-2805-44eb-b6a2-12887e630788"
   },
   "outputs": [],
   "source": [
    "(X_train, y_train), (X_test, y_test) = tf.keras.datasets.mnist.load_data()"
   ]
  },
  {
   "cell_type": "markdown",
   "metadata": {
    "colab_type": "text",
    "id": "7Rx1xqx0Ek2Y"
   },
   "source": [
    "### Normalización de las imágenes"
   ]
  },
  {
   "cell_type": "code",
   "execution_count": 4,
   "metadata": {
    "colab": {},
    "colab_type": "code",
    "id": "iiCH6RVDEmdS"
   },
   "outputs": [],
   "source": [
    "X_train = X_train / 255.\n",
    "X_test = X_test / 255."
   ]
  },
  {
   "cell_type": "code",
   "execution_count": 5,
   "metadata": {
    "colab": {
     "base_uri": "https://localhost:8080/",
     "height": 34
    },
    "colab_type": "code",
    "executionInfo": {
     "elapsed": 1714,
     "status": "ok",
     "timestamp": 1565191250087,
     "user": {
      "displayName": "Juan Gabriel Gomila Salas",
      "photoUrl": "https://lh4.googleusercontent.com/-RJ38mzk8Fog/AAAAAAAAAAI/AAAAAAAAA_g/VV8PcNMAUrk/s64/photo.jpg",
      "userId": "03106941341701838274"
     },
     "user_tz": -120
    },
    "id": "dKO-LUwRF_VN",
    "outputId": "40c577fa-d389-4131-81cf-8f0bc230696d"
   },
   "outputs": [
    {
     "data": {
      "text/plain": [
       "(60000, 28, 28)"
      ]
     },
     "execution_count": 5,
     "metadata": {},
     "output_type": "execute_result"
    }
   ],
   "source": [
    "X_train.shape"
   ]
  },
  {
   "cell_type": "markdown",
   "metadata": {
    "colab_type": "text",
    "id": "cFay5qJlEm9j"
   },
   "source": [
    "### Redimensionar el dataset"
   ]
  },
  {
   "cell_type": "code",
   "execution_count": 6,
   "metadata": {
    "colab": {},
    "colab_type": "code",
    "id": "jKSk6QhDEpTR"
   },
   "outputs": [],
   "source": [
    "X_train = X_train.reshape(-1, 28*28)\n",
    "X_test = X_test.reshape(-1, 28*28)"
   ]
  },
  {
   "cell_type": "code",
   "execution_count": 7,
   "metadata": {
    "colab": {
     "base_uri": "https://localhost:8080/",
     "height": 34
    },
    "colab_type": "code",
    "executionInfo": {
     "elapsed": 2491,
     "status": "ok",
     "timestamp": 1565191341125,
     "user": {
      "displayName": "Juan Gabriel Gomila Salas",
      "photoUrl": "https://lh4.googleusercontent.com/-RJ38mzk8Fog/AAAAAAAAAAI/AAAAAAAAA_g/VV8PcNMAUrk/s64/photo.jpg",
      "userId": "03106941341701838274"
     },
     "user_tz": -120
    },
    "id": "tY5ZlIXbGT6z",
    "outputId": "31578489-842b-4f3a-82c4-ba7c153c59ee"
   },
   "outputs": [
    {
     "data": {
      "text/plain": [
       "(60000, 784)"
      ]
     },
     "execution_count": 7,
     "metadata": {},
     "output_type": "execute_result"
    }
   ],
   "source": [
    "X_train.shape"
   ]
  },
  {
   "cell_type": "markdown",
   "metadata": {
    "colab_type": "text",
    "id": "4C4z3xaBHCkj"
   },
   "source": [
    "## Paso 3: Entrenamiento distribuido"
   ]
  },
  {
   "cell_type": "markdown",
   "metadata": {
    "colab_type": "text",
    "id": "Go7pPmPNHF4i"
   },
   "source": [
    "### Definir un modelo normal (no distribuido)"
   ]
  },
  {
   "cell_type": "code",
   "execution_count": 8,
   "metadata": {
    "colab": {},
    "colab_type": "code",
    "id": "y0-yHacPGVbC"
   },
   "outputs": [],
   "source": [
    "model_normal = tf.keras.models.Sequential()"
   ]
  },
  {
   "cell_type": "code",
   "execution_count": 9,
   "metadata": {
    "colab": {},
    "colab_type": "code",
    "id": "cZXEmKu2Hnwa"
   },
   "outputs": [],
   "source": [
    "model_normal.add(tf.keras.layers.Dense(units=128, activation='relu', input_shape=(784,)))"
   ]
  },
  {
   "cell_type": "code",
   "execution_count": 10,
   "metadata": {
    "colab": {},
    "colab_type": "code",
    "id": "D8x-c_2WH2xi"
   },
   "outputs": [],
   "source": [
    "model_normal.add(tf.keras.layers.Dropout(rate=0.2))"
   ]
  },
  {
   "cell_type": "code",
   "execution_count": 11,
   "metadata": {
    "colab": {},
    "colab_type": "code",
    "id": "VyRrtur0H_F7"
   },
   "outputs": [],
   "source": [
    "model_normal.add(tf.keras.layers.Dense(units=10, activation='softmax'))"
   ]
  },
  {
   "cell_type": "code",
   "execution_count": 12,
   "metadata": {
    "colab": {},
    "colab_type": "code",
    "id": "4bw4pGh7IID6"
   },
   "outputs": [],
   "source": [
    "model_normal.compile(optimizer='adam', loss='sparse_categorical_crossentropy', metrics=['sparse_categorical_accuracy'])"
   ]
  },
  {
   "cell_type": "markdown",
   "metadata": {
    "colab_type": "text",
    "id": "QxNAPpg_Ixd1"
   },
   "source": [
    "### Definir una estrategia distribuida"
   ]
  },
  {
   "cell_type": "code",
   "execution_count": 13,
   "metadata": {
    "colab": {},
    "colab_type": "code",
    "id": "7eqaEeJ8IY5c"
   },
   "outputs": [
    {
     "name": "stdout",
     "output_type": "stream",
     "text": [
      "INFO:tensorflow:Using MirroredStrategy with devices ('/job:localhost/replica:0/task:0/device:CPU:0',)\n"
     ]
    }
   ],
   "source": [
    "distribute = tf.distribute.MirroredStrategy()#Modelo a usar"
   ]
  },
  {
   "cell_type": "markdown",
   "metadata": {
    "colab_type": "text",
    "id": "Yq18oQJyLvR8"
   },
   "source": [
    "### Definir un modelo distribuido"
   ]
  },
  {
   "cell_type": "code",
   "execution_count": 14,
   "metadata": {
    "colab": {},
    "colab_type": "code",
    "id": "G1PqCVZHJWDS"
   },
   "outputs": [],
   "source": [
    "with distribute.scope():#Definir modelo\n",
    "  model_distributed = tf.keras.models.Sequential()\n",
    "  model_distributed.add(tf.keras.layers.Dense(units=128, activation='relu', input_shape=(784,)))\n",
    "  model_distributed.add(tf.keras.layers.Dropout(rate=0.2))\n",
    "  model_distributed.add(tf.keras.layers.Dense(units=10, activation='softmax'))\n",
    "  model_distributed.compile(optimizer='adam', loss='sparse_categorical_crossentropy', metrics=['sparse_categorical_accuracy'])"
   ]
  },
  {
   "cell_type": "markdown",
   "metadata": {
    "colab_type": "text",
    "id": "yq-5J0hmNJPh"
   },
   "source": [
    "### Comparar la velocidad de entrenamiento normal vs distribuida"
   ]
  },
  {
   "cell_type": "code",
   "execution_count": 15,
   "metadata": {
    "colab": {
     "base_uri": "https://localhost:8080/",
     "height": 374
    },
    "colab_type": "code",
    "executionInfo": {
     "elapsed": 153541,
     "status": "ok",
     "timestamp": 1565192598404,
     "user": {
      "displayName": "Juan Gabriel Gomila Salas",
      "photoUrl": "https://lh4.googleusercontent.com/-RJ38mzk8Fog/AAAAAAAAAAI/AAAAAAAAA_g/VV8PcNMAUrk/s64/photo.jpg",
      "userId": "03106941341701838274"
     },
     "user_tz": -120
    },
    "id": "0DYLCQftM99q",
    "outputId": "6712a2cc-5081-4d04-a27b-490130711f43"
   },
   "outputs": [
    {
     "name": "stdout",
     "output_type": "stream",
     "text": [
      "Epoch 1/20\n",
      "3000/3000 [==============================] - 8s 3ms/step - loss: 0.2733 - sparse_categorical_accuracy: 0.9190\n",
      "Epoch 2/20\n",
      "3000/3000 [==============================] - 8s 3ms/step - loss: 0.1350 - sparse_categorical_accuracy: 0.9588\n",
      "Epoch 3/20\n",
      "3000/3000 [==============================] - 8s 3ms/step - loss: 0.1042 - sparse_categorical_accuracy: 0.9681\n",
      "Epoch 4/20\n",
      "3000/3000 [==============================] - 8s 3ms/step - loss: 0.0846 - sparse_categorical_accuracy: 0.9736\n",
      "Epoch 5/20\n",
      "3000/3000 [==============================] - 8s 3ms/step - loss: 0.0724 - sparse_categorical_accuracy: 0.9776\n",
      "Epoch 6/20\n",
      "3000/3000 [==============================] - 8s 3ms/step - loss: 0.0633 - sparse_categorical_accuracy: 0.9792\n",
      "Epoch 7/20\n",
      "3000/3000 [==============================] - 8s 3ms/step - loss: 0.0571 - sparse_categorical_accuracy: 0.9814\n",
      "Epoch 8/20\n",
      "3000/3000 [==============================] - 7s 2ms/step - loss: 0.0535 - sparse_categorical_accuracy: 0.9824\n",
      "Epoch 9/20\n",
      "3000/3000 [==============================] - 8s 3ms/step - loss: 0.0496 - sparse_categorical_accuracy: 0.9839\n",
      "Epoch 10/20\n",
      "3000/3000 [==============================] - 8s 3ms/step - loss: 0.0436 - sparse_categorical_accuracy: 0.9856\n",
      "Epoch 11/20\n",
      "3000/3000 [==============================] - 8s 3ms/step - loss: 0.0442 - sparse_categorical_accuracy: 0.9850\n",
      "Epoch 12/20\n",
      "3000/3000 [==============================] - 8s 3ms/step - loss: 0.0394 - sparse_categorical_accuracy: 0.9863\n",
      "Epoch 13/20\n",
      "3000/3000 [==============================] - 8s 3ms/step - loss: 0.0369 - sparse_categorical_accuracy: 0.9878\n",
      "Epoch 14/20\n",
      "3000/3000 [==============================] - 8s 3ms/step - loss: 0.0357 - sparse_categorical_accuracy: 0.9877\n",
      "Epoch 15/20\n",
      "3000/3000 [==============================] - 8s 3ms/step - loss: 0.0341 - sparse_categorical_accuracy: 0.9885\n",
      "Epoch 16/20\n",
      "3000/3000 [==============================] - 8s 3ms/step - loss: 0.0336 - sparse_categorical_accuracy: 0.9883\n",
      "Epoch 17/20\n",
      "3000/3000 [==============================] - 8s 3ms/step - loss: 0.0331 - sparse_categorical_accuracy: 0.9887\n",
      "Epoch 18/20\n",
      "3000/3000 [==============================] - 8s 3ms/step - loss: 0.0300 - sparse_categorical_accuracy: 0.9900\n",
      "Epoch 19/20\n",
      "3000/3000 [==============================] - 8s 3ms/step - loss: 0.0290 - sparse_categorical_accuracy: 0.9902\n",
      "Epoch 20/20\n",
      "3000/3000 [==============================] - 12s 4ms/step - loss: 0.0278 - sparse_categorical_accuracy: 0.9910\n",
      "El entrenamiento distribuido ha tardado: 161.62584233283997\n"
     ]
    }
   ],
   "source": [
    "start_time = time.time()\n",
    "model_distributed.fit(X_train, y_train, epochs=20, batch_size=20)\n",
    "print(\"El entrenamiento distribuido ha tardado: {}\".format(time.time() - start_time))"
   ]
  },
  {
   "cell_type": "code",
   "execution_count": 16,
   "metadata": {
    "colab": {
     "base_uri": "https://localhost:8080/",
     "height": 374
    },
    "colab_type": "code",
    "executionInfo": {
     "elapsed": 297781,
     "status": "ok",
     "timestamp": 1565192745275,
     "user": {
      "displayName": "Juan Gabriel Gomila Salas",
      "photoUrl": "https://lh4.googleusercontent.com/-RJ38mzk8Fog/AAAAAAAAAAI/AAAAAAAAA_g/VV8PcNMAUrk/s64/photo.jpg",
      "userId": "03106941341701838274"
     },
     "user_tz": -120
    },
    "id": "Ub9tQLLTNYTt",
    "outputId": "e8982ff6-e9eb-4d2f-8f68-6108c4774a38"
   },
   "outputs": [
    {
     "name": "stdout",
     "output_type": "stream",
     "text": [
      "Epoch 1/20\n",
      "3000/3000 [==============================] - 7s 2ms/step - loss: 0.2714 - sparse_categorical_accuracy: 0.9202\n",
      "Epoch 2/20\n",
      "3000/3000 [==============================] - 6s 2ms/step - loss: 0.1357 - sparse_categorical_accuracy: 0.9587\n",
      "Epoch 3/20\n",
      "3000/3000 [==============================] - 6s 2ms/step - loss: 0.1017 - sparse_categorical_accuracy: 0.9687\n",
      "Epoch 4/20\n",
      "3000/3000 [==============================] - 6s 2ms/step - loss: 0.0838 - sparse_categorical_accuracy: 0.9738\n",
      "Epoch 5/20\n",
      "3000/3000 [==============================] - 6s 2ms/step - loss: 0.0745 - sparse_categorical_accuracy: 0.9763\n",
      "Epoch 6/20\n",
      "3000/3000 [==============================] - 6s 2ms/step - loss: 0.0643 - sparse_categorical_accuracy: 0.9792\n",
      "Epoch 7/20\n",
      "3000/3000 [==============================] - 6s 2ms/step - loss: 0.0574 - sparse_categorical_accuracy: 0.9808\n",
      "Epoch 8/20\n",
      "3000/3000 [==============================] - 6s 2ms/step - loss: 0.0516 - sparse_categorical_accuracy: 0.9829\n",
      "Epoch 9/20\n",
      "3000/3000 [==============================] - 6s 2ms/step - loss: 0.0489 - sparse_categorical_accuracy: 0.9843\n",
      "Epoch 10/20\n",
      "3000/3000 [==============================] - 6s 2ms/step - loss: 0.0442 - sparse_categorical_accuracy: 0.9852\n",
      "Epoch 11/20\n",
      "3000/3000 [==============================] - 6s 2ms/step - loss: 0.0408 - sparse_categorical_accuracy: 0.9864\n",
      "Epoch 12/20\n",
      "3000/3000 [==============================] - 6s 2ms/step - loss: 0.0395 - sparse_categorical_accuracy: 0.9864\n",
      "Epoch 13/20\n",
      "3000/3000 [==============================] - 6s 2ms/step - loss: 0.0360 - sparse_categorical_accuracy: 0.9881\n",
      "Epoch 14/20\n",
      "3000/3000 [==============================] - 6s 2ms/step - loss: 0.0371 - sparse_categorical_accuracy: 0.9880\n",
      "Epoch 15/20\n",
      "3000/3000 [==============================] - 7s 2ms/step - loss: 0.0325 - sparse_categorical_accuracy: 0.9887\n",
      "Epoch 16/20\n",
      "3000/3000 [==============================] - 6s 2ms/step - loss: 0.0313 - sparse_categorical_accuracy: 0.9897\n",
      "Epoch 17/20\n",
      "3000/3000 [==============================] - 6s 2ms/step - loss: 0.0337 - sparse_categorical_accuracy: 0.9884\n",
      "Epoch 18/20\n",
      "3000/3000 [==============================] - 7s 2ms/step - loss: 0.0293 - sparse_categorical_accuracy: 0.9900\n",
      "Epoch 19/20\n",
      "3000/3000 [==============================] - 6s 2ms/step - loss: 0.0288 - sparse_categorical_accuracy: 0.9901\n",
      "Epoch 20/20\n",
      "3000/3000 [==============================] - 6s 2ms/step - loss: 0.0281 - sparse_categorical_accuracy: 0.9900\n",
      "El entrenamiento normal ha tardado: 123.94374561309814\n"
     ]
    }
   ],
   "source": [
    "start_time = time.time()\n",
    "model_normal.fit(X_train, y_train, epochs=20, batch_size=20)\n",
    "print(\"El entrenamiento normal ha tardado: {}\".format(time.time() - start_time))"
   ]
  },
  {
   "cell_type": "code",
   "execution_count": 17,
   "metadata": {
    "colab": {},
    "colab_type": "code",
    "id": "1CxbQ8JMOF4q"
   },
   "outputs": [
    {
     "name": "stdout",
     "output_type": "stream",
     "text": [
      "313/313 [==============================] - 1s 2ms/step - loss: 0.0976 - sparse_categorical_accuracy: 0.9794\n",
      "Precisión del conjunto de test Distribuido: 0.9793999791145325\n",
      "313/313 [==============================] - 1s 2ms/step - loss: 0.0958 - sparse_categorical_accuracy: 0.9797\n",
      "Precisión del conjunto de test Normal: 0.9797000288963318\n"
     ]
    }
   ],
   "source": [
    "test_loss, test_accuracy = model_distributed.evaluate(X_test, y_test)\n",
    "print(\"Precisión del conjunto de test Distribuido: {}\".format(test_accuracy))\n",
    "test_loss, test_accuracy = model_normal.evaluate(X_test, y_test)\n",
    "print(\"Precisión del conjunto de test Normal: {}\".format(test_accuracy))"
   ]
  },
  {
   "cell_type": "code",
   "execution_count": null,
   "metadata": {},
   "outputs": [],
   "source": []
  }
 ],
 "metadata": {
  "accelerator": "GPU",
  "colab": {
   "collapsed_sections": [],
   "name": "Collab 14 - Entrenamiento Distribuido.ipynb",
   "provenance": [
    {
     "file_id": "1RABY1ldyCwtHgXIYx8xzyLd0kI3IfKRk",
     "timestamp": 1565177507295
    }
   ],
   "version": "0.3.2"
  },
  "kernelspec": {
   "display_name": "Python 3 (ipykernel)",
   "language": "python",
   "name": "python3"
  },
  "language_info": {
   "codemirror_mode": {
    "name": "ipython",
    "version": 3
   },
   "file_extension": ".py",
   "mimetype": "text/x-python",
   "name": "python",
   "nbconvert_exporter": "python",
   "pygments_lexer": "ipython3",
   "version": "3.9.16"
  }
 },
 "nbformat": 4,
 "nbformat_minor": 1
}
