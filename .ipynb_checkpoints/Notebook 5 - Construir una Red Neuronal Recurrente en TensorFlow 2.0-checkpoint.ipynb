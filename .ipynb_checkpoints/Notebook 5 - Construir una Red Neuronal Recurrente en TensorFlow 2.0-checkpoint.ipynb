{
 "cells": [
  {
   "cell_type": "markdown",
   "metadata": {
    "colab_type": "text",
    "id": "JL3SBH6PzDwV"
   },
   "source": [
    "## Paso 1: Importar las librerías necesarias"
   ]
  },
  {
   "cell_type": "code",
   "execution_count": 1,
   "metadata": {
    "colab": {},
    "colab_type": "code",
    "id": "ynShOu8nNtFt"
   },
   "outputs": [],
   "source": [
    "import tensorflow as tf\n",
    "\n",
    "from tensorflow.keras.datasets import imdb"
   ]
  },
  {
   "cell_type": "code",
   "execution_count": 2,
   "metadata": {
    "colab": {
     "base_uri": "https://localhost:8080/",
     "height": 34
    },
    "colab_type": "code",
    "executionInfo": {
     "elapsed": 803,
     "status": "ok",
     "timestamp": 1557527181981,
     "user": {
      "displayName": "TechGuy Luka",
      "photoUrl": "https://lh3.googleusercontent.com/-v_8ixmE_SJc/AAAAAAAAAAI/AAAAAAAAAEY/QGGmNZURhdc/s64/photo.jpg",
      "userId": "12375685325186592450"
     },
     "user_tz": -120
    },
    "id": "Kw7-sPdOzf5l",
    "outputId": "43c449a9-bafd-408f-b6e1-17612b5fd375"
   },
   "outputs": [
    {
     "data": {
      "text/plain": [
       "'2.12.0'"
      ]
     },
     "execution_count": 2,
     "metadata": {},
     "output_type": "execute_result"
    }
   ],
   "source": [
    "tf.__version__"
   ]
  },
  {
   "cell_type": "markdown",
   "metadata": {
    "colab_type": "text",
    "id": "JEjlM2EazOf0"
   },
   "source": [
    "## Paso 2: Pre procesado de datos\n"
   ]
  },
  {
   "cell_type": "markdown",
   "metadata": {
    "colab_type": "text",
    "id": "wB0tNtXJzTfA"
   },
   "source": [
    "### Configurar parámetros del dataset"
   ]
  },
  {
   "cell_type": "code",
   "execution_count": 3,
   "metadata": {
    "colab": {},
    "colab_type": "code",
    "id": "Jw6_KU24SrYK"
   },
   "outputs": [],
   "source": [
    "number_of_words = 20000 #n palabras mas frecuentes\n",
    "max_len = 100 #numero de palabras, en caso de que sea menor se acompleta"
   ]
  },
  {
   "cell_type": "markdown",
   "metadata": {
    "colab_type": "text",
    "id": "ePywR8A4zaxT"
   },
   "source": [
    "### Carga del dataset de IMDB"
   ]
  },
  {
   "cell_type": "code",
   "execution_count": 32,
   "metadata": {
    "colab": {},
    "colab_type": "code",
    "id": "6kCTV_hjOKmE"
   },
   "outputs": [],
   "source": [
    "#Obtenemos las 25k reviews, dentro de cada review tenemos una lista de numeros, al poner num_words = n, entonces en dicha lista los numeros mayores a n seran remplazados por otro numero (siempre el mismo)\n",
    "(X_train, y_train), (X_test, y_test) = imdb.load_data(num_words=number_of_words)"
   ]
  },
  {
   "cell_type": "markdown",
   "metadata": {
    "colab_type": "text",
    "id": "MZKDNoTKzi5w"
   },
   "source": [
    "### Cortar secuencias de texto de la misma longitud"
   ]
  },
  {
   "cell_type": "code",
   "execution_count": 0,
   "metadata": {
    "colab": {},
    "colab_type": "code",
    "id": "LHcMNzv7Pd1s"
   },
   "outputs": [],
   "source": [
    "X_train = tf.keras.preprocessing.sequence.pad_sequences(X_train, maxlen=max_len)"
   ]
  },
  {
   "cell_type": "code",
   "execution_count": 0,
   "metadata": {
    "colab": {},
    "colab_type": "code",
    "id": "Fcxd--ESP3Rh"
   },
   "outputs": [],
   "source": [
    "X_test = tf.keras.preprocessing.sequence.pad_sequences(X_test, maxlen=max_len)"
   ]
  },
  {
   "cell_type": "markdown",
   "metadata": {
    "colab_type": "text",
    "id": "7xDMP44Zz0dU"
   },
   "source": [
    "### Configurar parámetros de la capa de Embedding"
   ]
  },
  {
   "cell_type": "code",
   "execution_count": 0,
   "metadata": {
    "colab": {
     "base_uri": "https://localhost:8080/",
     "height": 34
    },
    "colab_type": "code",
    "executionInfo": {
     "elapsed": 583,
     "status": "ok",
     "timestamp": 1557527197664,
     "user": {
      "displayName": "TechGuy Luka",
      "photoUrl": "https://lh3.googleusercontent.com/-v_8ixmE_SJc/AAAAAAAAAAI/AAAAAAAAAEY/QGGmNZURhdc/s64/photo.jpg",
      "userId": "12375685325186592450"
     },
     "user_tz": -120
    },
    "id": "nGHQ2upgQIGj",
    "outputId": "cd40fe5e-bd42-442a-801a-55e79865ab8c"
   },
   "outputs": [
    {
     "data": {
      "text/plain": [
       "20000"
      ]
     },
     "execution_count": 7,
     "metadata": {
      "tags": []
     },
     "output_type": "execute_result"
    }
   ],
   "source": [
    "vocab_size = number_of_words\n",
    "vocab_size"
   ]
  },
  {
   "cell_type": "code",
   "execution_count": 0,
   "metadata": {
    "colab": {},
    "colab_type": "code",
    "id": "PMyk2JcPQcjF"
   },
   "outputs": [],
   "source": [
    "embed_size = 128"
   ]
  },
  {
   "cell_type": "markdown",
   "metadata": {
    "colab_type": "text",
    "id": "VG6LBKGnz7jT"
   },
   "source": [
    "## Paso 3: Construir la Red Neuronal Recurrente"
   ]
  },
  {
   "cell_type": "markdown",
   "metadata": {
    "colab_type": "text",
    "id": "TUVnz-9K0DcW"
   },
   "source": [
    "### Definir el modelo"
   ]
  },
  {
   "cell_type": "code",
   "execution_count": 0,
   "metadata": {
    "colab": {},
    "colab_type": "code",
    "id": "N2GHzwk6OMrV"
   },
   "outputs": [],
   "source": [
    "model = tf.keras.Sequential()"
   ]
  },
  {
   "cell_type": "markdown",
   "metadata": {
    "colab_type": "text",
    "id": "lnXJZYR-0HXE"
   },
   "source": [
    "### Añadir la capa de embedding"
   ]
  },
  {
   "cell_type": "code",
   "execution_count": 0,
   "metadata": {
    "colab": {},
    "colab_type": "code",
    "id": "UWqC0DXbO9FU"
   },
   "outputs": [],
   "source": [
    "model.add(tf.keras.layers.Embedding(vocab_size, embed_size, input_shape=(X_train.shape[1],)))"
   ]
  },
  {
   "cell_type": "markdown",
   "metadata": {
    "colab_type": "text",
    "id": "CM-lpTZX1mEG"
   },
   "source": [
    "### Añadir la capa de LSTM\n",
    "\n",
    "- unidades: 128\n",
    "- función de activación: tanh"
   ]
  },
  {
   "cell_type": "code",
   "execution_count": 0,
   "metadata": {
    "colab": {
     "base_uri": "https://localhost:8080/",
     "height": 72
    },
    "colab_type": "code",
    "executionInfo": {
     "elapsed": 545,
     "status": "ok",
     "timestamp": 1557527201016,
     "user": {
      "displayName": "TechGuy Luka",
      "photoUrl": "https://lh3.googleusercontent.com/-v_8ixmE_SJc/AAAAAAAAAAI/AAAAAAAAAEY/QGGmNZURhdc/s64/photo.jpg",
      "userId": "12375685325186592450"
     },
     "user_tz": -120
    },
    "id": "5W7IXqhjQpAl",
    "outputId": "ca4438c1-f0a3-4742-9cb6-803920134d18"
   },
   "outputs": [
    {
     "name": "stderr",
     "output_type": "stream",
     "text": [
      "WARNING: Logging before flag parsing goes to stderr.\n",
      "W0510 22:26:40.657396 140526441928576 tf_logging.py:161] <tensorflow.python.keras.layers.recurrent.UnifiedLSTM object at 0x7fce6e733198>: Note that this layer is not optimized for performance. Please use tf.keras.layers.CuDNNLSTM for better performance on GPU.\n"
     ]
    }
   ],
   "source": [
    "model.add(tf.keras.layers.LSTM(units=128, activation='tanh'))"
   ]
  },
  {
   "cell_type": "markdown",
   "metadata": {
    "colab_type": "text",
    "id": "9T9M5Ult10XM"
   },
   "source": [
    "### Añadir la capa totalmente conectada de salida\n",
    "\n",
    "- unidades: 1\n",
    "- función de activación: sigmoid"
   ]
  },
  {
   "cell_type": "code",
   "execution_count": 0,
   "metadata": {
    "colab": {},
    "colab_type": "code",
    "id": "xe1nHzq7Q91-"
   },
   "outputs": [],
   "source": [
    "model.add(tf.keras.layers.Dense(units=1, activation='sigmoid'))"
   ]
  },
  {
   "cell_type": "markdown",
   "metadata": {
    "colab_type": "text",
    "id": "VWcqM4Yr2ALS"
   },
   "source": [
    "### Compilar el modelo"
   ]
  },
  {
   "cell_type": "code",
   "execution_count": 0,
   "metadata": {
    "colab": {},
    "colab_type": "code",
    "id": "-z9ACOXcRUUN"
   },
   "outputs": [],
   "source": [
    "model.compile(optimizer='rmsprop', loss='binary_crossentropy', metrics=['accuracy'])"
   ]
  },
  {
   "cell_type": "code",
   "execution_count": 0,
   "metadata": {
    "colab": {
     "base_uri": "https://localhost:8080/",
     "height": 260
    },
    "colab_type": "code",
    "executionInfo": {
     "elapsed": 475,
     "status": "ok",
     "timestamp": 1557527203541,
     "user": {
      "displayName": "TechGuy Luka",
      "photoUrl": "https://lh3.googleusercontent.com/-v_8ixmE_SJc/AAAAAAAAAAI/AAAAAAAAAEY/QGGmNZURhdc/s64/photo.jpg",
      "userId": "12375685325186592450"
     },
     "user_tz": -120
    },
    "id": "PiolKKO6RjVF",
    "outputId": "6b165bfd-2c4d-434a-8bc1-42cc6ba91720"
   },
   "outputs": [
    {
     "name": "stdout",
     "output_type": "stream",
     "text": [
      "Model: \"sequential\"\n",
      "_________________________________________________________________\n",
      "Layer (type)                 Output Shape              Param #   \n",
      "=================================================================\n",
      "embedding (Embedding)        (None, 100, 128)          2560000   \n",
      "_________________________________________________________________\n",
      "unified_lstm (UnifiedLSTM)   (None, 128)               131584    \n",
      "_________________________________________________________________\n",
      "dense (Dense)                (None, 1)                 129       \n",
      "=================================================================\n",
      "Total params: 2,691,713\n",
      "Trainable params: 2,691,713\n",
      "Non-trainable params: 0\n",
      "_________________________________________________________________\n"
     ]
    }
   ],
   "source": [
    "model.summary()"
   ]
  },
  {
   "cell_type": "markdown",
   "metadata": {
    "colab_type": "text",
    "id": "2bPUvbfe2GJI"
   },
   "source": [
    "### Entrenar el modelo"
   ]
  },
  {
   "cell_type": "code",
   "execution_count": 0,
   "metadata": {
    "colab": {
     "base_uri": "https://localhost:8080/",
     "height": 139
    },
    "colab_type": "code",
    "executionInfo": {
     "elapsed": 9460,
     "status": "ok",
     "timestamp": 1557527214350,
     "user": {
      "displayName": "TechGuy Luka",
      "photoUrl": "https://lh3.googleusercontent.com/-v_8ixmE_SJc/AAAAAAAAAAI/AAAAAAAAAEY/QGGmNZURhdc/s64/photo.jpg",
      "userId": "12375685325186592450"
     },
     "user_tz": -120
    },
    "id": "9FqUTA1CRpQ8",
    "outputId": "0d496788-f042-4fb3-d7d9-18166d2cbc9d"
   },
   "outputs": [
    {
     "name": "stdout",
     "output_type": "stream",
     "text": [
      "Epoch 1/3\n",
      "25000/25000 [==============================] - 4s 173us/sample - loss: 0.4640 - accuracy: 0.7792\n",
      "Epoch 2/3\n",
      "25000/25000 [==============================] - 2s 84us/sample - loss: 0.2884 - accuracy: 0.8842\n",
      "Epoch 3/3\n",
      "25000/25000 [==============================] - 2s 84us/sample - loss: 0.2291 - accuracy: 0.9129\n"
     ]
    },
    {
     "data": {
      "text/plain": [
       "<tensorflow.python.keras.callbacks.History at 0x7fce6e733d30>"
      ]
     },
     "execution_count": 15,
     "metadata": {
      "tags": []
     },
     "output_type": "execute_result"
    }
   ],
   "source": [
    "model.fit(X_train, y_train, epochs=3, batch_size=128)"
   ]
  },
  {
   "cell_type": "markdown",
   "metadata": {
    "colab_type": "text",
    "id": "-wMo2wYpbCgb"
   },
   "source": [
    "### Evaluar el modelo"
   ]
  },
  {
   "cell_type": "code",
   "execution_count": 0,
   "metadata": {
    "colab": {
     "base_uri": "https://localhost:8080/",
     "height": 34
    },
    "colab_type": "code",
    "executionInfo": {
     "elapsed": 3908,
     "status": "ok",
     "timestamp": 1557527267061,
     "user": {
      "displayName": "TechGuy Luka",
      "photoUrl": "https://lh3.googleusercontent.com/-v_8ixmE_SJc/AAAAAAAAAAI/AAAAAAAAAEY/QGGmNZURhdc/s64/photo.jpg",
      "userId": "12375685325186592450"
     },
     "user_tz": -120
    },
    "id": "a8kD_6q-RySO",
    "outputId": "4f792319-1095-42b8-c35a-fb8f2f5093e6"
   },
   "outputs": [
    {
     "name": "stdout",
     "output_type": "stream",
     "text": [
      "25000/25000 [==============================] - 3s 136us/sample - loss: 0.3403 - accuracy: 0.8528\n"
     ]
    }
   ],
   "source": [
    "test_loss, test_acurracy = model.evaluate(X_test, y_test)"
   ]
  },
  {
   "cell_type": "code",
   "execution_count": 0,
   "metadata": {
    "colab": {
     "base_uri": "https://localhost:8080/",
     "height": 34
    },
    "colab_type": "code",
    "executionInfo": {
     "elapsed": 457,
     "status": "ok",
     "timestamp": 1557527277712,
     "user": {
      "displayName": "TechGuy Luka",
      "photoUrl": "https://lh3.googleusercontent.com/-v_8ixmE_SJc/AAAAAAAAAAI/AAAAAAAAAEY/QGGmNZURhdc/s64/photo.jpg",
      "userId": "12375685325186592450"
     },
     "user_tz": -120
    },
    "id": "C0XnUtS-cEeI",
    "outputId": "0d99df5f-717e-4751-c4dc-48e77d765056"
   },
   "outputs": [
    {
     "name": "stdout",
     "output_type": "stream",
     "text": [
      "Test accuracy: 0.8527600169181824\n"
     ]
    }
   ],
   "source": [
    "print(\"Test accuracy: {}\".format(test_acurracy))"
   ]
  },
  {
   "cell_type": "code",
   "execution_count": 0,
   "metadata": {
    "colab": {},
    "colab_type": "code",
    "id": "fN9QK49W3C29"
   },
   "outputs": [],
   "source": []
  }
 ],
 "metadata": {
  "accelerator": "GPU",
  "colab": {
   "collapsed_sections": [],
   "name": "Colab 5 - Construir una Red Neuronal Recurrente en TensorFlow 2.0.ipynb",
   "provenance": [
    {
     "file_id": "12OM3ntGfd38dUqLJ-Nk82RwKTz3POWGa",
     "timestamp": 1564656346258
    }
   ],
   "version": "0.3.2"
  },
  "kernelspec": {
   "display_name": "Python 3 (ipykernel)",
   "language": "python",
   "name": "python3"
  },
  "language_info": {
   "codemirror_mode": {
    "name": "ipython",
    "version": 3
   },
   "file_extension": ".py",
   "mimetype": "text/x-python",
   "name": "python",
   "nbconvert_exporter": "python",
   "pygments_lexer": "ipython3",
   "version": "3.9.16"
  }
 },
 "nbformat": 4,
 "nbformat_minor": 1
}
