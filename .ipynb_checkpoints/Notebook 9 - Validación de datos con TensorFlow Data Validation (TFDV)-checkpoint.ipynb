{
 "cells": [
  {
   "cell_type": "markdown",
   "metadata": {
    "id": "wf6nxdDBtGN5"
   },
   "source": [
    "## Paso 1:Instalar todas las dependencias y configurar el entorno"
   ]
  },
  {
   "cell_type": "code",
   "execution_count": 1,
   "metadata": {
    "colab": {
     "base_uri": "https://localhost:8080/",
     "height": 734
    },
    "id": "7bMUsv3JwU2A",
    "outputId": "84fe5c87-810b-43be-d818-b14421f46a49"
   },
   "outputs": [
    {
     "name": "stdout",
     "output_type": "stream",
     "text": [
      "Requirement already satisfied: tensorflow-data-validation in c:\\users\\josue\\anaconda3\\envs\\tensorflow\\lib\\site-packages (1.13.0)\n",
      "Requirement already satisfied: tensorflow<3,>=2.12 in c:\\users\\josue\\appdata\\roaming\\python\\python39\\site-packages (from tensorflow-data-validation) (2.13.0)\n",
      "Requirement already satisfied: tensorflow-metadata<1.14,>=1.13.1 in c:\\users\\josue\\anaconda3\\envs\\tensorflow\\lib\\site-packages (from tensorflow-data-validation) (1.13.1)\n",
      "Requirement already satisfied: joblib>=1.2.0 in c:\\users\\josue\\anaconda3\\envs\\tensorflow\\lib\\site-packages (from tensorflow-data-validation) (1.3.1)\n",
      "Requirement already satisfied: apache-beam[gcp]<3,>=2.40 in c:\\users\\josue\\anaconda3\\envs\\tensorflow\\lib\\site-packages (from tensorflow-data-validation) (2.49.0)\n",
      "Requirement already satisfied: pandas<2,>=1.0 in c:\\users\\josue\\anaconda3\\envs\\tensorflow\\lib\\site-packages (from tensorflow-data-validation) (1.5.3)\n",
      "Requirement already satisfied: pyfarmhash<0.4,>=0.2.2 in c:\\users\\josue\\anaconda3\\envs\\tensorflow\\lib\\site-packages (from tensorflow-data-validation) (0.3.2)\n",
      "Requirement already satisfied: protobuf<5,>=3.20.3 in c:\\users\\josue\\anaconda3\\envs\\tensorflow\\lib\\site-packages (from tensorflow-data-validation) (3.20.3)\n",
      "Requirement already satisfied: tfx-bsl<1.14,>=1.13.0 in c:\\users\\josue\\anaconda3\\envs\\tensorflow\\lib\\site-packages (from tensorflow-data-validation) (1.13.0)\n",
      "Requirement already satisfied: absl-py<2.0.0,>=0.9 in c:\\users\\josue\\anaconda3\\envs\\tensorflow\\lib\\site-packages (from tensorflow-data-validation) (1.4.0)\n",
      "Requirement already satisfied: numpy~=1.22.0 in c:\\users\\josue\\anaconda3\\envs\\tensorflow\\lib\\site-packages (from tensorflow-data-validation) (1.22.4)\n",
      "Requirement already satisfied: six<2,>=1.12 in c:\\users\\josue\\anaconda3\\envs\\tensorflow\\lib\\site-packages (from tensorflow-data-validation) (1.16.0)\n",
      "Requirement already satisfied: pyarrow<7,>=6 in c:\\users\\josue\\anaconda3\\envs\\tensorflow\\lib\\site-packages (from tensorflow-data-validation) (6.0.1)\n",
      "Requirement already satisfied: httplib2<0.23.0,>=0.8 in c:\\users\\josue\\anaconda3\\envs\\tensorflow\\lib\\site-packages (from apache-beam[gcp]<3,>=2.40->tensorflow-data-validation) (0.22.0)\n",
      "Requirement already satisfied: pydot<2,>=1.2.0 in c:\\users\\josue\\anaconda3\\envs\\tensorflow\\lib\\site-packages (from apache-beam[gcp]<3,>=2.40->tensorflow-data-validation) (1.4.2)\n",
      "Requirement already satisfied: fastavro<2,>=0.23.6 in c:\\users\\josue\\anaconda3\\envs\\tensorflow\\lib\\site-packages (from apache-beam[gcp]<3,>=2.40->tensorflow-data-validation) (1.8.2)\n",
      "Requirement already satisfied: proto-plus<2,>=1.7.1 in c:\\users\\josue\\anaconda3\\envs\\tensorflow\\lib\\site-packages (from apache-beam[gcp]<3,>=2.40->tensorflow-data-validation) (1.22.3)\n",
      "Requirement already satisfied: dill<0.3.2,>=0.3.1.1 in c:\\users\\josue\\anaconda3\\envs\\tensorflow\\lib\\site-packages (from apache-beam[gcp]<3,>=2.40->tensorflow-data-validation) (0.3.1.1)\n",
      "Requirement already satisfied: crcmod<2.0,>=1.7 in c:\\users\\josue\\anaconda3\\envs\\tensorflow\\lib\\site-packages (from apache-beam[gcp]<3,>=2.40->tensorflow-data-validation) (1.7)\n",
      "Requirement already satisfied: objsize<0.7.0,>=0.6.1 in c:\\users\\josue\\anaconda3\\envs\\tensorflow\\lib\\site-packages (from apache-beam[gcp]<3,>=2.40->tensorflow-data-validation) (0.6.1)\n",
      "Requirement already satisfied: python-dateutil<3,>=2.8.0 in c:\\users\\josue\\anaconda3\\envs\\tensorflow\\lib\\site-packages (from apache-beam[gcp]<3,>=2.40->tensorflow-data-validation) (2.8.2)\n",
      "Requirement already satisfied: hdfs<3.0.0,>=2.1.0 in c:\\users\\josue\\anaconda3\\envs\\tensorflow\\lib\\site-packages (from apache-beam[gcp]<3,>=2.40->tensorflow-data-validation) (2.7.0)\n",
      "Requirement already satisfied: cloudpickle~=2.2.1 in c:\\users\\josue\\anaconda3\\envs\\tensorflow\\lib\\site-packages (from apache-beam[gcp]<3,>=2.40->tensorflow-data-validation) (2.2.1)\n",
      "Requirement already satisfied: fasteners<1.0,>=0.3 in c:\\users\\josue\\anaconda3\\envs\\tensorflow\\lib\\site-packages (from apache-beam[gcp]<3,>=2.40->tensorflow-data-validation) (0.18)\n",
      "Requirement already satisfied: zstandard<1,>=0.18.0 in c:\\users\\josue\\anaconda3\\envs\\tensorflow\\lib\\site-packages (from apache-beam[gcp]<3,>=2.40->tensorflow-data-validation) (0.21.0)\n",
      "Requirement already satisfied: grpcio!=1.48.0,<2,>=1.33.1 in c:\\users\\josue\\anaconda3\\envs\\tensorflow\\lib\\site-packages (from apache-beam[gcp]<3,>=2.40->tensorflow-data-validation) (1.56.2)\n",
      "Requirement already satisfied: regex>=2020.6.8 in c:\\users\\josue\\anaconda3\\envs\\tensorflow\\lib\\site-packages (from apache-beam[gcp]<3,>=2.40->tensorflow-data-validation) (2022.7.9)\n",
      "Requirement already satisfied: requests<3.0.0,>=2.24.0 in c:\\users\\josue\\anaconda3\\envs\\tensorflow\\lib\\site-packages (from apache-beam[gcp]<3,>=2.40->tensorflow-data-validation) (2.31.0)\n",
      "Requirement already satisfied: orjson<4.0 in c:\\users\\josue\\anaconda3\\envs\\tensorflow\\lib\\site-packages (from apache-beam[gcp]<3,>=2.40->tensorflow-data-validation) (3.9.2)\n",
      "Requirement already satisfied: pytz>=2018.3 in c:\\users\\josue\\anaconda3\\envs\\tensorflow\\lib\\site-packages (from apache-beam[gcp]<3,>=2.40->tensorflow-data-validation) (2022.7)\n",
      "Requirement already satisfied: typing-extensions>=3.7.0 in c:\\users\\josue\\anaconda3\\envs\\tensorflow\\lib\\site-packages (from apache-beam[gcp]<3,>=2.40->tensorflow-data-validation) (4.5.0)\n",
      "Requirement already satisfied: pymongo<5.0.0,>=3.8.0 in c:\\users\\josue\\anaconda3\\envs\\tensorflow\\lib\\site-packages (from apache-beam[gcp]<3,>=2.40->tensorflow-data-validation) (4.4.1)\n",
      "Requirement already satisfied: google-cloud-spanner<4,>=3.0.0 in c:\\users\\josue\\anaconda3\\envs\\tensorflow\\lib\\site-packages (from apache-beam[gcp]<3,>=2.40->tensorflow-data-validation) (3.38.0)\n",
      "Requirement already satisfied: google-cloud-bigtable<3,>=2.19.0 in c:\\users\\josue\\anaconda3\\envs\\tensorflow\\lib\\site-packages (from apache-beam[gcp]<3,>=2.40->tensorflow-data-validation) (2.20.0)\n",
      "Requirement already satisfied: google-cloud-language<3,>=2.0 in c:\\users\\josue\\anaconda3\\envs\\tensorflow\\lib\\site-packages (from apache-beam[gcp]<3,>=2.40->tensorflow-data-validation) (2.10.1)\n",
      "Requirement already satisfied: google-cloud-core<3,>=2.0.0 in c:\\users\\josue\\anaconda3\\envs\\tensorflow\\lib\\site-packages (from apache-beam[gcp]<3,>=2.40->tensorflow-data-validation) (2.3.3)\n",
      "Requirement already satisfied: google-apitools<0.5.32,>=0.5.31 in c:\\users\\josue\\anaconda3\\envs\\tensorflow\\lib\\site-packages (from apache-beam[gcp]<3,>=2.40->tensorflow-data-validation) (0.5.31)\n",
      "Requirement already satisfied: google-cloud-recommendations-ai<0.11.0,>=0.1.0 in c:\\users\\josue\\anaconda3\\envs\\tensorflow\\lib\\site-packages (from apache-beam[gcp]<3,>=2.40->tensorflow-data-validation) (0.10.4)\n",
      "Requirement already satisfied: google-cloud-pubsub<3,>=2.1.0 in c:\\users\\josue\\anaconda3\\envs\\tensorflow\\lib\\site-packages (from apache-beam[gcp]<3,>=2.40->tensorflow-data-validation) (2.18.1)\n",
      "Requirement already satisfied: cachetools<6,>=3.1.0 in c:\\users\\josue\\anaconda3\\envs\\tensorflow\\lib\\site-packages (from apache-beam[gcp]<3,>=2.40->tensorflow-data-validation) (5.3.0)\n",
      "Requirement already satisfied: google-cloud-datastore<3,>=2.0.0 in c:\\users\\josue\\anaconda3\\envs\\tensorflow\\lib\\site-packages (from apache-beam[gcp]<3,>=2.40->tensorflow-data-validation) (2.16.1)\n",
      "Requirement already satisfied: google-cloud-videointelligence<3,>=2.0 in c:\\users\\josue\\anaconda3\\envs\\tensorflow\\lib\\site-packages (from apache-beam[gcp]<3,>=2.40->tensorflow-data-validation) (2.11.3)\n",
      "Requirement already satisfied: google-auth-httplib2<0.2.0,>=0.1.0 in c:\\users\\josue\\anaconda3\\envs\\tensorflow\\lib\\site-packages (from apache-beam[gcp]<3,>=2.40->tensorflow-data-validation) (0.1.0)\n",
      "Requirement already satisfied: google-cloud-dlp<4,>=3.0.0 in c:\\users\\josue\\anaconda3\\envs\\tensorflow\\lib\\site-packages (from apache-beam[gcp]<3,>=2.40->tensorflow-data-validation) (3.12.2)\n",
      "Requirement already satisfied: google-cloud-bigquery<4,>=2.0.0 in c:\\users\\josue\\anaconda3\\envs\\tensorflow\\lib\\site-packages (from apache-beam[gcp]<3,>=2.40->tensorflow-data-validation) (3.11.4)\n",
      "Requirement already satisfied: google-cloud-aiplatform<2.0,>=1.26.0 in c:\\users\\josue\\anaconda3\\envs\\tensorflow\\lib\\site-packages (from apache-beam[gcp]<3,>=2.40->tensorflow-data-validation) (1.28.1)\n",
      "Requirement already satisfied: google-cloud-bigquery-storage<3,>=2.6.3 in c:\\users\\josue\\anaconda3\\envs\\tensorflow\\lib\\site-packages (from apache-beam[gcp]<3,>=2.40->tensorflow-data-validation) (2.22.0)\n",
      "Requirement already satisfied: google-cloud-vision<4,>=2 in c:\\users\\josue\\anaconda3\\envs\\tensorflow\\lib\\site-packages (from apache-beam[gcp]<3,>=2.40->tensorflow-data-validation) (3.4.4)\n",
      "Requirement already satisfied: google-auth<3,>=1.18.0 in c:\\users\\josue\\anaconda3\\envs\\tensorflow\\lib\\site-packages (from apache-beam[gcp]<3,>=2.40->tensorflow-data-validation) (2.17.3)\n",
      "Requirement already satisfied: google-cloud-pubsublite<2,>=1.2.0 in c:\\users\\josue\\anaconda3\\envs\\tensorflow\\lib\\site-packages (from apache-beam[gcp]<3,>=2.40->tensorflow-data-validation) (1.8.3)\n",
      "Requirement already satisfied: tensorflow-intel==2.13.0 in c:\\users\\josue\\anaconda3\\envs\\tensorflow\\lib\\site-packages (from tensorflow<3,>=2.12->tensorflow-data-validation) (2.13.0)\n",
      "Requirement already satisfied: opt-einsum>=2.3.2 in c:\\users\\josue\\anaconda3\\envs\\tensorflow\\lib\\site-packages (from tensorflow-intel==2.13.0->tensorflow<3,>=2.12->tensorflow-data-validation) (3.3.0)\n",
      "Requirement already satisfied: tensorflow-estimator<2.14,>=2.13.0 in c:\\users\\josue\\anaconda3\\envs\\tensorflow\\lib\\site-packages (from tensorflow-intel==2.13.0->tensorflow<3,>=2.12->tensorflow-data-validation) (2.13.0)\n",
      "Requirement already satisfied: termcolor>=1.1.0 in c:\\users\\josue\\anaconda3\\envs\\tensorflow\\lib\\site-packages (from tensorflow-intel==2.13.0->tensorflow<3,>=2.12->tensorflow-data-validation) (2.3.0)\n",
      "Requirement already satisfied: libclang>=13.0.0 in c:\\users\\josue\\anaconda3\\envs\\tensorflow\\lib\\site-packages (from tensorflow-intel==2.13.0->tensorflow<3,>=2.12->tensorflow-data-validation) (16.0.0)\n",
      "Requirement already satisfied: gast<=0.4.0,>=0.2.1 in c:\\users\\josue\\anaconda3\\envs\\tensorflow\\lib\\site-packages (from tensorflow-intel==2.13.0->tensorflow<3,>=2.12->tensorflow-data-validation) (0.4.0)\n",
      "Requirement already satisfied: keras<2.14,>=2.13.1 in c:\\users\\josue\\anaconda3\\envs\\tensorflow\\lib\\site-packages (from tensorflow-intel==2.13.0->tensorflow<3,>=2.12->tensorflow-data-validation) (2.13.1)\n",
      "Requirement already satisfied: h5py>=2.9.0 in c:\\users\\josue\\anaconda3\\envs\\tensorflow\\lib\\site-packages (from tensorflow-intel==2.13.0->tensorflow<3,>=2.12->tensorflow-data-validation) (3.7.0)\n",
      "Requirement already satisfied: tensorboard<2.14,>=2.13 in c:\\users\\josue\\anaconda3\\envs\\tensorflow\\lib\\site-packages (from tensorflow-intel==2.13.0->tensorflow<3,>=2.12->tensorflow-data-validation) (2.13.0)\n",
      "Requirement already satisfied: tensorflow-io-gcs-filesystem>=0.23.1 in c:\\users\\josue\\anaconda3\\envs\\tensorflow\\lib\\site-packages (from tensorflow-intel==2.13.0->tensorflow<3,>=2.12->tensorflow-data-validation) (0.31.0)\n",
      "Requirement already satisfied: flatbuffers>=23.1.21 in c:\\users\\josue\\anaconda3\\envs\\tensorflow\\lib\\site-packages (from tensorflow-intel==2.13.0->tensorflow<3,>=2.12->tensorflow-data-validation) (23.5.8)\n",
      "Requirement already satisfied: google-pasta>=0.1.1 in c:\\users\\josue\\anaconda3\\envs\\tensorflow\\lib\\site-packages (from tensorflow-intel==2.13.0->tensorflow<3,>=2.12->tensorflow-data-validation) (0.2.0)\n",
      "Requirement already satisfied: wrapt>=1.11.0 in c:\\users\\josue\\anaconda3\\envs\\tensorflow\\lib\\site-packages (from tensorflow-intel==2.13.0->tensorflow<3,>=2.12->tensorflow-data-validation) (1.14.1)\n",
      "Requirement already satisfied: astunparse>=1.6.0 in c:\\users\\josue\\anaconda3\\envs\\tensorflow\\lib\\site-packages (from tensorflow-intel==2.13.0->tensorflow<3,>=2.12->tensorflow-data-validation) (1.6.3)\n",
      "Requirement already satisfied: packaging in c:\\users\\josue\\anaconda3\\envs\\tensorflow\\lib\\site-packages (from tensorflow-intel==2.13.0->tensorflow<3,>=2.12->tensorflow-data-validation) (23.0)\n",
      "Requirement already satisfied: setuptools in c:\\users\\josue\\anaconda3\\envs\\tensorflow\\lib\\site-packages (from tensorflow-intel==2.13.0->tensorflow<3,>=2.12->tensorflow-data-validation) (66.0.0)\n",
      "Requirement already satisfied: googleapis-common-protos<2,>=1.52.0 in c:\\users\\josue\\anaconda3\\envs\\tensorflow\\lib\\site-packages (from tensorflow-metadata<1.14,>=1.13.1->tensorflow-data-validation) (1.60.0)\n",
      "Requirement already satisfied: google-api-python-client<2,>=1.7.11 in c:\\users\\josue\\anaconda3\\envs\\tensorflow\\lib\\site-packages (from tfx-bsl<1.14,>=1.13.0->tensorflow-data-validation) (1.12.11)\n",
      "Requirement already satisfied: tensorflow-serving-api!=2.0.*,!=2.1.*,!=2.2.*,!=2.3.*,!=2.4.*,!=2.5.*,!=2.6.*,!=2.7.*,!=2.8.*,<3,>=1.15 in c:\\users\\josue\\anaconda3\\envs\\tensorflow\\lib\\site-packages (from tfx-bsl<1.14,>=1.13.0->tensorflow-data-validation) (2.12.1)\n",
      "Requirement already satisfied: uritemplate<4dev,>=3.0.0 in c:\\users\\josue\\anaconda3\\envs\\tensorflow\\lib\\site-packages (from google-api-python-client<2,>=1.7.11->tfx-bsl<1.14,>=1.13.0->tensorflow-data-validation) (3.0.1)\n",
      "Requirement already satisfied: google-api-core<3dev,>=1.21.0 in c:\\users\\josue\\anaconda3\\envs\\tensorflow\\lib\\site-packages (from google-api-python-client<2,>=1.7.11->tfx-bsl<1.14,>=1.13.0->tensorflow-data-validation) (2.11.1)\n",
      "Requirement already satisfied: oauth2client>=1.4.12 in c:\\users\\josue\\anaconda3\\envs\\tensorflow\\lib\\site-packages (from google-apitools<0.5.32,>=0.5.31->apache-beam[gcp]<3,>=2.40->tensorflow-data-validation) (4.1.3)\n",
      "Requirement already satisfied: rsa<5,>=3.1.4 in c:\\users\\josue\\anaconda3\\envs\\tensorflow\\lib\\site-packages (from google-auth<3,>=1.18.0->apache-beam[gcp]<3,>=2.40->tensorflow-data-validation) (4.9)\n",
      "Requirement already satisfied: pyasn1-modules>=0.2.1 in c:\\users\\josue\\anaconda3\\envs\\tensorflow\\lib\\site-packages (from google-auth<3,>=1.18.0->apache-beam[gcp]<3,>=2.40->tensorflow-data-validation) (0.2.8)\n",
      "Requirement already satisfied: google-cloud-storage<3.0.0dev,>=1.32.0 in c:\\users\\josue\\anaconda3\\envs\\tensorflow\\lib\\site-packages (from google-cloud-aiplatform<2.0,>=1.26.0->apache-beam[gcp]<3,>=2.40->tensorflow-data-validation) (2.10.0)\n",
      "Requirement already satisfied: shapely<2.0.0 in c:\\users\\josue\\anaconda3\\envs\\tensorflow\\lib\\site-packages (from google-cloud-aiplatform<2.0,>=1.26.0->apache-beam[gcp]<3,>=2.40->tensorflow-data-validation) (1.8.5.post1)\n",
      "Requirement already satisfied: google-cloud-resource-manager<3.0.0dev,>=1.3.3 in c:\\users\\josue\\anaconda3\\envs\\tensorflow\\lib\\site-packages (from google-cloud-aiplatform<2.0,>=1.26.0->apache-beam[gcp]<3,>=2.40->tensorflow-data-validation) (1.10.2)\n",
      "Requirement already satisfied: google-resumable-media<3.0dev,>=0.6.0 in c:\\users\\josue\\anaconda3\\envs\\tensorflow\\lib\\site-packages (from google-cloud-bigquery<4,>=2.0.0->apache-beam[gcp]<3,>=2.40->tensorflow-data-validation) (2.5.0)\n",
      "Requirement already satisfied: grpc-google-iam-v1<1.0.0dev,>=0.12.4 in c:\\users\\josue\\anaconda3\\envs\\tensorflow\\lib\\site-packages (from google-cloud-bigtable<3,>=2.19.0->apache-beam[gcp]<3,>=2.40->tensorflow-data-validation) (0.12.6)\n",
      "Requirement already satisfied: grpcio-status>=1.33.2 in c:\\users\\josue\\anaconda3\\envs\\tensorflow\\lib\\site-packages (from google-cloud-pubsub<3,>=2.1.0->apache-beam[gcp]<3,>=2.40->tensorflow-data-validation) (1.56.2)\n",
      "Requirement already satisfied: overrides<7.0.0,>=6.0.1 in c:\\users\\josue\\anaconda3\\envs\\tensorflow\\lib\\site-packages (from google-cloud-pubsublite<2,>=1.2.0->apache-beam[gcp]<3,>=2.40->tensorflow-data-validation) (6.5.0)\n",
      "Requirement already satisfied: sqlparse>=0.4.4 in c:\\users\\josue\\anaconda3\\envs\\tensorflow\\lib\\site-packages (from google-cloud-spanner<4,>=3.0.0->apache-beam[gcp]<3,>=2.40->tensorflow-data-validation) (0.4.4)\n",
      "Requirement already satisfied: docopt in c:\\users\\josue\\anaconda3\\envs\\tensorflow\\lib\\site-packages (from hdfs<3.0.0,>=2.1.0->apache-beam[gcp]<3,>=2.40->tensorflow-data-validation) (0.6.2)\n",
      "Requirement already satisfied: pyparsing!=3.0.0,!=3.0.1,!=3.0.2,!=3.0.3,<4,>=2.4.2 in c:\\users\\josue\\anaconda3\\envs\\tensorflow\\lib\\site-packages (from httplib2<0.23.0,>=0.8->apache-beam[gcp]<3,>=2.40->tensorflow-data-validation) (3.0.9)\n",
      "Requirement already satisfied: dnspython<3.0.0,>=1.16.0 in c:\\users\\josue\\anaconda3\\envs\\tensorflow\\lib\\site-packages (from pymongo<5.0.0,>=3.8.0->apache-beam[gcp]<3,>=2.40->tensorflow-data-validation) (2.4.1)\n",
      "Requirement already satisfied: urllib3<3,>=1.21.1 in c:\\users\\josue\\anaconda3\\envs\\tensorflow\\lib\\site-packages (from requests<3.0.0,>=2.24.0->apache-beam[gcp]<3,>=2.40->tensorflow-data-validation) (1.26.15)\n",
      "Requirement already satisfied: idna<4,>=2.5 in c:\\users\\josue\\anaconda3\\envs\\tensorflow\\lib\\site-packages (from requests<3.0.0,>=2.24.0->apache-beam[gcp]<3,>=2.40->tensorflow-data-validation) (3.4)\n",
      "Requirement already satisfied: charset-normalizer<4,>=2 in c:\\users\\josue\\anaconda3\\envs\\tensorflow\\lib\\site-packages (from requests<3.0.0,>=2.24.0->apache-beam[gcp]<3,>=2.40->tensorflow-data-validation) (2.0.4)\n",
      "Requirement already satisfied: certifi>=2017.4.17 in c:\\users\\josue\\anaconda3\\envs\\tensorflow\\lib\\site-packages (from requests<3.0.0,>=2.24.0->apache-beam[gcp]<3,>=2.40->tensorflow-data-validation) (2023.5.7)\n",
      "Requirement already satisfied: wheel<1.0,>=0.23.0 in c:\\users\\josue\\anaconda3\\envs\\tensorflow\\lib\\site-packages (from astunparse>=1.6.0->tensorflow-intel==2.13.0->tensorflow<3,>=2.12->tensorflow-data-validation) (0.38.4)\n",
      "Requirement already satisfied: google-crc32c<2.0dev,>=1.0 in c:\\users\\josue\\anaconda3\\envs\\tensorflow\\lib\\site-packages (from google-resumable-media<3.0dev,>=0.6.0->google-cloud-bigquery<4,>=2.0.0->apache-beam[gcp]<3,>=2.40->tensorflow-data-validation) (1.5.0)\n",
      "Collecting protobuf<5,>=3.20.3\n",
      "  Using cached protobuf-4.23.4-cp39-cp39-win_amd64.whl (422 kB)\n",
      "Requirement already satisfied: pyasn1>=0.1.7 in c:\\users\\josue\\anaconda3\\envs\\tensorflow\\lib\\site-packages (from oauth2client>=1.4.12->google-apitools<0.5.32,>=0.5.31->apache-beam[gcp]<3,>=2.40->tensorflow-data-validation) (0.4.8)\n",
      "Requirement already satisfied: werkzeug>=1.0.1 in c:\\users\\josue\\anaconda3\\envs\\tensorflow\\lib\\site-packages (from tensorboard<2.14,>=2.13->tensorflow-intel==2.13.0->tensorflow<3,>=2.12->tensorflow-data-validation) (2.2.3)\n",
      "Requirement already satisfied: google-auth-oauthlib<1.1,>=0.5 in c:\\users\\josue\\anaconda3\\envs\\tensorflow\\lib\\site-packages (from tensorboard<2.14,>=2.13->tensorflow-intel==2.13.0->tensorflow<3,>=2.12->tensorflow-data-validation) (1.0.0)\n",
      "Requirement already satisfied: tensorboard-data-server<0.8.0,>=0.7.0 in c:\\users\\josue\\anaconda3\\envs\\tensorflow\\lib\\site-packages (from tensorboard<2.14,>=2.13->tensorflow-intel==2.13.0->tensorflow<3,>=2.12->tensorflow-data-validation) (0.7.0)\n",
      "Requirement already satisfied: markdown>=2.6.8 in c:\\users\\josue\\anaconda3\\envs\\tensorflow\\lib\\site-packages (from tensorboard<2.14,>=2.13->tensorflow-intel==2.13.0->tensorflow<3,>=2.12->tensorflow-data-validation) (3.4.1)\n",
      "Requirement already satisfied: requests-oauthlib>=0.7.0 in c:\\users\\josue\\anaconda3\\envs\\tensorflow\\lib\\site-packages (from google-auth-oauthlib<1.1,>=0.5->tensorboard<2.14,>=2.13->tensorflow-intel==2.13.0->tensorflow<3,>=2.12->tensorflow-data-validation) (1.3.1)\n",
      "Requirement already satisfied: importlib-metadata>=4.4 in c:\\users\\josue\\anaconda3\\envs\\tensorflow\\lib\\site-packages (from markdown>=2.6.8->tensorboard<2.14,>=2.13->tensorflow-intel==2.13.0->tensorflow<3,>=2.12->tensorflow-data-validation) (6.0.0)\n",
      "Requirement already satisfied: MarkupSafe>=2.1.1 in c:\\users\\josue\\anaconda3\\envs\\tensorflow\\lib\\site-packages (from werkzeug>=1.0.1->tensorboard<2.14,>=2.13->tensorflow-intel==2.13.0->tensorflow<3,>=2.12->tensorflow-data-validation) (2.1.1)\n",
      "Requirement already satisfied: zipp>=0.5 in c:\\users\\josue\\anaconda3\\envs\\tensorflow\\lib\\site-packages (from importlib-metadata>=4.4->markdown>=2.6.8->tensorboard<2.14,>=2.13->tensorflow-intel==2.13.0->tensorflow<3,>=2.12->tensorflow-data-validation) (3.11.0)\n",
      "Requirement already satisfied: oauthlib>=3.0.0 in c:\\users\\josue\\anaconda3\\envs\\tensorflow\\lib\\site-packages (from requests-oauthlib>=0.7.0->google-auth-oauthlib<1.1,>=0.5->tensorboard<2.14,>=2.13->tensorflow-intel==2.13.0->tensorflow<3,>=2.12->tensorflow-data-validation) (3.2.2)\n",
      "Installing collected packages: protobuf\n",
      "  Attempting uninstall: protobuf\n",
      "    Found existing installation: protobuf 3.20.3\n",
      "    Uninstalling protobuf-3.20.3:\n",
      "      Successfully uninstalled protobuf-3.20.3\n",
      "Successfully installed protobuf-4.23.4\n"
     ]
    },
    {
     "name": "stderr",
     "output_type": "stream",
     "text": [
      "WARNING: Ignoring invalid distribution -rotobuf (c:\\users\\josue\\anaconda3\\envs\\tensorflow\\lib\\site-packages)\n",
      "WARNING: Ignoring invalid distribution -ensorflow-intel (c:\\users\\josue\\anaconda3\\envs\\tensorflow\\lib\\site-packages)\n",
      "WARNING: Ignoring invalid distribution -rotobuf (c:\\users\\josue\\anaconda3\\envs\\tensorflow\\lib\\site-packages)\n",
      "WARNING: Ignoring invalid distribution -ensorflow-intel (c:\\users\\josue\\anaconda3\\envs\\tensorflow\\lib\\site-packages)\n",
      "WARNING: Ignoring invalid distribution -rotobuf (c:\\users\\josue\\anaconda3\\envs\\tensorflow\\lib\\site-packages)\n",
      "WARNING: Ignoring invalid distribution -ensorflow-intel (c:\\users\\josue\\anaconda3\\envs\\tensorflow\\lib\\site-packages)\n",
      "    WARNING: Ignoring invalid distribution -rotobuf (c:\\users\\josue\\anaconda3\\envs\\tensorflow\\lib\\site-packages)\n",
      "    WARNING: Ignoring invalid distribution -ensorflow-intel (c:\\users\\josue\\anaconda3\\envs\\tensorflow\\lib\\site-packages)\n",
      "WARNING: Ignoring invalid distribution -rotobuf (c:\\users\\josue\\anaconda3\\envs\\tensorflow\\lib\\site-packages)\n",
      "WARNING: Ignoring invalid distribution -ensorflow-intel (c:\\users\\josue\\anaconda3\\envs\\tensorflow\\lib\\site-packages)\n",
      "WARNING: Ignoring invalid distribution -rotobuf (c:\\users\\josue\\anaconda3\\envs\\tensorflow\\lib\\site-packages)\n",
      "WARNING: Ignoring invalid distribution -ensorflow-intel (c:\\users\\josue\\anaconda3\\envs\\tensorflow\\lib\\site-packages)\n",
      "WARNING: Ignoring invalid distribution -rotobuf (c:\\users\\josue\\anaconda3\\envs\\tensorflow\\lib\\site-packages)\n",
      "WARNING: Ignoring invalid distribution -ensorflow-intel (c:\\users\\josue\\anaconda3\\envs\\tensorflow\\lib\\site-packages)\n",
      "WARNING: Ignoring invalid distribution -rotobuf (c:\\users\\josue\\anaconda3\\envs\\tensorflow\\lib\\site-packages)\n",
      "WARNING: Ignoring invalid distribution -ensorflow-intel (c:\\users\\josue\\anaconda3\\envs\\tensorflow\\lib\\site-packages)\n"
     ]
    }
   ],
   "source": [
    "!pip install tensorflow-data-validation"
   ]
  },
  {
   "cell_type": "code",
   "execution_count": 2,
   "metadata": {},
   "outputs": [
    {
     "name": "stdout",
     "output_type": "stream",
     "text": [
      "Requirement already satisfied: tensorflow-data-validation in c:\\users\\josue\\anaconda3\\envs\\tensorflow\\lib\\site-packages (1.13.0)\n",
      "Requirement already satisfied: tfx-bsl<1.14,>=1.13.0 in c:\\users\\josue\\anaconda3\\envs\\tensorflow\\lib\\site-packages (from tensorflow-data-validation) (1.13.0)\n",
      "Requirement already satisfied: apache-beam[gcp]<3,>=2.40 in c:\\users\\josue\\anaconda3\\envs\\tensorflow\\lib\\site-packages (from tensorflow-data-validation) (2.49.0)\n",
      "Requirement already satisfied: pyarrow<7,>=6 in c:\\users\\josue\\anaconda3\\envs\\tensorflow\\lib\\site-packages (from tensorflow-data-validation) (6.0.1)\n",
      "Requirement already satisfied: six<2,>=1.12 in c:\\users\\josue\\anaconda3\\envs\\tensorflow\\lib\\site-packages (from tensorflow-data-validation) (1.16.0)\n",
      "Requirement already satisfied: tensorflow<3,>=2.12 in c:\\users\\josue\\appdata\\roaming\\python\\python39\\site-packages (from tensorflow-data-validation) (2.13.0)\n",
      "Requirement already satisfied: absl-py<2.0.0,>=0.9 in c:\\users\\josue\\anaconda3\\envs\\tensorflow\\lib\\site-packages (from tensorflow-data-validation) (1.4.0)\n",
      "Requirement already satisfied: joblib>=1.2.0 in c:\\users\\josue\\anaconda3\\envs\\tensorflow\\lib\\site-packages (from tensorflow-data-validation) (1.3.1)\n",
      "Requirement already satisfied: pandas<2,>=1.0 in c:\\users\\josue\\anaconda3\\envs\\tensorflow\\lib\\site-packages (from tensorflow-data-validation) (1.5.3)\n",
      "Requirement already satisfied: numpy~=1.22.0 in c:\\users\\josue\\anaconda3\\envs\\tensorflow\\lib\\site-packages (from tensorflow-data-validation) (1.22.4)\n",
      "Requirement already satisfied: protobuf<5,>=3.20.3 in c:\\users\\josue\\anaconda3\\envs\\tensorflow\\lib\\site-packages (from tensorflow-data-validation) (4.23.4)\n",
      "Requirement already satisfied: pyfarmhash<0.4,>=0.2.2 in c:\\users\\josue\\anaconda3\\envs\\tensorflow\\lib\\site-packages (from tensorflow-data-validation) (0.3.2)\n",
      "Requirement already satisfied: tensorflow-metadata<1.14,>=1.13.1 in c:\\users\\josue\\anaconda3\\envs\\tensorflow\\lib\\site-packages (from tensorflow-data-validation) (1.13.1)\n",
      "Requirement already satisfied: regex>=2020.6.8 in c:\\users\\josue\\anaconda3\\envs\\tensorflow\\lib\\site-packages (from apache-beam[gcp]<3,>=2.40->tensorflow-data-validation) (2022.7.9)\n",
      "Requirement already satisfied: python-dateutil<3,>=2.8.0 in c:\\users\\josue\\anaconda3\\envs\\tensorflow\\lib\\site-packages (from apache-beam[gcp]<3,>=2.40->tensorflow-data-validation) (2.8.2)\n",
      "Requirement already satisfied: objsize<0.7.0,>=0.6.1 in c:\\users\\josue\\anaconda3\\envs\\tensorflow\\lib\\site-packages (from apache-beam[gcp]<3,>=2.40->tensorflow-data-validation) (0.6.1)\n",
      "Requirement already satisfied: zstandard<1,>=0.18.0 in c:\\users\\josue\\anaconda3\\envs\\tensorflow\\lib\\site-packages (from apache-beam[gcp]<3,>=2.40->tensorflow-data-validation) (0.21.0)\n",
      "Requirement already satisfied: orjson<4.0 in c:\\users\\josue\\anaconda3\\envs\\tensorflow\\lib\\site-packages (from apache-beam[gcp]<3,>=2.40->tensorflow-data-validation) (3.9.2)\n",
      "Requirement already satisfied: dill<0.3.2,>=0.3.1.1 in c:\\users\\josue\\anaconda3\\envs\\tensorflow\\lib\\site-packages (from apache-beam[gcp]<3,>=2.40->tensorflow-data-validation) (0.3.1.1)\n",
      "Requirement already satisfied: hdfs<3.0.0,>=2.1.0 in c:\\users\\josue\\anaconda3\\envs\\tensorflow\\lib\\site-packages (from apache-beam[gcp]<3,>=2.40->tensorflow-data-validation) (2.7.0)\n",
      "Requirement already satisfied: requests<3.0.0,>=2.24.0 in c:\\users\\josue\\anaconda3\\envs\\tensorflow\\lib\\site-packages (from apache-beam[gcp]<3,>=2.40->tensorflow-data-validation) (2.31.0)\n",
      "Requirement already satisfied: crcmod<2.0,>=1.7 in c:\\users\\josue\\anaconda3\\envs\\tensorflow\\lib\\site-packages (from apache-beam[gcp]<3,>=2.40->tensorflow-data-validation) (1.7)\n",
      "Requirement already satisfied: fastavro<2,>=0.23.6 in c:\\users\\josue\\anaconda3\\envs\\tensorflow\\lib\\site-packages (from apache-beam[gcp]<3,>=2.40->tensorflow-data-validation) (1.8.2)\n",
      "Requirement already satisfied: pymongo<5.0.0,>=3.8.0 in c:\\users\\josue\\anaconda3\\envs\\tensorflow\\lib\\site-packages (from apache-beam[gcp]<3,>=2.40->tensorflow-data-validation) (4.4.1)\n",
      "Requirement already satisfied: pydot<2,>=1.2.0 in c:\\users\\josue\\anaconda3\\envs\\tensorflow\\lib\\site-packages (from apache-beam[gcp]<3,>=2.40->tensorflow-data-validation) (1.4.2)\n",
      "Requirement already satisfied: grpcio!=1.48.0,<2,>=1.33.1 in c:\\users\\josue\\anaconda3\\envs\\tensorflow\\lib\\site-packages (from apache-beam[gcp]<3,>=2.40->tensorflow-data-validation) (1.56.2)\n",
      "Requirement already satisfied: typing-extensions>=3.7.0 in c:\\users\\josue\\anaconda3\\envs\\tensorflow\\lib\\site-packages (from apache-beam[gcp]<3,>=2.40->tensorflow-data-validation) (4.5.0)\n",
      "Requirement already satisfied: proto-plus<2,>=1.7.1 in c:\\users\\josue\\anaconda3\\envs\\tensorflow\\lib\\site-packages (from apache-beam[gcp]<3,>=2.40->tensorflow-data-validation) (1.22.3)\n",
      "Requirement already satisfied: pytz>=2018.3 in c:\\users\\josue\\anaconda3\\envs\\tensorflow\\lib\\site-packages (from apache-beam[gcp]<3,>=2.40->tensorflow-data-validation) (2022.7)\n",
      "Requirement already satisfied: httplib2<0.23.0,>=0.8 in c:\\users\\josue\\anaconda3\\envs\\tensorflow\\lib\\site-packages (from apache-beam[gcp]<3,>=2.40->tensorflow-data-validation) (0.22.0)\n",
      "Requirement already satisfied: cloudpickle~=2.2.1 in c:\\users\\josue\\anaconda3\\envs\\tensorflow\\lib\\site-packages (from apache-beam[gcp]<3,>=2.40->tensorflow-data-validation) (2.2.1)\n",
      "Requirement already satisfied: fasteners<1.0,>=0.3 in c:\\users\\josue\\anaconda3\\envs\\tensorflow\\lib\\site-packages (from apache-beam[gcp]<3,>=2.40->tensorflow-data-validation) (0.18)\n",
      "Requirement already satisfied: google-apitools<0.5.32,>=0.5.31 in c:\\users\\josue\\anaconda3\\envs\\tensorflow\\lib\\site-packages (from apache-beam[gcp]<3,>=2.40->tensorflow-data-validation) (0.5.31)\n",
      "Requirement already satisfied: google-cloud-videointelligence<3,>=2.0 in c:\\users\\josue\\anaconda3\\envs\\tensorflow\\lib\\site-packages (from apache-beam[gcp]<3,>=2.40->tensorflow-data-validation) (2.11.3)\n",
      "Requirement already satisfied: google-cloud-core<3,>=2.0.0 in c:\\users\\josue\\anaconda3\\envs\\tensorflow\\lib\\site-packages (from apache-beam[gcp]<3,>=2.40->tensorflow-data-validation) (2.3.3)\n",
      "Requirement already satisfied: google-cloud-pubsub<3,>=2.1.0 in c:\\users\\josue\\anaconda3\\envs\\tensorflow\\lib\\site-packages (from apache-beam[gcp]<3,>=2.40->tensorflow-data-validation) (2.18.1)\n",
      "Requirement already satisfied: google-cloud-recommendations-ai<0.11.0,>=0.1.0 in c:\\users\\josue\\anaconda3\\envs\\tensorflow\\lib\\site-packages (from apache-beam[gcp]<3,>=2.40->tensorflow-data-validation) (0.10.4)\n",
      "Requirement already satisfied: google-cloud-vision<4,>=2 in c:\\users\\josue\\anaconda3\\envs\\tensorflow\\lib\\site-packages (from apache-beam[gcp]<3,>=2.40->tensorflow-data-validation) (3.4.4)\n",
      "Requirement already satisfied: google-cloud-language<3,>=2.0 in c:\\users\\josue\\anaconda3\\envs\\tensorflow\\lib\\site-packages (from apache-beam[gcp]<3,>=2.40->tensorflow-data-validation) (2.10.1)\n",
      "Requirement already satisfied: google-cloud-spanner<4,>=3.0.0 in c:\\users\\josue\\anaconda3\\envs\\tensorflow\\lib\\site-packages (from apache-beam[gcp]<3,>=2.40->tensorflow-data-validation) (3.38.0)\n",
      "Requirement already satisfied: google-cloud-bigtable<3,>=2.19.0 in c:\\users\\josue\\anaconda3\\envs\\tensorflow\\lib\\site-packages (from apache-beam[gcp]<3,>=2.40->tensorflow-data-validation) (2.20.0)\n",
      "Requirement already satisfied: google-auth-httplib2<0.2.0,>=0.1.0 in c:\\users\\josue\\anaconda3\\envs\\tensorflow\\lib\\site-packages (from apache-beam[gcp]<3,>=2.40->tensorflow-data-validation) (0.1.0)\n",
      "Requirement already satisfied: google-cloud-aiplatform<2.0,>=1.26.0 in c:\\users\\josue\\anaconda3\\envs\\tensorflow\\lib\\site-packages (from apache-beam[gcp]<3,>=2.40->tensorflow-data-validation) (1.28.1)\n",
      "Requirement already satisfied: google-cloud-bigquery<4,>=2.0.0 in c:\\users\\josue\\anaconda3\\envs\\tensorflow\\lib\\site-packages (from apache-beam[gcp]<3,>=2.40->tensorflow-data-validation) (3.11.4)\n",
      "Requirement already satisfied: google-cloud-pubsublite<2,>=1.2.0 in c:\\users\\josue\\anaconda3\\envs\\tensorflow\\lib\\site-packages (from apache-beam[gcp]<3,>=2.40->tensorflow-data-validation) (1.8.3)\n",
      "Requirement already satisfied: google-cloud-dlp<4,>=3.0.0 in c:\\users\\josue\\anaconda3\\envs\\tensorflow\\lib\\site-packages (from apache-beam[gcp]<3,>=2.40->tensorflow-data-validation) (3.12.2)\n",
      "Requirement already satisfied: cachetools<6,>=3.1.0 in c:\\users\\josue\\anaconda3\\envs\\tensorflow\\lib\\site-packages (from apache-beam[gcp]<3,>=2.40->tensorflow-data-validation) (5.3.0)\n",
      "Requirement already satisfied: google-auth<3,>=1.18.0 in c:\\users\\josue\\anaconda3\\envs\\tensorflow\\lib\\site-packages (from apache-beam[gcp]<3,>=2.40->tensorflow-data-validation) (2.17.3)\n",
      "Requirement already satisfied: google-cloud-datastore<3,>=2.0.0 in c:\\users\\josue\\anaconda3\\envs\\tensorflow\\lib\\site-packages (from apache-beam[gcp]<3,>=2.40->tensorflow-data-validation) (2.16.1)\n",
      "Requirement already satisfied: google-cloud-bigquery-storage<3,>=2.6.3 in c:\\users\\josue\\anaconda3\\envs\\tensorflow\\lib\\site-packages (from apache-beam[gcp]<3,>=2.40->tensorflow-data-validation) (2.22.0)\n",
      "Requirement already satisfied: tensorflow-intel==2.13.0 in c:\\users\\josue\\anaconda3\\envs\\tensorflow\\lib\\site-packages (from tensorflow<3,>=2.12->tensorflow-data-validation) (2.13.0)\n",
      "Requirement already satisfied: packaging in c:\\users\\josue\\anaconda3\\envs\\tensorflow\\lib\\site-packages (from tensorflow-intel==2.13.0->tensorflow<3,>=2.12->tensorflow-data-validation) (23.0)\n",
      "Requirement already satisfied: h5py>=2.9.0 in c:\\users\\josue\\anaconda3\\envs\\tensorflow\\lib\\site-packages (from tensorflow-intel==2.13.0->tensorflow<3,>=2.12->tensorflow-data-validation) (3.7.0)\n",
      "Requirement already satisfied: tensorboard<2.14,>=2.13 in c:\\users\\josue\\anaconda3\\envs\\tensorflow\\lib\\site-packages (from tensorflow-intel==2.13.0->tensorflow<3,>=2.12->tensorflow-data-validation) (2.13.0)\n",
      "Requirement already satisfied: keras<2.14,>=2.13.1 in c:\\users\\josue\\anaconda3\\envs\\tensorflow\\lib\\site-packages (from tensorflow-intel==2.13.0->tensorflow<3,>=2.12->tensorflow-data-validation) (2.13.1)\n",
      "Requirement already satisfied: setuptools in c:\\users\\josue\\anaconda3\\envs\\tensorflow\\lib\\site-packages (from tensorflow-intel==2.13.0->tensorflow<3,>=2.12->tensorflow-data-validation) (66.0.0)\n",
      "Requirement already satisfied: opt-einsum>=2.3.2 in c:\\users\\josue\\anaconda3\\envs\\tensorflow\\lib\\site-packages (from tensorflow-intel==2.13.0->tensorflow<3,>=2.12->tensorflow-data-validation) (3.3.0)\n",
      "Requirement already satisfied: tensorflow-io-gcs-filesystem>=0.23.1 in c:\\users\\josue\\anaconda3\\envs\\tensorflow\\lib\\site-packages (from tensorflow-intel==2.13.0->tensorflow<3,>=2.12->tensorflow-data-validation) (0.31.0)\n",
      "Requirement already satisfied: flatbuffers>=23.1.21 in c:\\users\\josue\\anaconda3\\envs\\tensorflow\\lib\\site-packages (from tensorflow-intel==2.13.0->tensorflow<3,>=2.12->tensorflow-data-validation) (23.5.8)\n",
      "Requirement already satisfied: libclang>=13.0.0 in c:\\users\\josue\\anaconda3\\envs\\tensorflow\\lib\\site-packages (from tensorflow-intel==2.13.0->tensorflow<3,>=2.12->tensorflow-data-validation) (16.0.0)\n",
      "Requirement already satisfied: tensorflow-estimator<2.14,>=2.13.0 in c:\\users\\josue\\anaconda3\\envs\\tensorflow\\lib\\site-packages (from tensorflow-intel==2.13.0->tensorflow<3,>=2.12->tensorflow-data-validation) (2.13.0)\n",
      "Requirement already satisfied: astunparse>=1.6.0 in c:\\users\\josue\\anaconda3\\envs\\tensorflow\\lib\\site-packages (from tensorflow-intel==2.13.0->tensorflow<3,>=2.12->tensorflow-data-validation) (1.6.3)\n",
      "Requirement already satisfied: google-pasta>=0.1.1 in c:\\users\\josue\\anaconda3\\envs\\tensorflow\\lib\\site-packages (from tensorflow-intel==2.13.0->tensorflow<3,>=2.12->tensorflow-data-validation) (0.2.0)\n",
      "Requirement already satisfied: termcolor>=1.1.0 in c:\\users\\josue\\anaconda3\\envs\\tensorflow\\lib\\site-packages (from tensorflow-intel==2.13.0->tensorflow<3,>=2.12->tensorflow-data-validation) (2.3.0)\n",
      "Requirement already satisfied: wrapt>=1.11.0 in c:\\users\\josue\\anaconda3\\envs\\tensorflow\\lib\\site-packages (from tensorflow-intel==2.13.0->tensorflow<3,>=2.12->tensorflow-data-validation) (1.14.1)\n",
      "Requirement already satisfied: gast<=0.4.0,>=0.2.1 in c:\\users\\josue\\anaconda3\\envs\\tensorflow\\lib\\site-packages (from tensorflow-intel==2.13.0->tensorflow<3,>=2.12->tensorflow-data-validation) (0.4.0)\n",
      "Requirement already satisfied: googleapis-common-protos<2,>=1.52.0 in c:\\users\\josue\\anaconda3\\envs\\tensorflow\\lib\\site-packages (from tensorflow-metadata<1.14,>=1.13.1->tensorflow-data-validation) (1.60.0)\n",
      "Requirement already satisfied: tensorflow-serving-api!=2.0.*,!=2.1.*,!=2.2.*,!=2.3.*,!=2.4.*,!=2.5.*,!=2.6.*,!=2.7.*,!=2.8.*,<3,>=1.15 in c:\\users\\josue\\anaconda3\\envs\\tensorflow\\lib\\site-packages (from tfx-bsl<1.14,>=1.13.0->tensorflow-data-validation) (2.12.1)\n",
      "Requirement already satisfied: google-api-python-client<2,>=1.7.11 in c:\\users\\josue\\anaconda3\\envs\\tensorflow\\lib\\site-packages (from tfx-bsl<1.14,>=1.13.0->tensorflow-data-validation) (1.12.11)\n",
      "Requirement already satisfied: google-api-core<3dev,>=1.21.0 in c:\\users\\josue\\anaconda3\\envs\\tensorflow\\lib\\site-packages (from google-api-python-client<2,>=1.7.11->tfx-bsl<1.14,>=1.13.0->tensorflow-data-validation) (2.11.1)\n",
      "Requirement already satisfied: uritemplate<4dev,>=3.0.0 in c:\\users\\josue\\anaconda3\\envs\\tensorflow\\lib\\site-packages (from google-api-python-client<2,>=1.7.11->tfx-bsl<1.14,>=1.13.0->tensorflow-data-validation) (3.0.1)\n",
      "Requirement already satisfied: oauth2client>=1.4.12 in c:\\users\\josue\\anaconda3\\envs\\tensorflow\\lib\\site-packages (from google-apitools<0.5.32,>=0.5.31->apache-beam[gcp]<3,>=2.40->tensorflow-data-validation) (4.1.3)\n",
      "Requirement already satisfied: rsa<5,>=3.1.4 in c:\\users\\josue\\anaconda3\\envs\\tensorflow\\lib\\site-packages (from google-auth<3,>=1.18.0->apache-beam[gcp]<3,>=2.40->tensorflow-data-validation) (4.9)\n",
      "Requirement already satisfied: pyasn1-modules>=0.2.1 in c:\\users\\josue\\anaconda3\\envs\\tensorflow\\lib\\site-packages (from google-auth<3,>=1.18.0->apache-beam[gcp]<3,>=2.40->tensorflow-data-validation) (0.2.8)\n",
      "Requirement already satisfied: google-cloud-storage<3.0.0dev,>=1.32.0 in c:\\users\\josue\\anaconda3\\envs\\tensorflow\\lib\\site-packages (from google-cloud-aiplatform<2.0,>=1.26.0->apache-beam[gcp]<3,>=2.40->tensorflow-data-validation) (2.10.0)\n",
      "Requirement already satisfied: google-cloud-resource-manager<3.0.0dev,>=1.3.3 in c:\\users\\josue\\anaconda3\\envs\\tensorflow\\lib\\site-packages (from google-cloud-aiplatform<2.0,>=1.26.0->apache-beam[gcp]<3,>=2.40->tensorflow-data-validation) (1.10.2)\n",
      "Requirement already satisfied: shapely<2.0.0 in c:\\users\\josue\\anaconda3\\envs\\tensorflow\\lib\\site-packages (from google-cloud-aiplatform<2.0,>=1.26.0->apache-beam[gcp]<3,>=2.40->tensorflow-data-validation) (1.8.5.post1)\n",
      "Requirement already satisfied: google-resumable-media<3.0dev,>=0.6.0 in c:\\users\\josue\\anaconda3\\envs\\tensorflow\\lib\\site-packages (from google-cloud-bigquery<4,>=2.0.0->apache-beam[gcp]<3,>=2.40->tensorflow-data-validation) (2.5.0)\n",
      "Requirement already satisfied: grpc-google-iam-v1<1.0.0dev,>=0.12.4 in c:\\users\\josue\\anaconda3\\envs\\tensorflow\\lib\\site-packages (from google-cloud-bigtable<3,>=2.19.0->apache-beam[gcp]<3,>=2.40->tensorflow-data-validation) (0.12.6)\n",
      "Requirement already satisfied: grpcio-status>=1.33.2 in c:\\users\\josue\\anaconda3\\envs\\tensorflow\\lib\\site-packages (from google-cloud-pubsub<3,>=2.1.0->apache-beam[gcp]<3,>=2.40->tensorflow-data-validation) (1.56.2)\n",
      "Requirement already satisfied: overrides<7.0.0,>=6.0.1 in c:\\users\\josue\\anaconda3\\envs\\tensorflow\\lib\\site-packages (from google-cloud-pubsublite<2,>=1.2.0->apache-beam[gcp]<3,>=2.40->tensorflow-data-validation) (6.5.0)\n",
      "Requirement already satisfied: sqlparse>=0.4.4 in c:\\users\\josue\\anaconda3\\envs\\tensorflow\\lib\\site-packages (from google-cloud-spanner<4,>=3.0.0->apache-beam[gcp]<3,>=2.40->tensorflow-data-validation) (0.4.4)\n",
      "Requirement already satisfied: docopt in c:\\users\\josue\\anaconda3\\envs\\tensorflow\\lib\\site-packages (from hdfs<3.0.0,>=2.1.0->apache-beam[gcp]<3,>=2.40->tensorflow-data-validation) (0.6.2)\n",
      "Requirement already satisfied: pyparsing!=3.0.0,!=3.0.1,!=3.0.2,!=3.0.3,<4,>=2.4.2 in c:\\users\\josue\\anaconda3\\envs\\tensorflow\\lib\\site-packages (from httplib2<0.23.0,>=0.8->apache-beam[gcp]<3,>=2.40->tensorflow-data-validation) (3.0.9)\n",
      "Requirement already satisfied: dnspython<3.0.0,>=1.16.0 in c:\\users\\josue\\anaconda3\\envs\\tensorflow\\lib\\site-packages (from pymongo<5.0.0,>=3.8.0->apache-beam[gcp]<3,>=2.40->tensorflow-data-validation) (2.4.1)\n",
      "Requirement already satisfied: idna<4,>=2.5 in c:\\users\\josue\\anaconda3\\envs\\tensorflow\\lib\\site-packages (from requests<3.0.0,>=2.24.0->apache-beam[gcp]<3,>=2.40->tensorflow-data-validation) (3.4)\n",
      "Requirement already satisfied: charset-normalizer<4,>=2 in c:\\users\\josue\\anaconda3\\envs\\tensorflow\\lib\\site-packages (from requests<3.0.0,>=2.24.0->apache-beam[gcp]<3,>=2.40->tensorflow-data-validation) (2.0.4)\n",
      "Requirement already satisfied: certifi>=2017.4.17 in c:\\users\\josue\\anaconda3\\envs\\tensorflow\\lib\\site-packages (from requests<3.0.0,>=2.24.0->apache-beam[gcp]<3,>=2.40->tensorflow-data-validation) (2023.5.7)\n",
      "Requirement already satisfied: urllib3<3,>=1.21.1 in c:\\users\\josue\\anaconda3\\envs\\tensorflow\\lib\\site-packages (from requests<3.0.0,>=2.24.0->apache-beam[gcp]<3,>=2.40->tensorflow-data-validation) (1.26.15)\n",
      "Requirement already satisfied: wheel<1.0,>=0.23.0 in c:\\users\\josue\\anaconda3\\envs\\tensorflow\\lib\\site-packages (from astunparse>=1.6.0->tensorflow-intel==2.13.0->tensorflow<3,>=2.12->tensorflow-data-validation) (0.38.4)\n",
      "Requirement already satisfied: google-crc32c<2.0dev,>=1.0 in c:\\users\\josue\\anaconda3\\envs\\tensorflow\\lib\\site-packages (from google-resumable-media<3.0dev,>=0.6.0->google-cloud-bigquery<4,>=2.0.0->apache-beam[gcp]<3,>=2.40->tensorflow-data-validation) (1.5.0)\n",
      "Requirement already satisfied: pyasn1>=0.1.7 in c:\\users\\josue\\anaconda3\\envs\\tensorflow\\lib\\site-packages (from oauth2client>=1.4.12->google-apitools<0.5.32,>=0.5.31->apache-beam[gcp]<3,>=2.40->tensorflow-data-validation) (0.4.8)\n",
      "Requirement already satisfied: google-auth-oauthlib<1.1,>=0.5 in c:\\users\\josue\\anaconda3\\envs\\tensorflow\\lib\\site-packages (from tensorboard<2.14,>=2.13->tensorflow-intel==2.13.0->tensorflow<3,>=2.12->tensorflow-data-validation) (1.0.0)\n",
      "Requirement already satisfied: tensorboard-data-server<0.8.0,>=0.7.0 in c:\\users\\josue\\anaconda3\\envs\\tensorflow\\lib\\site-packages (from tensorboard<2.14,>=2.13->tensorflow-intel==2.13.0->tensorflow<3,>=2.12->tensorflow-data-validation) (0.7.0)\n",
      "Requirement already satisfied: markdown>=2.6.8 in c:\\users\\josue\\anaconda3\\envs\\tensorflow\\lib\\site-packages (from tensorboard<2.14,>=2.13->tensorflow-intel==2.13.0->tensorflow<3,>=2.12->tensorflow-data-validation) (3.4.1)\n",
      "Requirement already satisfied: werkzeug>=1.0.1 in c:\\users\\josue\\anaconda3\\envs\\tensorflow\\lib\\site-packages (from tensorboard<2.14,>=2.13->tensorflow-intel==2.13.0->tensorflow<3,>=2.12->tensorflow-data-validation) (2.2.3)\n",
      "Requirement already satisfied: requests-oauthlib>=0.7.0 in c:\\users\\josue\\anaconda3\\envs\\tensorflow\\lib\\site-packages (from google-auth-oauthlib<1.1,>=0.5->tensorboard<2.14,>=2.13->tensorflow-intel==2.13.0->tensorflow<3,>=2.12->tensorflow-data-validation) (1.3.1)\n",
      "Requirement already satisfied: importlib-metadata>=4.4 in c:\\users\\josue\\anaconda3\\envs\\tensorflow\\lib\\site-packages (from markdown>=2.6.8->tensorboard<2.14,>=2.13->tensorflow-intel==2.13.0->tensorflow<3,>=2.12->tensorflow-data-validation) (6.0.0)\n",
      "Requirement already satisfied: MarkupSafe>=2.1.1 in c:\\users\\josue\\anaconda3\\envs\\tensorflow\\lib\\site-packages (from werkzeug>=1.0.1->tensorboard<2.14,>=2.13->tensorflow-intel==2.13.0->tensorflow<3,>=2.12->tensorflow-data-validation) (2.1.1)\n",
      "Requirement already satisfied: zipp>=0.5 in c:\\users\\josue\\anaconda3\\envs\\tensorflow\\lib\\site-packages (from importlib-metadata>=4.4->markdown>=2.6.8->tensorboard<2.14,>=2.13->tensorflow-intel==2.13.0->tensorflow<3,>=2.12->tensorflow-data-validation) (3.11.0)\n",
      "Requirement already satisfied: oauthlib>=3.0.0 in c:\\users\\josue\\anaconda3\\envs\\tensorflow\\lib\\site-packages (from requests-oauthlib>=0.7.0->google-auth-oauthlib<1.1,>=0.5->tensorboard<2.14,>=2.13->tensorflow-intel==2.13.0->tensorflow<3,>=2.12->tensorflow-data-validation) (3.2.2)\n"
     ]
    },
    {
     "name": "stderr",
     "output_type": "stream",
     "text": [
      "WARNING: Ignoring invalid distribution -rotobuf (c:\\users\\josue\\anaconda3\\envs\\tensorflow\\lib\\site-packages)\n",
      "WARNING: Ignoring invalid distribution -ensorflow-intel (c:\\users\\josue\\anaconda3\\envs\\tensorflow\\lib\\site-packages)\n",
      "WARNING: Ignoring invalid distribution -rotobuf (c:\\users\\josue\\anaconda3\\envs\\tensorflow\\lib\\site-packages)\n",
      "WARNING: Ignoring invalid distribution -ensorflow-intel (c:\\users\\josue\\anaconda3\\envs\\tensorflow\\lib\\site-packages)\n",
      "WARNING: Ignoring invalid distribution -rotobuf (c:\\users\\josue\\anaconda3\\envs\\tensorflow\\lib\\site-packages)\n",
      "WARNING: Ignoring invalid distribution -ensorflow-intel (c:\\users\\josue\\anaconda3\\envs\\tensorflow\\lib\\site-packages)\n",
      "WARNING: Ignoring invalid distribution -rotobuf (c:\\users\\josue\\anaconda3\\envs\\tensorflow\\lib\\site-packages)\n",
      "WARNING: Ignoring invalid distribution -ensorflow-intel (c:\\users\\josue\\anaconda3\\envs\\tensorflow\\lib\\site-packages)\n",
      "WARNING: Ignoring invalid distribution -rotobuf (c:\\users\\josue\\anaconda3\\envs\\tensorflow\\lib\\site-packages)\n",
      "WARNING: Ignoring invalid distribution -ensorflow-intel (c:\\users\\josue\\anaconda3\\envs\\tensorflow\\lib\\site-packages)\n",
      "WARNING: Ignoring invalid distribution -rotobuf (c:\\users\\josue\\anaconda3\\envs\\tensorflow\\lib\\site-packages)\n",
      "WARNING: Ignoring invalid distribution -ensorflow-intel (c:\\users\\josue\\anaconda3\\envs\\tensorflow\\lib\\site-packages)\n"
     ]
    }
   ],
   "source": [
    "!pip install --upgrade tensorflow-data-validation"
   ]
  },
  {
   "cell_type": "markdown",
   "metadata": {
    "id": "FO47q651xVKp"
   },
   "source": [
    "## Paso 2: Importar las librerías para el proyecto"
   ]
  },
  {
   "cell_type": "code",
   "execution_count": 4,
   "metadata": {
    "id": "v15-TQQ4wf4v"
   },
   "outputs": [],
   "source": [
    "import pandas as pd\n",
    "import os\n",
    "os.environ[\"PROTOCOL_BUFFERS_PYTHON_IMPLEMENTATION\"]=\"python\"\n",
    "import tensorflow as tf\n",
    "import tensorflow_data_validation as tfdv\n",
    "\n",
    "from __future__ import print_function"
   ]
  },
  {
   "cell_type": "markdown",
   "metadata": {
    "id": "S5LUUynDxvak"
   },
   "source": [
    "## Paso 3: Análisis descriptivo del dataset\n"
   ]
  },
  {
   "cell_type": "code",
   "execution_count": 5,
   "metadata": {
    "id": "v7r7kstFxfRQ"
   },
   "outputs": [],
   "source": [
    "dataset = pd.read_csv(\"https://raw.githubusercontent.com/joanby/tensorflow2/master/datasets/pollution-small.csv\")"
   ]
  },
  {
   "cell_type": "code",
   "execution_count": 6,
   "metadata": {
    "colab": {
     "base_uri": "https://localhost:8080/",
     "height": 34
    },
    "id": "Ha53nh-HyqF3",
    "outputId": "a4cd4544-b0d9-46b7-be33-a5f97db1a1d0"
   },
   "outputs": [
    {
     "data": {
      "text/plain": [
       "(2188, 5)"
      ]
     },
     "execution_count": 6,
     "metadata": {},
     "output_type": "execute_result"
    }
   ],
   "source": [
    "dataset.shape"
   ]
  },
  {
   "cell_type": "code",
   "execution_count": 10,
   "metadata": {},
   "outputs": [
    {
     "data": {
      "text/html": [
       "<div>\n",
       "<style scoped>\n",
       "    .dataframe tbody tr th:only-of-type {\n",
       "        vertical-align: middle;\n",
       "    }\n",
       "\n",
       "    .dataframe tbody tr th {\n",
       "        vertical-align: top;\n",
       "    }\n",
       "\n",
       "    .dataframe thead th {\n",
       "        text-align: right;\n",
       "    }\n",
       "</style>\n",
       "<table border=\"1\" class=\"dataframe\">\n",
       "  <thead>\n",
       "    <tr style=\"text-align: right;\">\n",
       "      <th></th>\n",
       "      <th>Date</th>\n",
       "      <th>pm10</th>\n",
       "      <th>no2</th>\n",
       "      <th>so2</th>\n",
       "      <th>soot</th>\n",
       "    </tr>\n",
       "  </thead>\n",
       "  <tbody>\n",
       "    <tr>\n",
       "      <th>0</th>\n",
       "      <td>1/1/2009</td>\n",
       "      <td>98.67</td>\n",
       "      <td>14.10</td>\n",
       "      <td>44.38</td>\n",
       "      <td>34.81</td>\n",
       "    </tr>\n",
       "    <tr>\n",
       "      <th>1</th>\n",
       "      <td>1/2/2009</td>\n",
       "      <td>52.33</td>\n",
       "      <td>14.10</td>\n",
       "      <td>29.75</td>\n",
       "      <td>33.06</td>\n",
       "    </tr>\n",
       "    <tr>\n",
       "      <th>2</th>\n",
       "      <td>1/3/2009</td>\n",
       "      <td>74.67</td>\n",
       "      <td>20.50</td>\n",
       "      <td>36.25</td>\n",
       "      <td>39.25</td>\n",
       "    </tr>\n",
       "    <tr>\n",
       "      <th>3</th>\n",
       "      <td>1/4/2009</td>\n",
       "      <td>72.00</td>\n",
       "      <td>17.30</td>\n",
       "      <td>46.44</td>\n",
       "      <td>34.38</td>\n",
       "    </tr>\n",
       "    <tr>\n",
       "      <th>4</th>\n",
       "      <td>1/5/2009</td>\n",
       "      <td>81.00</td>\n",
       "      <td>25.64</td>\n",
       "      <td>56.56</td>\n",
       "      <td>45.59</td>\n",
       "    </tr>\n",
       "    <tr>\n",
       "      <th>...</th>\n",
       "      <td>...</td>\n",
       "      <td>...</td>\n",
       "      <td>...</td>\n",
       "      <td>...</td>\n",
       "      <td>...</td>\n",
       "    </tr>\n",
       "    <tr>\n",
       "      <th>2183</th>\n",
       "      <td>12/24/2014</td>\n",
       "      <td>178.07</td>\n",
       "      <td>106.03</td>\n",
       "      <td>33.76</td>\n",
       "      <td>43.22</td>\n",
       "    </tr>\n",
       "    <tr>\n",
       "      <th>2184</th>\n",
       "      <td>12/25/2014</td>\n",
       "      <td>98.00</td>\n",
       "      <td>82.28</td>\n",
       "      <td>27.73</td>\n",
       "      <td>31.50</td>\n",
       "    </tr>\n",
       "    <tr>\n",
       "      <th>2185</th>\n",
       "      <td>12/26/2014</td>\n",
       "      <td>24.07</td>\n",
       "      <td>44.24</td>\n",
       "      <td>15.76</td>\n",
       "      <td>16.46</td>\n",
       "    </tr>\n",
       "    <tr>\n",
       "      <th>2186</th>\n",
       "      <td>12/27/2014</td>\n",
       "      <td>24.03</td>\n",
       "      <td>42.27</td>\n",
       "      <td>18.57</td>\n",
       "      <td>14.21</td>\n",
       "    </tr>\n",
       "    <tr>\n",
       "      <th>2187</th>\n",
       "      <td>12/28/2014</td>\n",
       "      <td>47.97</td>\n",
       "      <td>31.57</td>\n",
       "      <td>15.66</td>\n",
       "      <td>14.01</td>\n",
       "    </tr>\n",
       "  </tbody>\n",
       "</table>\n",
       "<p>2188 rows × 5 columns</p>\n",
       "</div>"
      ],
      "text/plain": [
       "            Date    pm10     no2    so2   soot\n",
       "0       1/1/2009   98.67   14.10  44.38  34.81\n",
       "1       1/2/2009   52.33   14.10  29.75  33.06\n",
       "2       1/3/2009   74.67   20.50  36.25  39.25\n",
       "3       1/4/2009   72.00   17.30  46.44  34.38\n",
       "4       1/5/2009   81.00   25.64  56.56  45.59\n",
       "...          ...     ...     ...    ...    ...\n",
       "2183  12/24/2014  178.07  106.03  33.76  43.22\n",
       "2184  12/25/2014   98.00   82.28  27.73  31.50\n",
       "2185  12/26/2014   24.07   44.24  15.76  16.46\n",
       "2186  12/27/2014   24.03   42.27  18.57  14.21\n",
       "2187  12/28/2014   47.97   31.57  15.66  14.01\n",
       "\n",
       "[2188 rows x 5 columns]"
      ]
     },
     "execution_count": 10,
     "metadata": {},
     "output_type": "execute_result"
    }
   ],
   "source": [
    "dataset"
   ]
  },
  {
   "cell_type": "code",
   "execution_count": 11,
   "metadata": {
    "id": "ej93eK0Aysv4"
   },
   "outputs": [],
   "source": [
    "training_data = dataset[:1600]"
   ]
  },
  {
   "cell_type": "code",
   "execution_count": 12,
   "metadata": {
    "colab": {
     "base_uri": "https://localhost:8080/",
     "height": 297
    },
    "id": "TTZVB628y38P",
    "outputId": "dbe98c23-fa8f-40f4-e960-80c6fec459eb"
   },
   "outputs": [
    {
     "data": {
      "text/html": [
       "<div>\n",
       "<style scoped>\n",
       "    .dataframe tbody tr th:only-of-type {\n",
       "        vertical-align: middle;\n",
       "    }\n",
       "\n",
       "    .dataframe tbody tr th {\n",
       "        vertical-align: top;\n",
       "    }\n",
       "\n",
       "    .dataframe thead th {\n",
       "        text-align: right;\n",
       "    }\n",
       "</style>\n",
       "<table border=\"1\" class=\"dataframe\">\n",
       "  <thead>\n",
       "    <tr style=\"text-align: right;\">\n",
       "      <th></th>\n",
       "      <th>pm10</th>\n",
       "      <th>no2</th>\n",
       "      <th>so2</th>\n",
       "      <th>soot</th>\n",
       "    </tr>\n",
       "  </thead>\n",
       "  <tbody>\n",
       "    <tr>\n",
       "      <th>count</th>\n",
       "      <td>1600.000000</td>\n",
       "      <td>1600.000000</td>\n",
       "      <td>1600.000000</td>\n",
       "      <td>1600.000000</td>\n",
       "    </tr>\n",
       "    <tr>\n",
       "      <th>mean</th>\n",
       "      <td>49.656494</td>\n",
       "      <td>30.980519</td>\n",
       "      <td>16.229981</td>\n",
       "      <td>21.551956</td>\n",
       "    </tr>\n",
       "    <tr>\n",
       "      <th>std</th>\n",
       "      <td>35.211906</td>\n",
       "      <td>12.400788</td>\n",
       "      <td>10.621896</td>\n",
       "      <td>12.127354</td>\n",
       "    </tr>\n",
       "    <tr>\n",
       "      <th>min</th>\n",
       "      <td>6.380000</td>\n",
       "      <td>9.740000</td>\n",
       "      <td>4.010000</td>\n",
       "      <td>6.000000</td>\n",
       "    </tr>\n",
       "    <tr>\n",
       "      <th>25%</th>\n",
       "      <td>28.345000</td>\n",
       "      <td>22.567500</td>\n",
       "      <td>9.777500</td>\n",
       "      <td>14.400000</td>\n",
       "    </tr>\n",
       "    <tr>\n",
       "      <th>50%</th>\n",
       "      <td>38.835000</td>\n",
       "      <td>28.715000</td>\n",
       "      <td>13.275000</td>\n",
       "      <td>18.630000</td>\n",
       "    </tr>\n",
       "    <tr>\n",
       "      <th>75%</th>\n",
       "      <td>58.050000</td>\n",
       "      <td>36.370000</td>\n",
       "      <td>19.282500</td>\n",
       "      <td>24.072500</td>\n",
       "    </tr>\n",
       "    <tr>\n",
       "      <th>max</th>\n",
       "      <td>277.250000</td>\n",
       "      <td>138.010000</td>\n",
       "      <td>123.130000</td>\n",
       "      <td>107.650000</td>\n",
       "    </tr>\n",
       "  </tbody>\n",
       "</table>\n",
       "</div>"
      ],
      "text/plain": [
       "              pm10          no2          so2         soot\n",
       "count  1600.000000  1600.000000  1600.000000  1600.000000\n",
       "mean     49.656494    30.980519    16.229981    21.551956\n",
       "std      35.211906    12.400788    10.621896    12.127354\n",
       "min       6.380000     9.740000     4.010000     6.000000\n",
       "25%      28.345000    22.567500     9.777500    14.400000\n",
       "50%      38.835000    28.715000    13.275000    18.630000\n",
       "75%      58.050000    36.370000    19.282500    24.072500\n",
       "max     277.250000   138.010000   123.130000   107.650000"
      ]
     },
     "execution_count": 12,
     "metadata": {},
     "output_type": "execute_result"
    }
   ],
   "source": [
    "training_data.describe()"
   ]
  },
  {
   "cell_type": "code",
   "execution_count": 13,
   "metadata": {},
   "outputs": [
    {
     "data": {
      "text/html": [
       "<div>\n",
       "<style scoped>\n",
       "    .dataframe tbody tr th:only-of-type {\n",
       "        vertical-align: middle;\n",
       "    }\n",
       "\n",
       "    .dataframe tbody tr th {\n",
       "        vertical-align: top;\n",
       "    }\n",
       "\n",
       "    .dataframe thead th {\n",
       "        text-align: right;\n",
       "    }\n",
       "</style>\n",
       "<table border=\"1\" class=\"dataframe\">\n",
       "  <thead>\n",
       "    <tr style=\"text-align: right;\">\n",
       "      <th></th>\n",
       "      <th>Date</th>\n",
       "      <th>pm10</th>\n",
       "      <th>no2</th>\n",
       "      <th>so2</th>\n",
       "      <th>soot</th>\n",
       "    </tr>\n",
       "  </thead>\n",
       "  <tbody>\n",
       "    <tr>\n",
       "      <th>0</th>\n",
       "      <td>1/1/2009</td>\n",
       "      <td>98.67</td>\n",
       "      <td>14.10</td>\n",
       "      <td>44.38</td>\n",
       "      <td>34.81</td>\n",
       "    </tr>\n",
       "    <tr>\n",
       "      <th>1</th>\n",
       "      <td>1/2/2009</td>\n",
       "      <td>52.33</td>\n",
       "      <td>14.10</td>\n",
       "      <td>29.75</td>\n",
       "      <td>33.06</td>\n",
       "    </tr>\n",
       "    <tr>\n",
       "      <th>2</th>\n",
       "      <td>1/3/2009</td>\n",
       "      <td>74.67</td>\n",
       "      <td>20.50</td>\n",
       "      <td>36.25</td>\n",
       "      <td>39.25</td>\n",
       "    </tr>\n",
       "    <tr>\n",
       "      <th>3</th>\n",
       "      <td>1/4/2009</td>\n",
       "      <td>72.00</td>\n",
       "      <td>17.30</td>\n",
       "      <td>46.44</td>\n",
       "      <td>34.38</td>\n",
       "    </tr>\n",
       "    <tr>\n",
       "      <th>4</th>\n",
       "      <td>1/5/2009</td>\n",
       "      <td>81.00</td>\n",
       "      <td>25.64</td>\n",
       "      <td>56.56</td>\n",
       "      <td>45.59</td>\n",
       "    </tr>\n",
       "    <tr>\n",
       "      <th>...</th>\n",
       "      <td>...</td>\n",
       "      <td>...</td>\n",
       "      <td>...</td>\n",
       "      <td>...</td>\n",
       "      <td>...</td>\n",
       "    </tr>\n",
       "    <tr>\n",
       "      <th>1595</th>\n",
       "      <td>5/15/2013</td>\n",
       "      <td>29.91</td>\n",
       "      <td>39.25</td>\n",
       "      <td>12.55</td>\n",
       "      <td>19.06</td>\n",
       "    </tr>\n",
       "    <tr>\n",
       "      <th>1596</th>\n",
       "      <td>5/16/2013</td>\n",
       "      <td>22.16</td>\n",
       "      <td>35.04</td>\n",
       "      <td>12.07</td>\n",
       "      <td>19.19</td>\n",
       "    </tr>\n",
       "    <tr>\n",
       "      <th>1597</th>\n",
       "      <td>5/17/2013</td>\n",
       "      <td>25.90</td>\n",
       "      <td>31.57</td>\n",
       "      <td>12.96</td>\n",
       "      <td>19.50</td>\n",
       "    </tr>\n",
       "    <tr>\n",
       "      <th>1598</th>\n",
       "      <td>5/18/2013</td>\n",
       "      <td>21.64</td>\n",
       "      <td>34.27</td>\n",
       "      <td>15.05</td>\n",
       "      <td>20.00</td>\n",
       "    </tr>\n",
       "    <tr>\n",
       "      <th>1599</th>\n",
       "      <td>5/19/2013</td>\n",
       "      <td>44.06</td>\n",
       "      <td>32.49</td>\n",
       "      <td>9.78</td>\n",
       "      <td>21.31</td>\n",
       "    </tr>\n",
       "  </tbody>\n",
       "</table>\n",
       "<p>1600 rows × 5 columns</p>\n",
       "</div>"
      ],
      "text/plain": [
       "           Date   pm10    no2    so2   soot\n",
       "0      1/1/2009  98.67  14.10  44.38  34.81\n",
       "1      1/2/2009  52.33  14.10  29.75  33.06\n",
       "2      1/3/2009  74.67  20.50  36.25  39.25\n",
       "3      1/4/2009  72.00  17.30  46.44  34.38\n",
       "4      1/5/2009  81.00  25.64  56.56  45.59\n",
       "...         ...    ...    ...    ...    ...\n",
       "1595  5/15/2013  29.91  39.25  12.55  19.06\n",
       "1596  5/16/2013  22.16  35.04  12.07  19.19\n",
       "1597  5/17/2013  25.90  31.57  12.96  19.50\n",
       "1598  5/18/2013  21.64  34.27  15.05  20.00\n",
       "1599  5/19/2013  44.06  32.49   9.78  21.31\n",
       "\n",
       "[1600 rows x 5 columns]"
      ]
     },
     "execution_count": 13,
     "metadata": {},
     "output_type": "execute_result"
    }
   ],
   "source": [
    "training_data"
   ]
  },
  {
   "cell_type": "code",
   "execution_count": 14,
   "metadata": {
    "id": "lNepyJ0gy9IZ"
   },
   "outputs": [],
   "source": [
    "test_set = dataset[1600:]"
   ]
  },
  {
   "cell_type": "code",
   "execution_count": 15,
   "metadata": {
    "colab": {
     "base_uri": "https://localhost:8080/",
     "height": 297
    },
    "id": "O9zmE9FEzgOH",
    "outputId": "79f2425d-5e37-4070-ebb5-3c5421aa3ff0"
   },
   "outputs": [
    {
     "data": {
      "text/html": [
       "<div>\n",
       "<style scoped>\n",
       "    .dataframe tbody tr th:only-of-type {\n",
       "        vertical-align: middle;\n",
       "    }\n",
       "\n",
       "    .dataframe tbody tr th {\n",
       "        vertical-align: top;\n",
       "    }\n",
       "\n",
       "    .dataframe thead th {\n",
       "        text-align: right;\n",
       "    }\n",
       "</style>\n",
       "<table border=\"1\" class=\"dataframe\">\n",
       "  <thead>\n",
       "    <tr style=\"text-align: right;\">\n",
       "      <th></th>\n",
       "      <th>pm10</th>\n",
       "      <th>no2</th>\n",
       "      <th>so2</th>\n",
       "      <th>soot</th>\n",
       "    </tr>\n",
       "  </thead>\n",
       "  <tbody>\n",
       "    <tr>\n",
       "      <th>count</th>\n",
       "      <td>588.000000</td>\n",
       "      <td>588.000000</td>\n",
       "      <td>588.000000</td>\n",
       "      <td>588.000000</td>\n",
       "    </tr>\n",
       "    <tr>\n",
       "      <th>mean</th>\n",
       "      <td>44.648248</td>\n",
       "      <td>37.296922</td>\n",
       "      <td>13.605170</td>\n",
       "      <td>18.441310</td>\n",
       "    </tr>\n",
       "    <tr>\n",
       "      <th>std</th>\n",
       "      <td>28.992087</td>\n",
       "      <td>10.940050</td>\n",
       "      <td>5.098944</td>\n",
       "      <td>6.596459</td>\n",
       "    </tr>\n",
       "    <tr>\n",
       "      <th>min</th>\n",
       "      <td>11.900000</td>\n",
       "      <td>15.070000</td>\n",
       "      <td>4.990000</td>\n",
       "      <td>8.000000</td>\n",
       "    </tr>\n",
       "    <tr>\n",
       "      <th>25%</th>\n",
       "      <td>28.337500</td>\n",
       "      <td>29.217500</td>\n",
       "      <td>10.122500</td>\n",
       "      <td>14.410000</td>\n",
       "    </tr>\n",
       "    <tr>\n",
       "      <th>50%</th>\n",
       "      <td>35.555000</td>\n",
       "      <td>35.815000</td>\n",
       "      <td>12.345000</td>\n",
       "      <td>17.090000</td>\n",
       "    </tr>\n",
       "    <tr>\n",
       "      <th>75%</th>\n",
       "      <td>50.812500</td>\n",
       "      <td>43.872500</td>\n",
       "      <td>15.855000</td>\n",
       "      <td>20.962500</td>\n",
       "    </tr>\n",
       "    <tr>\n",
       "      <th>max</th>\n",
       "      <td>273.770000</td>\n",
       "      <td>106.030000</td>\n",
       "      <td>38.030000</td>\n",
       "      <td>87.210000</td>\n",
       "    </tr>\n",
       "  </tbody>\n",
       "</table>\n",
       "</div>"
      ],
      "text/plain": [
       "             pm10         no2         so2        soot\n",
       "count  588.000000  588.000000  588.000000  588.000000\n",
       "mean    44.648248   37.296922   13.605170   18.441310\n",
       "std     28.992087   10.940050    5.098944    6.596459\n",
       "min     11.900000   15.070000    4.990000    8.000000\n",
       "25%     28.337500   29.217500   10.122500   14.410000\n",
       "50%     35.555000   35.815000   12.345000   17.090000\n",
       "75%     50.812500   43.872500   15.855000   20.962500\n",
       "max    273.770000  106.030000   38.030000   87.210000"
      ]
     },
     "execution_count": 15,
     "metadata": {},
     "output_type": "execute_result"
    }
   ],
   "source": [
    "test_set.describe()"
   ]
  },
  {
   "cell_type": "markdown",
   "metadata": {
    "id": "iGqBm9LZzyqi"
   },
   "source": [
    "## Paso 3.1: Análisis descriptivo y validación con TFDV"
   ]
  },
  {
   "cell_type": "markdown",
   "metadata": {
    "id": "wAVQXEGG0RKH"
   },
   "source": [
    "### Generar análisis descriptivo del dataset\n"
   ]
  },
  {
   "cell_type": "code",
   "execution_count": 16,
   "metadata": {
    "id": "WByxycNeziDA"
   },
   "outputs": [],
   "source": [
    "train_stats = tfdv.generate_statistics_from_dataframe(dataframe=training_data)#Se puede añadir njobs"
   ]
  },
  {
   "cell_type": "markdown",
   "metadata": {
    "id": "BitwkaZ00_iL"
   },
   "source": [
    "### Inferir el esquema "
   ]
  },
  {
   "cell_type": "code",
   "execution_count": 17,
   "metadata": {
    "id": "26We0ahE1CKP"
   },
   "outputs": [],
   "source": [
    "schema = tfdv.infer_schema(statistics=train_stats)#Informacion de los datos"
   ]
  },
  {
   "cell_type": "code",
   "execution_count": 18,
   "metadata": {
    "colab": {
     "base_uri": "https://localhost:8080/",
     "height": 235
    },
    "id": "2ZHnaOxg24t3",
    "outputId": "da160cbc-9f3f-4110-8461-4ce55ed56d2f"
   },
   "outputs": [
    {
     "data": {
      "text/html": [
       "<div>\n",
       "<style scoped>\n",
       "    .dataframe tbody tr th:only-of-type {\n",
       "        vertical-align: middle;\n",
       "    }\n",
       "\n",
       "    .dataframe tbody tr th {\n",
       "        vertical-align: top;\n",
       "    }\n",
       "\n",
       "    .dataframe thead th {\n",
       "        text-align: right;\n",
       "    }\n",
       "</style>\n",
       "<table border=\"1\" class=\"dataframe\">\n",
       "  <thead>\n",
       "    <tr style=\"text-align: right;\">\n",
       "      <th></th>\n",
       "      <th>Type</th>\n",
       "      <th>Presence</th>\n",
       "      <th>Valency</th>\n",
       "      <th>Domain</th>\n",
       "    </tr>\n",
       "    <tr>\n",
       "      <th>Feature name</th>\n",
       "      <th></th>\n",
       "      <th></th>\n",
       "      <th></th>\n",
       "      <th></th>\n",
       "    </tr>\n",
       "  </thead>\n",
       "  <tbody>\n",
       "    <tr>\n",
       "      <th>'Date'</th>\n",
       "      <td>BYTES</td>\n",
       "      <td>required</td>\n",
       "      <td></td>\n",
       "      <td>-</td>\n",
       "    </tr>\n",
       "    <tr>\n",
       "      <th>'pm10'</th>\n",
       "      <td>FLOAT</td>\n",
       "      <td>required</td>\n",
       "      <td></td>\n",
       "      <td>-</td>\n",
       "    </tr>\n",
       "    <tr>\n",
       "      <th>'no2'</th>\n",
       "      <td>FLOAT</td>\n",
       "      <td>required</td>\n",
       "      <td></td>\n",
       "      <td>-</td>\n",
       "    </tr>\n",
       "    <tr>\n",
       "      <th>'so2'</th>\n",
       "      <td>FLOAT</td>\n",
       "      <td>required</td>\n",
       "      <td></td>\n",
       "      <td>-</td>\n",
       "    </tr>\n",
       "    <tr>\n",
       "      <th>'soot'</th>\n",
       "      <td>FLOAT</td>\n",
       "      <td>required</td>\n",
       "      <td></td>\n",
       "      <td>-</td>\n",
       "    </tr>\n",
       "  </tbody>\n",
       "</table>\n",
       "</div>"
      ],
      "text/plain": [
       "               Type  Presence Valency Domain\n",
       "Feature name                                \n",
       "'Date'        BYTES  required              -\n",
       "'pm10'        FLOAT  required              -\n",
       "'no2'         FLOAT  required              -\n",
       "'so2'         FLOAT  required              -\n",
       "'soot'        FLOAT  required              -"
      ]
     },
     "metadata": {},
     "output_type": "display_data"
    }
   ],
   "source": [
    "tfdv.display_schema(schema)"
   ]
  },
  {
   "cell_type": "markdown",
   "metadata": {
    "id": "uWtUFaJQ3Tuc"
   },
   "source": [
    "### Calcular los estadísticos  descriptivos del conjunto de testing\n"
   ]
  },
  {
   "cell_type": "code",
   "execution_count": 19,
   "metadata": {
    "id": "ok3jQTVt2-zI"
   },
   "outputs": [],
   "source": [
    "test_stats = tfdv.generate_statistics_from_dataframe(dataframe=test_set)"
   ]
  },
  {
   "cell_type": "markdown",
   "metadata": {
    "id": "6BnDXqiz3vy6"
   },
   "source": [
    "## Paso 4: Comparar estadísticos del conjunto de test con Schema"
   ]
  },
  {
   "cell_type": "markdown",
   "metadata": {
    "id": "kWlDe6VJ37ko"
   },
   "source": [
    "### Buscar anomalías en los nuevos datos"
   ]
  },
  {
   "cell_type": "code",
   "execution_count": 20,
   "metadata": {
    "id": "UAfRZBnL3qx3"
   },
   "outputs": [],
   "source": [
    "anomalies = tfdv.validate_statistics(statistics=test_stats, schema=schema)"
   ]
  },
  {
   "cell_type": "markdown",
   "metadata": {
    "id": "shY10N0N3_DD"
   },
   "source": [
    "### Mostrar todas las anomalías detectadas\n",
    "\n",
    "- Número entero mayor que  10\n",
    "- Tipo STRING cuando se esperaba un tipo INT\n",
    "- Tipo FLOAT cuando se esperaba un tipo INT\n",
    "- Número entero menor que 0"
   ]
  },
  {
   "cell_type": "code",
   "execution_count": 21,
   "metadata": {
    "colab": {
     "base_uri": "https://localhost:8080/",
     "height": 57
    },
    "id": "pexizEYr4Bqn",
    "outputId": "1ee49e70-5237-452e-9b81-18297420912a"
   },
   "outputs": [
    {
     "data": {
      "text/html": [
       "<h4 style=\"color:green;\">No anomalies found.</h4>"
      ],
      "text/plain": [
       "<IPython.core.display.HTML object>"
      ]
     },
     "metadata": {},
     "output_type": "display_data"
    }
   ],
   "source": [
    "tfdv.display_anomalies(anomalies)"
   ]
  },
  {
   "cell_type": "markdown",
   "metadata": {
    "id": "2aWeFdYQ4Cb5"
   },
   "source": [
    "### Nuevos datos CON anomalías"
   ]
  },
  {
   "cell_type": "code",
   "execution_count": 86,
   "metadata": {
    "id": "PQoDCrd04HK2"
   },
   "outputs": [],
   "source": [
    "test_set_copy = test_set.copy()"
   ]
  },
  {
   "cell_type": "code",
   "execution_count": 87,
   "metadata": {
    "id": "tldZL65465hm"
   },
   "outputs": [],
   "source": [
    "test_set_copy.drop(\"soot\", axis=1, inplace=True)"
   ]
  },
  {
   "cell_type": "code",
   "execution_count": 88,
   "metadata": {},
   "outputs": [],
   "source": [
    "test_set_copy[\"pm10\"] = \"Edmundo\""
   ]
  },
  {
   "cell_type": "code",
   "execution_count": 89,
   "metadata": {},
   "outputs": [
    {
     "data": {
      "text/plain": [
       "1600    Edmundo\n",
       "1601    Edmundo\n",
       "1602    Edmundo\n",
       "1603    Edmundo\n",
       "1604    Edmundo\n",
       "         ...   \n",
       "2183    Edmundo\n",
       "2184    Edmundo\n",
       "2185    Edmundo\n",
       "2186    Edmundo\n",
       "2187    Edmundo\n",
       "Name: pm10, Length: 588, dtype: object"
      ]
     },
     "execution_count": 89,
     "metadata": {},
     "output_type": "execute_result"
    }
   ],
   "source": [
    "test_set_copy['pm10']"
   ]
  },
  {
   "cell_type": "markdown",
   "metadata": {
    "id": "O6AbhtEY4Hp-"
   },
   "source": [
    "### Estadísticos basados en datos con anomalías"
   ]
  },
  {
   "cell_type": "code",
   "execution_count": 90,
   "metadata": {
    "id": "DNXMz0gD4Skv"
   },
   "outputs": [],
   "source": [
    "test_set_copy_stats = tfdv.generate_statistics_from_dataframe(dataframe=test_set_copy)#Toda la columna debe de tener el mismo tipo de datos"
   ]
  },
  {
   "cell_type": "code",
   "execution_count": 91,
   "metadata": {
    "id": "wJQS09K17XKf"
   },
   "outputs": [],
   "source": [
    "anomalies_new = tfdv.validate_statistics(statistics=test_set_copy_stats, schema=schema)"
   ]
  },
  {
   "cell_type": "code",
   "execution_count": 92,
   "metadata": {
    "colab": {
     "base_uri": "https://localhost:8080/",
     "height": 165
    },
    "id": "texSxcnO7h8Q",
    "outputId": "6b902d62-e961-4666-cf35-a40cc91a33d5"
   },
   "outputs": [
    {
     "data": {
      "text/html": [
       "<div>\n",
       "<style scoped>\n",
       "    .dataframe tbody tr th:only-of-type {\n",
       "        vertical-align: middle;\n",
       "    }\n",
       "\n",
       "    .dataframe tbody tr th {\n",
       "        vertical-align: top;\n",
       "    }\n",
       "\n",
       "    .dataframe thead th {\n",
       "        text-align: right;\n",
       "    }\n",
       "</style>\n",
       "<table border=\"1\" class=\"dataframe\">\n",
       "  <thead>\n",
       "    <tr style=\"text-align: right;\">\n",
       "      <th></th>\n",
       "      <th>Anomaly short description</th>\n",
       "      <th>Anomaly long description</th>\n",
       "    </tr>\n",
       "    <tr>\n",
       "      <th>Feature name</th>\n",
       "      <th></th>\n",
       "      <th></th>\n",
       "    </tr>\n",
       "  </thead>\n",
       "  <tbody>\n",
       "    <tr>\n",
       "      <th>'soot'</th>\n",
       "      <td>Column dropped</td>\n",
       "      <td>Column is completely missing</td>\n",
       "    </tr>\n",
       "    <tr>\n",
       "      <th>'pm10'</th>\n",
       "      <td>Unexpected data type</td>\n",
       "      <td>Expected data of type: FLOAT but got STRING</td>\n",
       "    </tr>\n",
       "  </tbody>\n",
       "</table>\n",
       "</div>"
      ],
      "text/plain": [
       "             Anomaly short description  \\\n",
       "Feature name                             \n",
       "'soot'                  Column dropped   \n",
       "'pm10'            Unexpected data type   \n",
       "\n",
       "                                 Anomaly long description  \n",
       "Feature name                                               \n",
       "'soot'                       Column is completely missing  \n",
       "'pm10'        Expected data of type: FLOAT but got STRING  "
      ]
     },
     "metadata": {},
     "output_type": "display_data"
    }
   ],
   "source": [
    "tfdv.display_anomalies(anomalies_new)"
   ]
  },
  {
   "cell_type": "markdown",
   "metadata": {
    "id": "IlrBt63h7_UB"
   },
   "source": [
    "## Paso 5: Preparar el esquema para subir a producción"
   ]
  },
  {
   "cell_type": "code",
   "execution_count": 93,
   "metadata": {
    "id": "MgWLB_TW8Epa"
   },
   "outputs": [],
   "source": [
    "schema.default_environment.append(\"TRAINING\")#Entorno de entrenamieto\n",
    "schema.default_environment.append(\"SERVING\")#Recoleccion de datos en el servidor "
   ]
  },
  {
   "cell_type": "markdown",
   "metadata": {
    "id": "BSuPxRpr8Cxg"
   },
   "source": [
    "### Eliminar la columna objetivo del esquema de producción"
   ]
  },
  {
   "cell_type": "code",
   "execution_count": 98,
   "metadata": {
    "id": "8_H9a7WD7l3A"
   },
   "outputs": [],
   "source": [
    "tfdv.get_feature(schema, \"soot\").not_in_environment.append(\"SERVING\")#Quitando soot del enviroment SERVING"
   ]
  },
  {
   "cell_type": "markdown",
   "metadata": {
    "id": "QonMtSXb8KWY"
   },
   "source": [
    "### Comprobar anomalías entre el entorno del servidor y nuevos datos entrantes"
   ]
  },
  {
   "cell_type": "code",
   "execution_count": 103,
   "metadata": {
    "id": "ZXdZ9tk58Rh_"
   },
   "outputs": [],
   "source": [
    "test_set_copy = test_set.copy()\n",
    "test_set_copy.drop(\"soot\", axis=1, inplace=True)\n",
    "test_set_copy_stats = tfdv.generate_statistics_from_dataframe(dataframe=test_set_copy)\n",
    "serving_env_anomalies = tfdv.validate_statistics(test_set_copy_stats, schema, environment=\"SERVING\")"
   ]
  },
  {
   "cell_type": "code",
   "execution_count": 104,
   "metadata": {
    "colab": {
     "base_uri": "https://localhost:8080/",
     "height": 57
    },
    "id": "05jDXv8o_J0O",
    "outputId": "67445f03-065b-4a1f-aacc-a21a7f9f6424"
   },
   "outputs": [
    {
     "data": {
      "text/html": [
       "<h4 style=\"color:green;\">No anomalies found.</h4>"
      ],
      "text/plain": [
       "<IPython.core.display.HTML object>"
      ]
     },
     "metadata": {},
     "output_type": "display_data"
    }
   ],
   "source": [
    "tfdv.display_anomalies(serving_env_anomalies)"
   ]
  },
  {
   "cell_type": "markdown",
   "metadata": {
    "id": "KFR3LpXSdlct"
   },
   "source": [
    "## Paso 6: Congelar el esquema"
   ]
  },
  {
   "cell_type": "code",
   "execution_count": 105,
   "metadata": {
    "id": "-Ok0E4AwzbH0"
   },
   "outputs": [],
   "source": [
    "tfdv.write_schema_text(schema = schema, output_path = \"pollution_schema.pbtxt\")#Para el server"
   ]
  },
  {
   "cell_type": "markdown",
   "metadata": {},
   "source": [
    "# More data"
   ]
  },
  {
   "cell_type": "markdown",
   "metadata": {},
   "source": [
    "Hemos visto mucho temario en esta sección - desde importar el dataset a crear un esquema de TensorFlow Data Validation que detecta anomalías en tiempo real en el servidor!\n",
    "\n",
    "Sin embargo, ¿ahora qué? ¿Qué hacemos después de guardar el esquema?\n",
    "\n",
    "TensorFlow Data Validation (TFDV) es una pequeña parte de una tecnología más general llamada TensorFlow Extended, que se ha creado para poder llevar todo un proyecto de deep learning desde su concepción hasta su puesta a punto en producción.\n",
    "\n",
    "El esquema que hemos guardado se puede usar de muchos modos. El más común sería junto con TensorFlow Transform, parte también de la librería TensorFlow Extended. Esta tecnología es muy útil para pipelines desde la recogida o minado del dato hasta su almacenamiento para análisis posterior, ya que TensorFlow Transform conoce el tipo de dato que espera basándose en las estadísticas generadas en el esquema.\n",
    "\n",
    "Hay también otra forma muy útil de usar el esquema creado, y es usando la visualización de datos antes del periodo de inferencia.\n",
    "\n",
    "Aquí un par de links adicionales donde podrás leer y aprender más acercan TFDV y cómo usarlo en implementaciones end-to-end:\n",
    "\n",
    "\n",
    "\n",
    "1. Un gran post del blog Towards Data Science donde se explica como usar la parte de visualización de datos de TFDV y el proceso ingenieril necesario en mucho más detalle:\n",
    "\n",
    "https://towardsdatascience.com/hands-on-tensorflow-data-validation-61e552f123d7\n",
    "\n",
    "\n",
    "\n",
    "2. Tutorial original de TensorFlow sobre como implementar el TFDV de principio hasta el fin:\n",
    "\n",
    "https://www.tensorflow.org/tfx/guide/tfdv\n",
    "\n",
    "\n",
    "\n",
    "3. TensorFlow Data Validation - Pipeline de validación de datos personalizada:\n",
    "\n",
    "https://www.tensorflow.org/tfx/data_validation/get_started"
   ]
  },
  {
   "cell_type": "code",
   "execution_count": null,
   "metadata": {},
   "outputs": [],
   "source": []
  }
 ],
 "metadata": {
  "accelerator": "GPU",
  "colab": {
   "collapsed_sections": [],
   "name": "Collab 9 - Validación de datos con TensorFlow Data Validation (TFDV).ipynb",
   "provenance": [],
   "toc_visible": true
  },
  "kernelspec": {
   "display_name": "Python 3 (ipykernel)",
   "language": "python",
   "name": "python3"
  },
  "language_info": {
   "codemirror_mode": {
    "name": "ipython",
    "version": 3
   },
   "file_extension": ".py",
   "mimetype": "text/x-python",
   "name": "python",
   "nbconvert_exporter": "python",
   "pygments_lexer": "ipython3",
   "version": "3.9.16"
  }
 },
 "nbformat": 4,
 "nbformat_minor": 1
}
